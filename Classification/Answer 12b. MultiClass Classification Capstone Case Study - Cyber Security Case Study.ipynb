{
 "cells": [
  {
   "cell_type": "code",
   "execution_count": 1,
   "id": "4c45a33e",
   "metadata": {},
   "outputs": [],
   "source": [
    "import pandas as pd\n",
    "import numpy as np\n",
    "import matplotlib.pyplot as plt\n",
    "import seaborn as sns\n"
   ]
  },
  {
   "cell_type": "code",
   "execution_count": 2,
   "id": "bb9e79ea",
   "metadata": {},
   "outputs": [],
   "source": [
    "from sklearn.model_selection import train_test_split\n",
    "from sklearn.linear_model import LogisticRegression\n",
    "from sklearn.metrics import accuracy_score,confusion_matrix\n",
    "from statsmodels.formula.api import logit\n",
    "from sklearn.metrics import roc_auc_score\n",
    "from sklearn.feature_selection import SelectKBest, f_classif\n",
    "from statsmodels.stats.outliers_influence import variance_inflation_factor\n",
    "from sklearn.metrics import classification_report\n",
    "from sklearn.model_selection import GridSearchCV\n",
    "from sklearn.metrics import roc_auc_score\n",
    "import imblearn.over_sampling as os\n",
    "from imblearn.over_sampling import RandomOverSampler\n",
    "from collections import Counter\n",
    "from sklearn.ensemble import RandomForestClassifier"
   ]
  },
  {
   "cell_type": "code",
   "execution_count": 3,
   "id": "e35b58ae",
   "metadata": {},
   "outputs": [],
   "source": [
    "from sklearn.tree import DecisionTreeClassifier, export_graphviz, export_text"
   ]
  },
  {
   "cell_type": "code",
   "execution_count": 4,
   "id": "63e2f90b",
   "metadata": {},
   "outputs": [],
   "source": [
    "import seaborn as sns"
   ]
  },
  {
   "cell_type": "code",
   "execution_count": 5,
   "id": "d269d803",
   "metadata": {},
   "outputs": [],
   "source": [
    "df=pd.read_csv('df.csv')"
   ]
  },
  {
   "cell_type": "markdown",
   "id": "dba9c950",
   "metadata": {},
   "source": [
    "<h1>Data Preparation"
   ]
  },
  {
   "cell_type": "code",
   "execution_count": 6,
   "id": "3f4239d8",
   "metadata": {},
   "outputs": [],
   "source": [
    "df=df.drop(columns='Unnamed: 0.1',axis='columns')\n",
    "df=df.drop(columns='Unnamed: 0',axis='columns')\n",
    "df=df.drop(columns='flag',axis='columns')"
   ]
  },
  {
   "cell_type": "code",
   "execution_count": 7,
   "id": "18bf2c6b",
   "metadata": {},
   "outputs": [
    {
     "data": {
      "text/plain": [
       "Index(['duration', 'protocol_type', 'service', 'src_bytes', 'dst_bytes',\n",
       "       'land', 'wrong_fragment', 'urgent', 'hot', 'num_failed_logins',\n",
       "       'logged_in', 'num_compromised', 'root_shell', 'su_attempted',\n",
       "       'num_root', 'num_file_creations', 'num_shells', 'num_access_files',\n",
       "       'num_outbound_cmds', 'is_host_login', 'is_guest_login', 'count',\n",
       "       'srv_count', 'serror_rate', 'srv_error_rate', 'rerror_rate',\n",
       "       'srv_rerror_rate', 'same_srv_rate', 'diff_srv_rate',\n",
       "       'srv_diff_host_rate', 'dst_host_count', 'dst_host_srv_count',\n",
       "       'dst_host_same_srv_rate', 'dst_host_diff_srv_rate',\n",
       "       'dst_host_same_src_port_rate', 'dst_host_srv_diff_host_rate',\n",
       "       'dst_host_serror_rate', 'dst_host_srv_serror_rate',\n",
       "       'dst_host_rerror_rate', 'dst_host_srv_rerror_rate', 'Attack'],\n",
       "      dtype='object')"
      ]
     },
     "execution_count": 7,
     "metadata": {},
     "output_type": "execute_result"
    }
   ],
   "source": [
    "df.columns"
   ]
  },
  {
   "cell_type": "code",
   "execution_count": 8,
   "id": "fc073e84",
   "metadata": {},
   "outputs": [],
   "source": [
    "df.plot?"
   ]
  },
  {
   "cell_type": "code",
   "execution_count": 9,
   "id": "b9bed0e7",
   "metadata": {
    "scrolled": true
   },
   "outputs": [
    {
     "data": {
      "text/html": [
       "<div>\n",
       "<style scoped>\n",
       "    .dataframe tbody tr th:only-of-type {\n",
       "        vertical-align: middle;\n",
       "    }\n",
       "\n",
       "    .dataframe tbody tr th {\n",
       "        vertical-align: top;\n",
       "    }\n",
       "\n",
       "    .dataframe thead th {\n",
       "        text-align: right;\n",
       "    }\n",
       "</style>\n",
       "<table border=\"1\" class=\"dataframe\">\n",
       "  <thead>\n",
       "    <tr style=\"text-align: right;\">\n",
       "      <th></th>\n",
       "      <th>duration</th>\n",
       "      <th>protocol_type</th>\n",
       "      <th>service</th>\n",
       "      <th>src_bytes</th>\n",
       "      <th>dst_bytes</th>\n",
       "      <th>land</th>\n",
       "      <th>wrong_fragment</th>\n",
       "      <th>urgent</th>\n",
       "      <th>hot</th>\n",
       "      <th>num_failed_logins</th>\n",
       "      <th>...</th>\n",
       "      <th>dst_host_count</th>\n",
       "      <th>dst_host_srv_count</th>\n",
       "      <th>dst_host_same_srv_rate</th>\n",
       "      <th>dst_host_diff_srv_rate</th>\n",
       "      <th>dst_host_same_src_port_rate</th>\n",
       "      <th>dst_host_srv_diff_host_rate</th>\n",
       "      <th>dst_host_serror_rate</th>\n",
       "      <th>dst_host_srv_serror_rate</th>\n",
       "      <th>dst_host_rerror_rate</th>\n",
       "      <th>dst_host_srv_rerror_rate</th>\n",
       "    </tr>\n",
       "  </thead>\n",
       "  <tbody>\n",
       "    <tr>\n",
       "      <th>count</th>\n",
       "      <td>817551.000000</td>\n",
       "      <td>817551.000000</td>\n",
       "      <td>817551.000000</td>\n",
       "      <td>817551.000000</td>\n",
       "      <td>817551.000000</td>\n",
       "      <td>817551.0</td>\n",
       "      <td>8.175510e+05</td>\n",
       "      <td>817551.000000</td>\n",
       "      <td>817551.000000</td>\n",
       "      <td>817551.000000</td>\n",
       "      <td>...</td>\n",
       "      <td>817551.000000</td>\n",
       "      <td>817551.000000</td>\n",
       "      <td>817551.000000</td>\n",
       "      <td>817551.000000</td>\n",
       "      <td>817551.000000</td>\n",
       "      <td>817551.000000</td>\n",
       "      <td>817551.000000</td>\n",
       "      <td>817551.000000</td>\n",
       "      <td>817551.000000</td>\n",
       "      <td>817551.000000</td>\n",
       "    </tr>\n",
       "    <tr>\n",
       "      <th>mean</th>\n",
       "      <td>0.000877</td>\n",
       "      <td>0.000570</td>\n",
       "      <td>0.052909</td>\n",
       "      <td>0.004961</td>\n",
       "      <td>0.024862</td>\n",
       "      <td>0.0</td>\n",
       "      <td>3.669496e-07</td>\n",
       "      <td>0.000003</td>\n",
       "      <td>0.002456</td>\n",
       "      <td>0.000016</td>\n",
       "      <td>...</td>\n",
       "      <td>0.166868</td>\n",
       "      <td>0.161651</td>\n",
       "      <td>0.066795</td>\n",
       "      <td>0.003380</td>\n",
       "      <td>0.006148</td>\n",
       "      <td>0.001683</td>\n",
       "      <td>0.024865</td>\n",
       "      <td>0.024852</td>\n",
       "      <td>0.005372</td>\n",
       "      <td>0.005279</td>\n",
       "    </tr>\n",
       "    <tr>\n",
       "      <th>std</th>\n",
       "      <td>0.026636</td>\n",
       "      <td>0.002596</td>\n",
       "      <td>0.096389</td>\n",
       "      <td>0.033235</td>\n",
       "      <td>0.066635</td>\n",
       "      <td>0.0</td>\n",
       "      <td>3.317904e-04</td>\n",
       "      <td>0.000805</td>\n",
       "      <td>0.041470</td>\n",
       "      <td>0.001618</td>\n",
       "      <td>...</td>\n",
       "      <td>0.102058</td>\n",
       "      <td>0.111642</td>\n",
       "      <td>0.043421</td>\n",
       "      <td>0.008557</td>\n",
       "      <td>0.017460</td>\n",
       "      <td>0.003708</td>\n",
       "      <td>0.043062</td>\n",
       "      <td>0.043151</td>\n",
       "      <td>0.021920</td>\n",
       "      <td>0.022070</td>\n",
       "    </tr>\n",
       "    <tr>\n",
       "      <th>min</th>\n",
       "      <td>0.000000</td>\n",
       "      <td>0.000000</td>\n",
       "      <td>0.000000</td>\n",
       "      <td>0.000000</td>\n",
       "      <td>0.000000</td>\n",
       "      <td>0.0</td>\n",
       "      <td>0.000000e+00</td>\n",
       "      <td>0.000000</td>\n",
       "      <td>0.000000</td>\n",
       "      <td>0.000000</td>\n",
       "      <td>...</td>\n",
       "      <td>0.000000</td>\n",
       "      <td>0.000000</td>\n",
       "      <td>0.000000</td>\n",
       "      <td>0.000000</td>\n",
       "      <td>0.000000</td>\n",
       "      <td>0.000000</td>\n",
       "      <td>0.000000</td>\n",
       "      <td>0.000000</td>\n",
       "      <td>0.000000</td>\n",
       "      <td>0.000000</td>\n",
       "    </tr>\n",
       "    <tr>\n",
       "      <th>25%</th>\n",
       "      <td>0.000000</td>\n",
       "      <td>0.000000</td>\n",
       "      <td>0.000000</td>\n",
       "      <td>0.000000</td>\n",
       "      <td>0.000000</td>\n",
       "      <td>0.0</td>\n",
       "      <td>0.000000e+00</td>\n",
       "      <td>0.000000</td>\n",
       "      <td>0.000000</td>\n",
       "      <td>0.000000</td>\n",
       "      <td>...</td>\n",
       "      <td>0.054000</td>\n",
       "      <td>0.017000</td>\n",
       "      <td>0.007000</td>\n",
       "      <td>0.000000</td>\n",
       "      <td>0.000000</td>\n",
       "      <td>0.000000</td>\n",
       "      <td>0.000000</td>\n",
       "      <td>0.000000</td>\n",
       "      <td>0.000000</td>\n",
       "      <td>0.000000</td>\n",
       "    </tr>\n",
       "    <tr>\n",
       "      <th>50%</th>\n",
       "      <td>0.000000</td>\n",
       "      <td>0.000000</td>\n",
       "      <td>0.000000</td>\n",
       "      <td>0.002170</td>\n",
       "      <td>0.003670</td>\n",
       "      <td>0.0</td>\n",
       "      <td>0.000000e+00</td>\n",
       "      <td>0.000000</td>\n",
       "      <td>0.000000</td>\n",
       "      <td>0.000000</td>\n",
       "      <td>...</td>\n",
       "      <td>0.255000</td>\n",
       "      <td>0.255000</td>\n",
       "      <td>0.100000</td>\n",
       "      <td>0.000000</td>\n",
       "      <td>0.000000</td>\n",
       "      <td>0.000000</td>\n",
       "      <td>0.000000</td>\n",
       "      <td>0.000000</td>\n",
       "      <td>0.000000</td>\n",
       "      <td>0.000000</td>\n",
       "    </tr>\n",
       "    <tr>\n",
       "      <th>75%</th>\n",
       "      <td>0.000000</td>\n",
       "      <td>0.000000</td>\n",
       "      <td>0.120000</td>\n",
       "      <td>0.002990</td>\n",
       "      <td>0.019690</td>\n",
       "      <td>0.0</td>\n",
       "      <td>0.000000e+00</td>\n",
       "      <td>0.000000</td>\n",
       "      <td>0.000000</td>\n",
       "      <td>0.000000</td>\n",
       "      <td>...</td>\n",
       "      <td>0.255000</td>\n",
       "      <td>0.255000</td>\n",
       "      <td>0.100000</td>\n",
       "      <td>0.006000</td>\n",
       "      <td>0.003000</td>\n",
       "      <td>0.002000</td>\n",
       "      <td>0.014000</td>\n",
       "      <td>0.003000</td>\n",
       "      <td>0.000000</td>\n",
       "      <td>0.000000</td>\n",
       "    </tr>\n",
       "    <tr>\n",
       "      <th>max</th>\n",
       "      <td>1.000000</td>\n",
       "      <td>0.020000</td>\n",
       "      <td>0.670000</td>\n",
       "      <td>1.000000</td>\n",
       "      <td>1.000000</td>\n",
       "      <td>0.0</td>\n",
       "      <td>3.000000e-01</td>\n",
       "      <td>0.500000</td>\n",
       "      <td>1.000000</td>\n",
       "      <td>0.500000</td>\n",
       "      <td>...</td>\n",
       "      <td>0.255000</td>\n",
       "      <td>0.255000</td>\n",
       "      <td>0.100000</td>\n",
       "      <td>0.100000</td>\n",
       "      <td>0.100000</td>\n",
       "      <td>0.100000</td>\n",
       "      <td>0.100000</td>\n",
       "      <td>0.100000</td>\n",
       "      <td>0.100000</td>\n",
       "      <td>0.100000</td>\n",
       "    </tr>\n",
       "  </tbody>\n",
       "</table>\n",
       "<p>8 rows × 40 columns</p>\n",
       "</div>"
      ],
      "text/plain": [
       "            duration  protocol_type        service      src_bytes  \\\n",
       "count  817551.000000  817551.000000  817551.000000  817551.000000   \n",
       "mean        0.000877       0.000570       0.052909       0.004961   \n",
       "std         0.026636       0.002596       0.096389       0.033235   \n",
       "min         0.000000       0.000000       0.000000       0.000000   \n",
       "25%         0.000000       0.000000       0.000000       0.000000   \n",
       "50%         0.000000       0.000000       0.000000       0.002170   \n",
       "75%         0.000000       0.000000       0.120000       0.002990   \n",
       "max         1.000000       0.020000       0.670000       1.000000   \n",
       "\n",
       "           dst_bytes      land  wrong_fragment         urgent            hot  \\\n",
       "count  817551.000000  817551.0    8.175510e+05  817551.000000  817551.000000   \n",
       "mean        0.024862       0.0    3.669496e-07       0.000003       0.002456   \n",
       "std         0.066635       0.0    3.317904e-04       0.000805       0.041470   \n",
       "min         0.000000       0.0    0.000000e+00       0.000000       0.000000   \n",
       "25%         0.000000       0.0    0.000000e+00       0.000000       0.000000   \n",
       "50%         0.003670       0.0    0.000000e+00       0.000000       0.000000   \n",
       "75%         0.019690       0.0    0.000000e+00       0.000000       0.000000   \n",
       "max         1.000000       0.0    3.000000e-01       0.500000       1.000000   \n",
       "\n",
       "       num_failed_logins  ...  dst_host_count  dst_host_srv_count  \\\n",
       "count      817551.000000  ...   817551.000000       817551.000000   \n",
       "mean            0.000016  ...        0.166868            0.161651   \n",
       "std             0.001618  ...        0.102058            0.111642   \n",
       "min             0.000000  ...        0.000000            0.000000   \n",
       "25%             0.000000  ...        0.054000            0.017000   \n",
       "50%             0.000000  ...        0.255000            0.255000   \n",
       "75%             0.000000  ...        0.255000            0.255000   \n",
       "max             0.500000  ...        0.255000            0.255000   \n",
       "\n",
       "       dst_host_same_srv_rate  dst_host_diff_srv_rate  \\\n",
       "count           817551.000000           817551.000000   \n",
       "mean                 0.066795                0.003380   \n",
       "std                  0.043421                0.008557   \n",
       "min                  0.000000                0.000000   \n",
       "25%                  0.007000                0.000000   \n",
       "50%                  0.100000                0.000000   \n",
       "75%                  0.100000                0.006000   \n",
       "max                  0.100000                0.100000   \n",
       "\n",
       "       dst_host_same_src_port_rate  dst_host_srv_diff_host_rate  \\\n",
       "count                817551.000000                817551.000000   \n",
       "mean                      0.006148                     0.001683   \n",
       "std                       0.017460                     0.003708   \n",
       "min                       0.000000                     0.000000   \n",
       "25%                       0.000000                     0.000000   \n",
       "50%                       0.000000                     0.000000   \n",
       "75%                       0.003000                     0.002000   \n",
       "max                       0.100000                     0.100000   \n",
       "\n",
       "       dst_host_serror_rate  dst_host_srv_serror_rate  dst_host_rerror_rate  \\\n",
       "count         817551.000000             817551.000000         817551.000000   \n",
       "mean               0.024865                  0.024852              0.005372   \n",
       "std                0.043062                  0.043151              0.021920   \n",
       "min                0.000000                  0.000000              0.000000   \n",
       "25%                0.000000                  0.000000              0.000000   \n",
       "50%                0.000000                  0.000000              0.000000   \n",
       "75%                0.014000                  0.003000              0.000000   \n",
       "max                0.100000                  0.100000              0.100000   \n",
       "\n",
       "       dst_host_srv_rerror_rate  \n",
       "count             817551.000000  \n",
       "mean                   0.005279  \n",
       "std                    0.022070  \n",
       "min                    0.000000  \n",
       "25%                    0.000000  \n",
       "50%                    0.000000  \n",
       "75%                    0.000000  \n",
       "max                    0.100000  \n",
       "\n",
       "[8 rows x 40 columns]"
      ]
     },
     "execution_count": 9,
     "metadata": {},
     "output_type": "execute_result"
    }
   ],
   "source": [
    "df.describe()"
   ]
  },
  {
   "cell_type": "code",
   "execution_count": null,
   "id": "aae805ea",
   "metadata": {},
   "outputs": [],
   "source": []
  },
  {
   "cell_type": "markdown",
   "id": "0b63d7eb",
   "metadata": {},
   "source": [
    "<h1>Data Manipulation"
   ]
  },
  {
   "cell_type": "code",
   "execution_count": 10,
   "id": "3f758bc8",
   "metadata": {},
   "outputs": [
    {
     "name": "stderr",
     "output_type": "stream",
     "text": [
      "C:\\Users\\VVLG\\anaconda3\\lib\\site-packages\\seaborn\\_decorators.py:36: FutureWarning: Pass the following variable as a keyword arg: x. From version 0.12, the only valid positional argument will be `data`, and passing other arguments without an explicit keyword will result in an error or misinterpretation.\n",
      "  warnings.warn(\n"
     ]
    },
    {
     "data": {
      "text/plain": [
       "<AxesSubplot:xlabel='service'>"
      ]
     },
     "execution_count": 10,
     "metadata": {},
     "output_type": "execute_result"
    },
    {
     "data": {
      "image/png": "[encoded data removed]",
      "text/plain": [
       "<Figure size 432x288 with 1 Axes>"
      ]
     },
     "metadata": {
      "needs_background": "light"
     },
     "output_type": "display_data"
    }
   ],
   "source": [
    "sns.boxplot(df.service)"
   ]
  },
  {
   "cell_type": "code",
   "execution_count": 11,
   "id": "c7e83aa8",
   "metadata": {},
   "outputs": [
    {
     "name": "stdout",
     "output_type": "stream",
     "text": [
      "75\n",
      "service                     0.120\n",
      "logged_in                   0.100\n",
      "count                       0.106\n",
      "serror_rate                 0.015\n",
      "srv_error_rate              0.017\n",
      "same_srv_rate               0.100\n",
      "dst_host_srv_count          0.255\n",
      "dst_host_same_srv_rate      0.100\n",
      "dst_host_diff_srv_rate      0.006\n",
      "dst_host_serror_rate        0.014\n",
      "dst_host_srv_serror_rate    0.003\n",
      "Name: 0.75, dtype: float64\n",
      "----------------------------------\n",
      "99\n",
      "service                     0.530\n",
      "logged_in                   0.100\n",
      "count                       0.296\n",
      "serror_rate                 0.100\n",
      "srv_error_rate              0.100\n",
      "same_srv_rate               0.100\n",
      "dst_host_srv_count          0.255\n",
      "dst_host_same_srv_rate      0.100\n",
      "dst_host_diff_srv_rate      0.040\n",
      "dst_host_serror_rate        0.100\n",
      "dst_host_srv_serror_rate    0.100\n",
      "Name: 0.99, dtype: float64\n",
      "----------------------------------\n",
      "Max\n",
      "service                     0.670\n",
      "logged_in                   0.100\n",
      "count                       0.511\n",
      "serror_rate                 0.100\n",
      "srv_error_rate              0.100\n",
      "same_srv_rate               0.100\n",
      "dst_host_srv_count          0.255\n",
      "dst_host_same_srv_rate      0.100\n",
      "dst_host_diff_srv_rate      0.100\n",
      "dst_host_serror_rate        0.100\n",
      "dst_host_srv_serror_rate    0.100\n",
      "dtype: float64\n"
     ]
    }
   ],
   "source": [
    "print('75')\n",
    "print(df.loc[:,['service','logged_in','count','serror_rate','srv_error_rate','same_srv_rate','dst_host_srv_count','dst_host_same_srv_rate','dst_host_diff_srv_rate','dst_host_serror_rate','dst_host_srv_serror_rate']].quantile(0.75))\n",
    "print('----------------------------------')\n",
    "print('99')\n",
    "print(df.loc[:,['service','logged_in','count','serror_rate','srv_error_rate','same_srv_rate','dst_host_srv_count','dst_host_same_srv_rate','dst_host_diff_srv_rate','dst_host_serror_rate','dst_host_srv_serror_rate']].quantile(0.99))\n",
    "print('----------------------------------')\n",
    "print('Max')\n",
    "print(df.loc[:,['service','logged_in','count','serror_rate','srv_error_rate','same_srv_rate','dst_host_srv_count','dst_host_same_srv_rate','dst_host_diff_srv_rate','dst_host_serror_rate','dst_host_srv_serror_rate']].max())"
   ]
  },
  {
   "cell_type": "code",
   "execution_count": 12,
   "id": "3ff02a81",
   "metadata": {},
   "outputs": [],
   "source": [
    "def outlier_func(x):\n",
    "    if ((x.dtype=='float64') or (x.dtype=='int')):\n",
    "        x=x.clip(lower=x.quantile(0.01),upper=x.quantile(0.99))\n",
    "    else:\n",
    "        x\n",
    "    return x"
   ]
  },
  {
   "cell_type": "code",
   "execution_count": 13,
   "id": "6b4f31e8",
   "metadata": {},
   "outputs": [],
   "source": [
    "df=df.apply(outlier_func)"
   ]
  },
  {
   "cell_type": "code",
   "execution_count": 14,
   "id": "c0659811",
   "metadata": {},
   "outputs": [
    {
     "name": "stdout",
     "output_type": "stream",
     "text": [
      "75\n",
      "service                     0.120\n",
      "logged_in                   0.100\n",
      "count                       0.106\n",
      "serror_rate                 0.015\n",
      "srv_error_rate              0.017\n",
      "same_srv_rate               0.100\n",
      "dst_host_srv_count          0.255\n",
      "dst_host_same_srv_rate      0.100\n",
      "dst_host_diff_srv_rate      0.006\n",
      "dst_host_serror_rate        0.014\n",
      "dst_host_srv_serror_rate    0.003\n",
      "Name: 0.75, dtype: float64\n",
      "----------------------------------\n",
      "99\n",
      "service                     0.530\n",
      "logged_in                   0.100\n",
      "count                       0.296\n",
      "serror_rate                 0.100\n",
      "srv_error_rate              0.100\n",
      "same_srv_rate               0.100\n",
      "dst_host_srv_count          0.255\n",
      "dst_host_same_srv_rate      0.100\n",
      "dst_host_diff_srv_rate      0.040\n",
      "dst_host_serror_rate        0.100\n",
      "dst_host_srv_serror_rate    0.100\n",
      "Name: 0.99, dtype: float64\n",
      "----------------------------------\n",
      "Max\n",
      "service                     0.530\n",
      "logged_in                   0.100\n",
      "count                       0.296\n",
      "serror_rate                 0.100\n",
      "srv_error_rate              0.100\n",
      "same_srv_rate               0.100\n",
      "dst_host_srv_count          0.255\n",
      "dst_host_same_srv_rate      0.100\n",
      "dst_host_diff_srv_rate      0.040\n",
      "dst_host_serror_rate        0.100\n",
      "dst_host_srv_serror_rate    0.100\n",
      "dtype: float64\n"
     ]
    }
   ],
   "source": [
    "print('75')\n",
    "print(df.loc[:,['service','logged_in','count','serror_rate','srv_error_rate','same_srv_rate','dst_host_srv_count','dst_host_same_srv_rate','dst_host_diff_srv_rate','dst_host_serror_rate','dst_host_srv_serror_rate']].quantile(0.75))\n",
    "print('----------------------------------')\n",
    "print('99')\n",
    "print(df.loc[:,['service','logged_in','count','serror_rate','srv_error_rate','same_srv_rate','dst_host_srv_count','dst_host_same_srv_rate','dst_host_diff_srv_rate','dst_host_serror_rate','dst_host_srv_serror_rate']].quantile(0.99))\n",
    "print('----------------------------------')\n",
    "print('Max')\n",
    "print(df.loc[:,['service','logged_in','count','serror_rate','srv_error_rate','same_srv_rate','dst_host_srv_count','dst_host_same_srv_rate','dst_host_diff_srv_rate','dst_host_serror_rate','dst_host_srv_serror_rate']].max())"
   ]
  },
  {
   "cell_type": "code",
   "execution_count": 15,
   "id": "276ee372",
   "metadata": {},
   "outputs": [
    {
     "name": "stderr",
     "output_type": "stream",
     "text": [
      "C:\\Users\\VVLG\\anaconda3\\lib\\site-packages\\seaborn\\_decorators.py:36: FutureWarning: Pass the following variable as a keyword arg: x. From version 0.12, the only valid positional argument will be `data`, and passing other arguments without an explicit keyword will result in an error or misinterpretation.\n",
      "  warnings.warn(\n"
     ]
    },
    {
     "data": {
      "text/plain": [
       "<AxesSubplot:xlabel='service'>"
      ]
     },
     "execution_count": 15,
     "metadata": {},
     "output_type": "execute_result"
    },
    {
     "data": {
      "image/png": "[encoded data removed]",
      "text/plain": [
       "<Figure size 432x288 with 1 Axes>"
      ]
     },
     "metadata": {
      "needs_background": "light"
     },
     "output_type": "display_data"
    }
   ],
   "source": [
    "sns.boxplot(df.service)"
   ]
  },
  {
   "cell_type": "markdown",
   "id": "8fd8a1c6",
   "metadata": {},
   "source": [
    "df['service','logged_in','count','serror_rate','srv_error_rate','same_srv_rate','dst_host_srv_count','dst_host_same_srv_rate','dst_host_diff_srv_rate','dst_host_serror_rate','dst_host_srv_serror_rate'].plot"
   ]
  },
  {
   "cell_type": "code",
   "execution_count": 16,
   "id": "086d3af6",
   "metadata": {},
   "outputs": [
    {
     "data": {
      "text/plain": [
       "array(['Back', 'BufferOverflow', 'FTPWrite', 'GuessPassword', 'NMap',\n",
       "       'Neptune', 'Normal', 'PortSweep', 'RootKit', 'Satan', 'Smurf'],\n",
       "      dtype=object)"
      ]
     },
     "execution_count": 16,
     "metadata": {},
     "output_type": "execute_result"
    }
   ],
   "source": [
    "df.Attack.unique()"
   ]
  },
  {
   "cell_type": "code",
   "execution_count": 17,
   "id": "7c21a19b",
   "metadata": {},
   "outputs": [],
   "source": [
    "np.where?"
   ]
  },
  {
   "cell_type": "code",
   "execution_count": 18,
   "id": "a0e58e28",
   "metadata": {},
   "outputs": [],
   "source": [
    "df['Attack_Val']=np.nan"
   ]
  },
  {
   "cell_type": "code",
   "execution_count": 19,
   "id": "2871fd64",
   "metadata": {},
   "outputs": [],
   "source": [
    "df['Attack_Val']=np.where(df.Attack=='Back',2,df.Attack_Val)\n",
    "df['Attack_Val']=np.where(df.Attack=='BufferOverflow',3,df.Attack_Val)\n",
    "df['Attack_Val']=np.where(df.Attack=='FTPWrite',4,df.Attack_Val)\n",
    "df['Attack_Val']=np.where(df.Attack=='GuessPassword',5,df.Attack_Val)\n",
    "df['Attack_Val']=np.where(df.Attack=='NMap',6,df.Attack_Val)\n",
    "df['Attack_Val']=np.where(df.Attack=='Neptune',7,df.Attack_Val)\n",
    "df['Attack_Val']=np.where(df.Attack=='Normal',1,df.Attack_Val)\n",
    "df['Attack_Val']=np.where(df.Attack=='PortSweep',8,df.Attack_Val)\n",
    "df['Attack_Val']=np.where(df.Attack=='RootKit',9,df.Attack_Val)\n",
    "df['Attack_Val']=np.where(df.Attack=='Satan',10,df.Attack_Val)\n",
    "df['Attack_Val']=np.where(df.Attack=='Smurf',11,df.Attack_Val)"
   ]
  },
  {
   "cell_type": "code",
   "execution_count": 20,
   "id": "796955e7",
   "metadata": {},
   "outputs": [
    {
     "data": {
      "text/plain": [
       "817551"
      ]
     },
     "execution_count": 20,
     "metadata": {},
     "output_type": "execute_result"
    }
   ],
   "source": [
    "df.shape[0]"
   ]
  },
  {
   "cell_type": "code",
   "execution_count": 21,
   "id": "0d66cb2a",
   "metadata": {},
   "outputs": [
    {
     "data": {
      "text/plain": [
       "1.0     576710\n",
       "7.0     227228\n",
       "10.0      5019\n",
       "11.0      3007\n",
       "8.0       2964\n",
       "6.0       1554\n",
       "2.0        968\n",
       "5.0         53\n",
       "3.0         30\n",
       "9.0         10\n",
       "4.0          8\n",
       "Name: Attack_Val, dtype: int64"
      ]
     },
     "execution_count": 21,
     "metadata": {},
     "output_type": "execute_result"
    }
   ],
   "source": [
    "df.Attack_Val.value_counts()"
   ]
  },
  {
   "cell_type": "code",
   "execution_count": 22,
   "id": "a29abd19",
   "metadata": {},
   "outputs": [
    {
     "data": {
      "text/plain": [
       "array([ 2.,  3.,  4.,  5.,  6.,  7.,  1.,  8.,  9., 10., 11.])"
      ]
     },
     "execution_count": 22,
     "metadata": {},
     "output_type": "execute_result"
    }
   ],
   "source": [
    "df.Attack_Val.unique()"
   ]
  },
  {
   "cell_type": "code",
   "execution_count": 23,
   "id": "f0a8d725",
   "metadata": {},
   "outputs": [],
   "source": [
    "X=df.drop(columns=['Attack_Val'],axis='columns')\n",
    "X.drop(columns=['Attack'],inplace=True)\n",
    "Y=df['Attack_Val']"
   ]
  },
  {
   "cell_type": "code",
   "execution_count": 24,
   "id": "1a5ecdde",
   "metadata": {},
   "outputs": [
    {
     "data": {
      "text/html": [
       "<div>\n",
       "<style scoped>\n",
       "    .dataframe tbody tr th:only-of-type {\n",
       "        vertical-align: middle;\n",
       "    }\n",
       "\n",
       "    .dataframe tbody tr th {\n",
       "        vertical-align: top;\n",
       "    }\n",
       "\n",
       "    .dataframe thead th {\n",
       "        text-align: right;\n",
       "    }\n",
       "</style>\n",
       "<table border=\"1\" class=\"dataframe\">\n",
       "  <thead>\n",
       "    <tr style=\"text-align: right;\">\n",
       "      <th></th>\n",
       "      <th>duration</th>\n",
       "      <th>protocol_type</th>\n",
       "      <th>service</th>\n",
       "      <th>src_bytes</th>\n",
       "      <th>dst_bytes</th>\n",
       "      <th>land</th>\n",
       "      <th>wrong_fragment</th>\n",
       "      <th>urgent</th>\n",
       "      <th>hot</th>\n",
       "      <th>num_failed_logins</th>\n",
       "      <th>...</th>\n",
       "      <th>dst_host_count</th>\n",
       "      <th>dst_host_srv_count</th>\n",
       "      <th>dst_host_same_srv_rate</th>\n",
       "      <th>dst_host_diff_srv_rate</th>\n",
       "      <th>dst_host_same_src_port_rate</th>\n",
       "      <th>dst_host_srv_diff_host_rate</th>\n",
       "      <th>dst_host_serror_rate</th>\n",
       "      <th>dst_host_srv_serror_rate</th>\n",
       "      <th>dst_host_rerror_rate</th>\n",
       "      <th>dst_host_srv_rerror_rate</th>\n",
       "    </tr>\n",
       "  </thead>\n",
       "  <tbody>\n",
       "    <tr>\n",
       "      <th>0</th>\n",
       "      <td>0.0</td>\n",
       "      <td>0.00</td>\n",
       "      <td>0.00</td>\n",
       "      <td>0.07012</td>\n",
       "      <td>0.08314</td>\n",
       "      <td>0</td>\n",
       "      <td>0.0</td>\n",
       "      <td>0.0</td>\n",
       "      <td>0.0</td>\n",
       "      <td>0.0</td>\n",
       "      <td>...</td>\n",
       "      <td>0.001</td>\n",
       "      <td>0.001</td>\n",
       "      <td>0.100</td>\n",
       "      <td>0.000</td>\n",
       "      <td>0.100</td>\n",
       "      <td>0.0</td>\n",
       "      <td>0.0</td>\n",
       "      <td>0.0</td>\n",
       "      <td>0.0</td>\n",
       "      <td>0.0</td>\n",
       "    </tr>\n",
       "    <tr>\n",
       "      <th>1</th>\n",
       "      <td>0.0</td>\n",
       "      <td>0.00</td>\n",
       "      <td>0.00</td>\n",
       "      <td>0.07012</td>\n",
       "      <td>0.08314</td>\n",
       "      <td>0</td>\n",
       "      <td>0.0</td>\n",
       "      <td>0.0</td>\n",
       "      <td>0.0</td>\n",
       "      <td>0.0</td>\n",
       "      <td>...</td>\n",
       "      <td>0.002</td>\n",
       "      <td>0.002</td>\n",
       "      <td>0.100</td>\n",
       "      <td>0.000</td>\n",
       "      <td>0.050</td>\n",
       "      <td>0.0</td>\n",
       "      <td>0.0</td>\n",
       "      <td>0.0</td>\n",
       "      <td>0.0</td>\n",
       "      <td>0.0</td>\n",
       "    </tr>\n",
       "    <tr>\n",
       "      <th>2</th>\n",
       "      <td>0.0</td>\n",
       "      <td>0.00</td>\n",
       "      <td>0.00</td>\n",
       "      <td>0.07012</td>\n",
       "      <td>0.08314</td>\n",
       "      <td>0</td>\n",
       "      <td>0.0</td>\n",
       "      <td>0.0</td>\n",
       "      <td>0.0</td>\n",
       "      <td>0.0</td>\n",
       "      <td>...</td>\n",
       "      <td>0.003</td>\n",
       "      <td>0.003</td>\n",
       "      <td>0.100</td>\n",
       "      <td>0.000</td>\n",
       "      <td>0.033</td>\n",
       "      <td>0.0</td>\n",
       "      <td>0.0</td>\n",
       "      <td>0.0</td>\n",
       "      <td>0.0</td>\n",
       "      <td>0.0</td>\n",
       "    </tr>\n",
       "    <tr>\n",
       "      <th>3</th>\n",
       "      <td>0.0</td>\n",
       "      <td>0.00</td>\n",
       "      <td>0.00</td>\n",
       "      <td>0.07012</td>\n",
       "      <td>0.08314</td>\n",
       "      <td>0</td>\n",
       "      <td>0.0</td>\n",
       "      <td>0.0</td>\n",
       "      <td>0.0</td>\n",
       "      <td>0.0</td>\n",
       "      <td>...</td>\n",
       "      <td>0.004</td>\n",
       "      <td>0.004</td>\n",
       "      <td>0.100</td>\n",
       "      <td>0.000</td>\n",
       "      <td>0.025</td>\n",
       "      <td>0.0</td>\n",
       "      <td>0.0</td>\n",
       "      <td>0.0</td>\n",
       "      <td>0.0</td>\n",
       "      <td>0.0</td>\n",
       "    </tr>\n",
       "    <tr>\n",
       "      <th>4</th>\n",
       "      <td>0.0</td>\n",
       "      <td>0.00</td>\n",
       "      <td>0.00</td>\n",
       "      <td>0.07012</td>\n",
       "      <td>0.08314</td>\n",
       "      <td>0</td>\n",
       "      <td>0.0</td>\n",
       "      <td>0.0</td>\n",
       "      <td>0.0</td>\n",
       "      <td>0.0</td>\n",
       "      <td>...</td>\n",
       "      <td>0.005</td>\n",
       "      <td>0.005</td>\n",
       "      <td>0.100</td>\n",
       "      <td>0.000</td>\n",
       "      <td>0.020</td>\n",
       "      <td>0.0</td>\n",
       "      <td>0.0</td>\n",
       "      <td>0.0</td>\n",
       "      <td>0.0</td>\n",
       "      <td>0.0</td>\n",
       "    </tr>\n",
       "    <tr>\n",
       "      <th>...</th>\n",
       "      <td>...</td>\n",
       "      <td>...</td>\n",
       "      <td>...</td>\n",
       "      <td>...</td>\n",
       "      <td>...</td>\n",
       "      <td>...</td>\n",
       "      <td>...</td>\n",
       "      <td>...</td>\n",
       "      <td>...</td>\n",
       "      <td>...</td>\n",
       "      <td>...</td>\n",
       "      <td>...</td>\n",
       "      <td>...</td>\n",
       "      <td>...</td>\n",
       "      <td>...</td>\n",
       "      <td>...</td>\n",
       "      <td>...</td>\n",
       "      <td>...</td>\n",
       "      <td>...</td>\n",
       "      <td>...</td>\n",
       "      <td>...</td>\n",
       "    </tr>\n",
       "    <tr>\n",
       "      <th>817546</th>\n",
       "      <td>0.0</td>\n",
       "      <td>0.01</td>\n",
       "      <td>0.09</td>\n",
       "      <td>0.01032</td>\n",
       "      <td>0.00000</td>\n",
       "      <td>0</td>\n",
       "      <td>0.0</td>\n",
       "      <td>0.0</td>\n",
       "      <td>0.0</td>\n",
       "      <td>0.0</td>\n",
       "      <td>...</td>\n",
       "      <td>0.255</td>\n",
       "      <td>0.251</td>\n",
       "      <td>0.098</td>\n",
       "      <td>0.001</td>\n",
       "      <td>0.098</td>\n",
       "      <td>0.0</td>\n",
       "      <td>0.0</td>\n",
       "      <td>0.0</td>\n",
       "      <td>0.0</td>\n",
       "      <td>0.0</td>\n",
       "    </tr>\n",
       "    <tr>\n",
       "      <th>817547</th>\n",
       "      <td>0.0</td>\n",
       "      <td>0.01</td>\n",
       "      <td>0.09</td>\n",
       "      <td>0.01032</td>\n",
       "      <td>0.00000</td>\n",
       "      <td>0</td>\n",
       "      <td>0.0</td>\n",
       "      <td>0.0</td>\n",
       "      <td>0.0</td>\n",
       "      <td>0.0</td>\n",
       "      <td>...</td>\n",
       "      <td>0.255</td>\n",
       "      <td>0.252</td>\n",
       "      <td>0.099</td>\n",
       "      <td>0.001</td>\n",
       "      <td>0.099</td>\n",
       "      <td>0.0</td>\n",
       "      <td>0.0</td>\n",
       "      <td>0.0</td>\n",
       "      <td>0.0</td>\n",
       "      <td>0.0</td>\n",
       "    </tr>\n",
       "    <tr>\n",
       "      <th>817548</th>\n",
       "      <td>0.0</td>\n",
       "      <td>0.01</td>\n",
       "      <td>0.09</td>\n",
       "      <td>0.01032</td>\n",
       "      <td>0.00000</td>\n",
       "      <td>0</td>\n",
       "      <td>0.0</td>\n",
       "      <td>0.0</td>\n",
       "      <td>0.0</td>\n",
       "      <td>0.0</td>\n",
       "      <td>...</td>\n",
       "      <td>0.255</td>\n",
       "      <td>0.253</td>\n",
       "      <td>0.099</td>\n",
       "      <td>0.001</td>\n",
       "      <td>0.099</td>\n",
       "      <td>0.0</td>\n",
       "      <td>0.0</td>\n",
       "      <td>0.0</td>\n",
       "      <td>0.0</td>\n",
       "      <td>0.0</td>\n",
       "    </tr>\n",
       "    <tr>\n",
       "      <th>817549</th>\n",
       "      <td>0.0</td>\n",
       "      <td>0.01</td>\n",
       "      <td>0.09</td>\n",
       "      <td>0.01032</td>\n",
       "      <td>0.00000</td>\n",
       "      <td>0</td>\n",
       "      <td>0.0</td>\n",
       "      <td>0.0</td>\n",
       "      <td>0.0</td>\n",
       "      <td>0.0</td>\n",
       "      <td>...</td>\n",
       "      <td>0.255</td>\n",
       "      <td>0.254</td>\n",
       "      <td>0.100</td>\n",
       "      <td>0.001</td>\n",
       "      <td>0.100</td>\n",
       "      <td>0.0</td>\n",
       "      <td>0.0</td>\n",
       "      <td>0.0</td>\n",
       "      <td>0.0</td>\n",
       "      <td>0.0</td>\n",
       "    </tr>\n",
       "    <tr>\n",
       "      <th>817550</th>\n",
       "      <td>0.0</td>\n",
       "      <td>0.01</td>\n",
       "      <td>0.12</td>\n",
       "      <td>0.00028</td>\n",
       "      <td>0.00000</td>\n",
       "      <td>0</td>\n",
       "      <td>0.0</td>\n",
       "      <td>0.0</td>\n",
       "      <td>0.0</td>\n",
       "      <td>0.0</td>\n",
       "      <td>...</td>\n",
       "      <td>0.255</td>\n",
       "      <td>0.001</td>\n",
       "      <td>0.000</td>\n",
       "      <td>0.001</td>\n",
       "      <td>0.000</td>\n",
       "      <td>0.0</td>\n",
       "      <td>0.0</td>\n",
       "      <td>0.0</td>\n",
       "      <td>0.0</td>\n",
       "      <td>0.0</td>\n",
       "    </tr>\n",
       "  </tbody>\n",
       "</table>\n",
       "<p>817551 rows × 40 columns</p>\n",
       "</div>"
      ],
      "text/plain": [
       "        duration  protocol_type  service  src_bytes  dst_bytes  land  \\\n",
       "0            0.0           0.00     0.00    0.07012    0.08314     0   \n",
       "1            0.0           0.00     0.00    0.07012    0.08314     0   \n",
       "2            0.0           0.00     0.00    0.07012    0.08314     0   \n",
       "3            0.0           0.00     0.00    0.07012    0.08314     0   \n",
       "4            0.0           0.00     0.00    0.07012    0.08314     0   \n",
       "...          ...            ...      ...        ...        ...   ...   \n",
       "817546       0.0           0.01     0.09    0.01032    0.00000     0   \n",
       "817547       0.0           0.01     0.09    0.01032    0.00000     0   \n",
       "817548       0.0           0.01     0.09    0.01032    0.00000     0   \n",
       "817549       0.0           0.01     0.09    0.01032    0.00000     0   \n",
       "817550       0.0           0.01     0.12    0.00028    0.00000     0   \n",
       "\n",
       "        wrong_fragment  urgent  hot  num_failed_logins  ...  dst_host_count  \\\n",
       "0                  0.0     0.0  0.0                0.0  ...           0.001   \n",
       "1                  0.0     0.0  0.0                0.0  ...           0.002   \n",
       "2                  0.0     0.0  0.0                0.0  ...           0.003   \n",
       "3                  0.0     0.0  0.0                0.0  ...           0.004   \n",
       "4                  0.0     0.0  0.0                0.0  ...           0.005   \n",
       "...                ...     ...  ...                ...  ...             ...   \n",
       "817546             0.0     0.0  0.0                0.0  ...           0.255   \n",
       "817547             0.0     0.0  0.0                0.0  ...           0.255   \n",
       "817548             0.0     0.0  0.0                0.0  ...           0.255   \n",
       "817549             0.0     0.0  0.0                0.0  ...           0.255   \n",
       "817550             0.0     0.0  0.0                0.0  ...           0.255   \n",
       "\n",
       "        dst_host_srv_count  dst_host_same_srv_rate  dst_host_diff_srv_rate  \\\n",
       "0                    0.001                   0.100                   0.000   \n",
       "1                    0.002                   0.100                   0.000   \n",
       "2                    0.003                   0.100                   0.000   \n",
       "3                    0.004                   0.100                   0.000   \n",
       "4                    0.005                   0.100                   0.000   \n",
       "...                    ...                     ...                     ...   \n",
       "817546               0.251                   0.098                   0.001   \n",
       "817547               0.252                   0.099                   0.001   \n",
       "817548               0.253                   0.099                   0.001   \n",
       "817549               0.254                   0.100                   0.001   \n",
       "817550               0.001                   0.000                   0.001   \n",
       "\n",
       "        dst_host_same_src_port_rate  dst_host_srv_diff_host_rate  \\\n",
       "0                             0.100                          0.0   \n",
       "1                             0.050                          0.0   \n",
       "2                             0.033                          0.0   \n",
       "3                             0.025                          0.0   \n",
       "4                             0.020                          0.0   \n",
       "...                             ...                          ...   \n",
       "817546                        0.098                          0.0   \n",
       "817547                        0.099                          0.0   \n",
       "817548                        0.099                          0.0   \n",
       "817549                        0.100                          0.0   \n",
       "817550                        0.000                          0.0   \n",
       "\n",
       "        dst_host_serror_rate  dst_host_srv_serror_rate  dst_host_rerror_rate  \\\n",
       "0                        0.0                       0.0                   0.0   \n",
       "1                        0.0                       0.0                   0.0   \n",
       "2                        0.0                       0.0                   0.0   \n",
       "3                        0.0                       0.0                   0.0   \n",
       "4                        0.0                       0.0                   0.0   \n",
       "...                      ...                       ...                   ...   \n",
       "817546                   0.0                       0.0                   0.0   \n",
       "817547                   0.0                       0.0                   0.0   \n",
       "817548                   0.0                       0.0                   0.0   \n",
       "817549                   0.0                       0.0                   0.0   \n",
       "817550                   0.0                       0.0                   0.0   \n",
       "\n",
       "        dst_host_srv_rerror_rate  \n",
       "0                            0.0  \n",
       "1                            0.0  \n",
       "2                            0.0  \n",
       "3                            0.0  \n",
       "4                            0.0  \n",
       "...                          ...  \n",
       "817546                       0.0  \n",
       "817547                       0.0  \n",
       "817548                       0.0  \n",
       "817549                       0.0  \n",
       "817550                       0.0  \n",
       "\n",
       "[817551 rows x 40 columns]"
      ]
     },
     "execution_count": 24,
     "metadata": {},
     "output_type": "execute_result"
    }
   ],
   "source": [
    "X"
   ]
  },
  {
   "cell_type": "code",
   "execution_count": 25,
   "id": "7fedd95b",
   "metadata": {},
   "outputs": [
    {
     "data": {
      "text/plain": [
       "11"
      ]
     },
     "execution_count": 25,
     "metadata": {},
     "output_type": "execute_result"
    }
   ],
   "source": [
    "Y.nunique()"
   ]
  },
  {
   "cell_type": "code",
   "execution_count": 26,
   "id": "fffa4e12",
   "metadata": {},
   "outputs": [],
   "source": [
    "ros=RandomOverSampler(random_state=123)\n",
    "resampled_X, resampled_y=ros.fit_resample(X,Y)"
   ]
  },
  {
   "cell_type": "markdown",
   "id": "fd6e5997",
   "metadata": {},
   "source": [
    "sm=SMOTE(sampling_strategy='not majority',n_jobs=-1)\n",
    "resampled_X, resampled_y = sm.fit_resample(X, Y)"
   ]
  },
  {
   "cell_type": "code",
   "execution_count": 27,
   "id": "fdee0536",
   "metadata": {},
   "outputs": [
    {
     "name": "stdout",
     "output_type": "stream",
     "text": [
      "Original dataset shape Counter({1.0: 576710, 7.0: 227228, 10.0: 5019, 11.0: 3007, 8.0: 2964, 6.0: 1554, 2.0: 968, 5.0: 53, 3.0: 30, 9.0: 10, 4.0: 8})\n",
      "Resampled dataset shape Counter({2.0: 576710, 3.0: 576710, 4.0: 576710, 5.0: 576710, 6.0: 576710, 7.0: 576710, 1.0: 576710, 8.0: 576710, 9.0: 576710, 10.0: 576710, 11.0: 576710})\n"
     ]
    }
   ],
   "source": [
    "print('Original dataset shape {}'.format(Counter(Y)))\n",
    "print('Resampled dataset shape {}'.format(Counter(resampled_y)))"
   ]
  },
  {
   "cell_type": "code",
   "execution_count": 28,
   "id": "4be4aa89",
   "metadata": {},
   "outputs": [
    {
     "data": {
      "text/plain": [
       "11"
      ]
     },
     "execution_count": 28,
     "metadata": {},
     "output_type": "execute_result"
    }
   ],
   "source": [
    "resampled_y.nunique()"
   ]
  },
  {
   "cell_type": "code",
   "execution_count": 32,
   "id": "c617eed3",
   "metadata": {},
   "outputs": [],
   "source": [
    "Y=resampled_y.sample(frac=.01)\n",
    "X=resampled_X.loc[Y.index]"
   ]
  },
  {
   "cell_type": "code",
   "execution_count": 64,
   "id": "b89b04f5",
   "metadata": {},
   "outputs": [],
   "source": []
  },
  {
   "cell_type": "code",
   "execution_count": 33,
   "id": "6da07fda",
   "metadata": {},
   "outputs": [
    {
     "data": {
      "text/plain": [
       "(63438, 40)"
      ]
     },
     "execution_count": 33,
     "metadata": {},
     "output_type": "execute_result"
    }
   ],
   "source": [
    "X.shape"
   ]
  },
  {
   "cell_type": "code",
   "execution_count": 34,
   "id": "87325688",
   "metadata": {},
   "outputs": [
    {
     "data": {
      "text/plain": [
       "(63438,)"
      ]
     },
     "execution_count": 34,
     "metadata": {},
     "output_type": "execute_result"
    }
   ],
   "source": [
    "Y.shape"
   ]
  },
  {
   "cell_type": "code",
   "execution_count": 35,
   "id": "028f4a59",
   "metadata": {},
   "outputs": [
    {
     "name": "stdout",
     "output_type": "stream",
     "text": [
      "Int64Index([4496218,  576025, 4284697, 2072881, 2835419, 2232655, 3745814,\n",
      "             705302, 4680666,  484519,\n",
      "            ...\n",
      "             438495, 4954660, 4399321, 3759646, 1111567, 5491847, 4451039,\n",
      "            3678025,  406549, 5625829],\n",
      "           dtype='int64', length=63438)\n"
     ]
    }
   ],
   "source": [
    "print(X.index)"
   ]
  },
  {
   "cell_type": "code",
   "execution_count": 36,
   "id": "41453ce5",
   "metadata": {},
   "outputs": [
    {
     "name": "stdout",
     "output_type": "stream",
     "text": [
      "Int64Index([4496218,  576025, 4284697, 2072881, 2835419, 2232655, 3745814,\n",
      "             705302, 4680666,  484519,\n",
      "            ...\n",
      "             438495, 4954660, 4399321, 3759646, 1111567, 5491847, 4451039,\n",
      "            3678025,  406549, 5625829],\n",
      "           dtype='int64', length=63438)\n"
     ]
    }
   ],
   "source": [
    "print(Y.index)"
   ]
  },
  {
   "cell_type": "markdown",
   "id": "6ea53596",
   "metadata": {},
   "source": [
    "<h1><center>Feature Engineering"
   ]
  },
  {
   "cell_type": "code",
   "execution_count": 37,
   "id": "8105b53c",
   "metadata": {
    "scrolled": true
   },
   "outputs": [
    {
     "name": "stderr",
     "output_type": "stream",
     "text": [
      "C:\\Users\\VVLG\\anaconda3\\lib\\site-packages\\sklearn\\feature_selection\\_univariate_selection.py:114: UserWarning: Features [ 5  6  7  8  9 11 12 13 14 15 16 17 18 19 20] are constant.\n",
      "  warnings.warn(\"Features %s are constant.\" % constant_features_idx,\n",
      "C:\\Users\\VVLG\\anaconda3\\lib\\site-packages\\sklearn\\feature_selection\\_univariate_selection.py:116: RuntimeWarning: invalid value encountered in true_divide\n",
      "  f = msb / msw\n"
     ]
    },
    {
     "data": {
      "text/plain": [
       "array(['src_bytes', 'logged_in', 'count', 'srv_count', 'rerror_rate',\n",
       "       'srv_rerror_rate', 'same_srv_rate', 'dst_host_count',\n",
       "       'dst_host_same_srv_rate', 'dst_host_serror_rate',\n",
       "       'dst_host_rerror_rate', 'dst_host_srv_rerror_rate'], dtype=object)"
      ]
     },
     "execution_count": 37,
     "metadata": {},
     "output_type": "execute_result"
    }
   ],
   "source": [
    "SKB = SelectKBest(f_classif,k=12).fit(X,Y)\n",
    "X.columns[SKB.get_support()].values"
   ]
  },
  {
   "cell_type": "code",
   "execution_count": 38,
   "id": "5d5df03c",
   "metadata": {},
   "outputs": [],
   "source": [
    "Cols_List=[\\\n",
    " 'service', 'src_bytes', 'dst_bytes', 'logged_in', 'serror_rate',\n",
    "       'srv_error_rate', 'same_srv_rate', 'dst_host_same_srv_rate',\n",
    "       'dst_host_same_src_port_rate', 'dst_host_serror_rate',\n",
    "       'dst_host_srv_serror_rate', 'dst_host_srv_rerror_rate'\n",
    "]"
   ]
  },
  {
   "cell_type": "code",
   "execution_count": 39,
   "id": "c70b647f",
   "metadata": {},
   "outputs": [],
   "source": [
    "X=X[Cols_List]\n",
    "Y=Y"
   ]
  },
  {
   "cell_type": "code",
   "execution_count": 40,
   "id": "7049031b",
   "metadata": {},
   "outputs": [],
   "source": [
    "Final_data=df[Cols_List+['Attack_Val']]"
   ]
  },
  {
   "cell_type": "markdown",
   "id": "524eb663",
   "metadata": {},
   "source": [
    "<h1>Train Test Split"
   ]
  },
  {
   "cell_type": "markdown",
   "id": "ff9f48ff",
   "metadata": {},
   "source": [
    "train_X=X.sample(frac=0.7)\n",
    "test_X=X.sample(frac=0.2)\n",
    "train_Y=Y.loc[train_X.index]\n",
    "test_Y=Y.loc[test_X.index]"
   ]
  },
  {
   "cell_type": "code",
   "execution_count": 41,
   "id": "852b9a63",
   "metadata": {},
   "outputs": [],
   "source": [
    "X_train, X_test, y_train, y_test = train_test_split(X, Y, test_size = 0.2,stratify=Y)"
   ]
  },
  {
   "cell_type": "code",
   "execution_count": 42,
   "id": "5d2785e1",
   "metadata": {},
   "outputs": [
    {
     "data": {
      "text/plain": [
       "11"
      ]
     },
     "execution_count": 42,
     "metadata": {},
     "output_type": "execute_result"
    }
   ],
   "source": [
    "y_train.nunique()"
   ]
  },
  {
   "cell_type": "code",
   "execution_count": 43,
   "id": "d601e1bf",
   "metadata": {},
   "outputs": [
    {
     "data": {
      "text/plain": [
       "11"
      ]
     },
     "execution_count": 43,
     "metadata": {},
     "output_type": "execute_result"
    }
   ],
   "source": [
    "y_test.nunique()"
   ]
  },
  {
   "cell_type": "code",
   "execution_count": 44,
   "id": "42a2de94",
   "metadata": {},
   "outputs": [
    {
     "data": {
      "text/plain": [
       "(50750,)"
      ]
     },
     "execution_count": 44,
     "metadata": {},
     "output_type": "execute_result"
    }
   ],
   "source": [
    "y_train.shape"
   ]
  },
  {
   "cell_type": "code",
   "execution_count": 45,
   "id": "8dbe4e31",
   "metadata": {},
   "outputs": [
    {
     "data": {
      "text/plain": [
       "(50750, 12)"
      ]
     },
     "execution_count": 45,
     "metadata": {},
     "output_type": "execute_result"
    }
   ],
   "source": [
    "X_train.shape"
   ]
  },
  {
   "cell_type": "markdown",
   "id": "e43151bc",
   "metadata": {},
   "source": [
    "y_train=y_train.sample(frac=0.1)\n",
    "y_test=y_test.sample(frac=0.07)\n",
    "X_train=X_train.loc[y_train.index]\n",
    "X_test=X_test.loc[y_test.index]"
   ]
  },
  {
   "cell_type": "markdown",
   "id": "65a86927",
   "metadata": {},
   "source": [
    "<h1><center>Model Building"
   ]
  },
  {
   "cell_type": "markdown",
   "id": "bec20af7",
   "metadata": {},
   "source": [
    "## Logistic Regression"
   ]
  },
  {
   "cell_type": "code",
   "execution_count": 46,
   "id": "6b80eb00",
   "metadata": {},
   "outputs": [
    {
     "data": {
      "text/plain": [
       "LogisticRegression(max_iter=10000, n_jobs=-1)"
      ]
     },
     "execution_count": 46,
     "metadata": {},
     "output_type": "execute_result"
    }
   ],
   "source": [
    "model=LogisticRegression(max_iter=10000,n_jobs=-1)\n",
    "model.fit(X_train,y_train)"
   ]
  },
  {
   "cell_type": "code",
   "execution_count": 47,
   "id": "7f9602cb",
   "metadata": {},
   "outputs": [
    {
     "name": "stdout",
     "output_type": "stream",
     "text": [
      "0.8035073891625616\n"
     ]
    }
   ],
   "source": [
    "print(model.score(X_train,y_train))"
   ]
  },
  {
   "cell_type": "code",
   "execution_count": 51,
   "id": "ec1d5cf4",
   "metadata": {},
   "outputs": [
    {
     "name": "stdout",
     "output_type": "stream",
     "text": [
      "0.7980769230769231\n"
     ]
    }
   ],
   "source": [
    "print(model.score(X_test,y_test))"
   ]
  },
  {
   "cell_type": "code",
   "execution_count": 63,
   "id": "7e5d31f0",
   "metadata": {},
   "outputs": [],
   "source": [
    "mod_pred=model.predict(X_train)"
   ]
  },
  {
   "cell_type": "code",
   "execution_count": 64,
   "id": "dd2b8283",
   "metadata": {},
   "outputs": [
    {
     "name": "stdout",
     "output_type": "stream",
     "text": [
      "[[4726    0    0    0    0    0    0    0    0    0    0]\n",
      " [   0 4578    0    0    0    0    0    0    0    0    0]\n",
      " [   0    0 4522    0    0    0    0    0    0    0    0]\n",
      " [   0    0    0 4590    0    0    0    0    0    0    0]\n",
      " [   0    0    0    0 4632    0    0    0    0    0    0]\n",
      " [   0    0    0    0    0 4626    0    0    0    0    0]\n",
      " [   0    0    0    0    0    0 4622    0    0    1    0]\n",
      " [   0    0    0    0    0    1    0 4713    0    0    0]\n",
      " [   0    0    0    0    0    0    0    0 4560    0    0]\n",
      " [   1    0    0    0    0    0    0    1    0 4590    0]\n",
      " [   0    0    0    0    0    0    0    0    0    0 4587]]\n"
     ]
    }
   ],
   "source": [
    "cm=confusion_matrix(y_train,mod_pred)\n",
    "print(cm)"
   ]
  },
  {
   "cell_type": "code",
   "execution_count": 65,
   "id": "8af6fd9c",
   "metadata": {},
   "outputs": [
    {
     "data": {
      "text/plain": [
       "Text(159.0, 0.5, 'Train')"
      ]
     },
     "execution_count": 65,
     "metadata": {},
     "output_type": "execute_result"
    },
    {
     "data": {
      "image/png": "[encoded data removed]",
      "text/plain": [
       "<Figure size 1440x1080 with 2 Axes>"
      ]
     },
     "metadata": {
      "needs_background": "light"
     },
     "output_type": "display_data"
    }
   ],
   "source": [
    "plt.figure(figsize=(20,15))\n",
    "sns.heatmap(cm,annot=True)\n",
    "plt.xlabel('Predicted')\n",
    "plt.ylabel('Train')"
   ]
  },
  {
   "cell_type": "code",
   "execution_count": 53,
   "id": "1ee8a340",
   "metadata": {},
   "outputs": [],
   "source": [
    "mod_pred_test=model.predict(X_test)"
   ]
  },
  {
   "cell_type": "code",
   "execution_count": 54,
   "id": "4ab27917",
   "metadata": {
    "scrolled": false
   },
   "outputs": [
    {
     "name": "stdout",
     "output_type": "stream",
     "text": [
      "[[1021   20   18   11   30   10    0    0   50    6   15]\n",
      " [   0 1144    0    0    0    0    0    0    0    0    0]\n",
      " [   0    0  814  317    0    0    0    0    0    0    0]\n",
      " [   0    0  292  714    0    0    0    0    0    0  141]\n",
      " [   0    0    0    0 1105   53    0    0    0    0    0]\n",
      " [   0    0    0    9    0  967    3   11   31    2  134]\n",
      " [   0    0    0    0    1    1 1043    5    0  106    0]\n",
      " [   3    0    0    4    0    3   48 1001   10   99   11]\n",
      " [   0    0    0  126    0  120    0    0  774    0  120]\n",
      " [   1    0    0    1    0   13    4   10   55 1003   61]\n",
      " [   0    0    0    0    0  484    0    0  123    0  540]]\n"
     ]
    }
   ],
   "source": [
    "cm_2=confusion_matrix(y_test,mod_pred_test)\n",
    "print(cm_2)"
   ]
  },
  {
   "cell_type": "code",
   "execution_count": 62,
   "id": "1fc66d64",
   "metadata": {
    "scrolled": false
   },
   "outputs": [
    {
     "data": {
      "text/plain": [
       "Text(159.0, 0.5, 'Test')"
      ]
     },
     "execution_count": 62,
     "metadata": {},
     "output_type": "execute_result"
    },
    {
     "data": {
      "image/png": "[encoded data removed]",
      "text/plain": [
       "<Figure size 1440x1080 with 2 Axes>"
      ]
     },
     "metadata": {
      "needs_background": "light"
     },
     "output_type": "display_data"
    }
   ],
   "source": [
    "plt.figure(figsize=(20,15))\n",
    "sns.heatmap(cm_2,annot=True)\n",
    "plt.xlabel('Predicted')\n",
    "plt.ylabel('Test')"
   ]
  },
  {
   "cell_type": "markdown",
   "id": "34eec5b6",
   "metadata": {},
   "source": [
    "<center><b><font color=blue>There are many miss-classifications while performing logistic regression, so we shall try another technique"
   ]
  },
  {
   "cell_type": "code",
   "execution_count": null,
   "id": "439a5644",
   "metadata": {},
   "outputs": [],
   "source": []
  },
  {
   "cell_type": "markdown",
   "id": "748fdd72",
   "metadata": {},
   "source": [
    "<h2>Random Forest"
   ]
  },
  {
   "cell_type": "markdown",
   "id": "88e81221",
   "metadata": {
    "scrolled": false
   },
   "source": [
    "grid={'max_depth':[3,4,5,6,7,8],'max_leaf_nodes':[5,6,7,8,9,10],'max_features':[6,7,8,9,10]}\n",
    "DTC=GridSearchCV(DecisionTreeClassifier(),grid,cv=5,verbose=True,n_jobs=-1)\n",
    "DTC.fit(train_X,train_Y)"
   ]
  },
  {
   "cell_type": "code",
   "execution_count": 56,
   "id": "724e766e",
   "metadata": {},
   "outputs": [
    {
     "data": {
      "text/plain": [
       "RandomForestClassifier(n_estimators=10)"
      ]
     },
     "execution_count": 56,
     "metadata": {},
     "output_type": "execute_result"
    }
   ],
   "source": [
    "model=RandomForestClassifier(n_estimators=10)\n",
    "model.fit(X_train,y_train)"
   ]
  },
  {
   "cell_type": "code",
   "execution_count": 57,
   "id": "47eb6465",
   "metadata": {},
   "outputs": [
    {
     "data": {
      "text/plain": [
       "0.9990542244640606"
      ]
     },
     "execution_count": 57,
     "metadata": {},
     "output_type": "execute_result"
    }
   ],
   "source": [
    "model.score(X_test,y_test)"
   ]
  },
  {
   "cell_type": "code",
   "execution_count": 58,
   "id": "fe141712",
   "metadata": {},
   "outputs": [
    {
     "data": {
      "text/html": [
       "<div>\n",
       "<style scoped>\n",
       "    .dataframe tbody tr th:only-of-type {\n",
       "        vertical-align: middle;\n",
       "    }\n",
       "\n",
       "    .dataframe tbody tr th {\n",
       "        vertical-align: top;\n",
       "    }\n",
       "\n",
       "    .dataframe thead th {\n",
       "        text-align: right;\n",
       "    }\n",
       "</style>\n",
       "<table border=\"1\" class=\"dataframe\">\n",
       "  <thead>\n",
       "    <tr style=\"text-align: right;\">\n",
       "      <th></th>\n",
       "      <th>0</th>\n",
       "      <th>1</th>\n",
       "    </tr>\n",
       "  </thead>\n",
       "  <tbody>\n",
       "    <tr>\n",
       "      <th>0</th>\n",
       "      <td>11.0</td>\n",
       "      <td>11.0</td>\n",
       "    </tr>\n",
       "    <tr>\n",
       "      <th>1</th>\n",
       "      <td>7.0</td>\n",
       "      <td>7.0</td>\n",
       "    </tr>\n",
       "    <tr>\n",
       "      <th>2</th>\n",
       "      <td>9.0</td>\n",
       "      <td>9.0</td>\n",
       "    </tr>\n",
       "    <tr>\n",
       "      <th>3</th>\n",
       "      <td>7.0</td>\n",
       "      <td>7.0</td>\n",
       "    </tr>\n",
       "    <tr>\n",
       "      <th>4</th>\n",
       "      <td>3.0</td>\n",
       "      <td>3.0</td>\n",
       "    </tr>\n",
       "    <tr>\n",
       "      <th>...</th>\n",
       "      <td>...</td>\n",
       "      <td>...</td>\n",
       "    </tr>\n",
       "    <tr>\n",
       "      <th>12683</th>\n",
       "      <td>9.0</td>\n",
       "      <td>9.0</td>\n",
       "    </tr>\n",
       "    <tr>\n",
       "      <th>12684</th>\n",
       "      <td>4.0</td>\n",
       "      <td>4.0</td>\n",
       "    </tr>\n",
       "    <tr>\n",
       "      <th>12685</th>\n",
       "      <td>7.0</td>\n",
       "      <td>7.0</td>\n",
       "    </tr>\n",
       "    <tr>\n",
       "      <th>12686</th>\n",
       "      <td>6.0</td>\n",
       "      <td>6.0</td>\n",
       "    </tr>\n",
       "    <tr>\n",
       "      <th>12687</th>\n",
       "      <td>5.0</td>\n",
       "      <td>5.0</td>\n",
       "    </tr>\n",
       "  </tbody>\n",
       "</table>\n",
       "<p>12688 rows × 2 columns</p>\n",
       "</div>"
      ],
      "text/plain": [
       "          0     1\n",
       "0      11.0  11.0\n",
       "1       7.0   7.0\n",
       "2       9.0   9.0\n",
       "3       7.0   7.0\n",
       "4       3.0   3.0\n",
       "...     ...   ...\n",
       "12683   9.0   9.0\n",
       "12684   4.0   4.0\n",
       "12685   7.0   7.0\n",
       "12686   6.0   6.0\n",
       "12687   5.0   5.0\n",
       "\n",
       "[12688 rows x 2 columns]"
      ]
     },
     "execution_count": 58,
     "metadata": {},
     "output_type": "execute_result"
    }
   ],
   "source": [
    "pd.concat([pd.Series(y_test.values),pd.Series(model.predict(X_test))],axis='columns')"
   ]
  },
  {
   "cell_type": "code",
   "execution_count": 59,
   "id": "678a217a",
   "metadata": {},
   "outputs": [
    {
     "data": {
      "text/plain": [
       "array([[1177,    0,    0,    0,    0,    1,    0,    2,    0,    1,    0],\n",
       "       [   0, 1144,    0,    0,    0,    0,    0,    0,    0,    0,    0],\n",
       "       [   0,    0, 1131,    0,    0,    0,    0,    0,    0,    0,    0],\n",
       "       [   0,    0,    0, 1147,    0,    0,    0,    0,    0,    0,    0],\n",
       "       [   0,    0,    0,    0, 1158,    0,    0,    0,    0,    0,    0],\n",
       "       [   0,    0,    0,    0,    0, 1157,    0,    0,    0,    0,    0],\n",
       "       [   0,    0,    0,    0,    0,    0, 1154,    0,    0,    2,    0],\n",
       "       [   0,    0,    0,    0,    0,    0,    0, 1178,    0,    1,    0],\n",
       "       [   0,    0,    0,    0,    0,    0,    0,    0, 1140,    0,    0],\n",
       "       [   2,    0,    0,    0,    0,    0,    1,    2,    0, 1143,    0],\n",
       "       [   0,    0,    0,    0,    0,    0,    0,    0,    0,    0, 1147]],\n",
       "      dtype=int64)"
      ]
     },
     "execution_count": 59,
     "metadata": {},
     "output_type": "execute_result"
    }
   ],
   "source": [
    "cm=confusion_matrix(y_test,model.predict(X_test))\n",
    "cm"
   ]
  },
  {
   "cell_type": "code",
   "execution_count": 61,
   "id": "b90551d7",
   "metadata": {},
   "outputs": [
    {
     "data": {
      "text/plain": [
       "Text(159.0, 0.5, 'True')"
      ]
     },
     "execution_count": 61,
     "metadata": {},
     "output_type": "execute_result"
    },
    {
     "data": {
      "image/png": "[encoded data removed]",
      "text/plain": [
       "<Figure size 1440x1080 with 2 Axes>"
      ]
     },
     "metadata": {
      "needs_background": "light"
     },
     "output_type": "display_data"
    }
   ],
   "source": [
    "plt.figure(figsize=(20,15))\n",
    "sns.heatmap(cm,annot=True)\n",
    "plt.xlabel('Predicted')\n",
    "plt.ylabel('True')"
   ]
  },
  {
   "cell_type": "markdown",
   "id": "a0e5bd0e",
   "metadata": {},
   "source": [
    "<b><i><center>Now that the accuracy is 99% and there is very less miss-classifications, the best model to use is Random Forest."
   ]
  },
  {
   "cell_type": "code",
   "execution_count": null,
   "id": "d537653e",
   "metadata": {},
   "outputs": [],
   "source": []
  },
  {
   "cell_type": "code",
   "execution_count": null,
   "id": "5f0d1428",
   "metadata": {},
   "outputs": [],
   "source": []
  },
  {
   "cell_type": "code",
   "execution_count": null,
   "id": "33e95496",
   "metadata": {},
   "outputs": [],
   "source": []
  }
 ],
 "metadata": {
  "kernelspec": {
   "display_name": "Python 3 (ipykernel)",
   "language": "python",
   "name": "python3"
  },
  "language_info": {
   "codemirror_mode": {
    "name": "ipython",
    "version": 3
   },
   "file_extension": ".py",
   "mimetype": "text/x-python",
   "name": "python",
   "nbconvert_exporter": "python",
   "pygments_lexer": "ipython3",
   "version": "3.8.11"
  },
  "toc": {
   "base_numbering": 1,
   "nav_menu": {},
   "number_sections": true,
   "sideBar": true,
   "skip_h1_title": false,
   "title_cell": "Table of Contents",
   "title_sidebar": "Contents",
   "toc_cell": false,
   "toc_position": {},
   "toc_section_display": true,
   "toc_window_display": true
  },
  "varInspector": {
   "cols": {
    "lenName": 16,
    "lenType": 16,
    "lenVar": 40
   },
   "kernels_config": {
    "python": {
     "delete_cmd_postfix": "",
     "delete_cmd_prefix": "del ",
     "library": "var_list.py",
     "varRefreshCmd": "print(var_dic_list())"
    },
    "r": {
     "delete_cmd_postfix": ") ",
     "delete_cmd_prefix": "rm(",
     "library": "var_list.r",
     "varRefreshCmd": "cat(var_dic_list()) "
    }
   },
   "types_to_exclude": [
    "module",
    "function",
    "builtin_function_or_method",
    "instance",
    "_Feature"
   ],
   "window_display": false
  }
 },
 "nbformat": 4,
 "nbformat_minor": 5
}
