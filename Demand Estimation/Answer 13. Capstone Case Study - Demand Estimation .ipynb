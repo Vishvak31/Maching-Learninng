{
 "cells": [
  {
   "cell_type": "markdown",
   "id": "7c30aacd",
   "metadata": {},
   "source": [
    "<h2> <center>Demand Estimation</h2></center>\n",
    "The model used here is SARIMAX becuase there is trend in data becuase there is trend and seasonality in the data post applying transformation. "
   ]
  },
  {
   "cell_type": "code",
   "execution_count": 1,
   "id": "902fb308",
   "metadata": {},
   "outputs": [],
   "source": [
    "import pandas as pd\n",
    "import numpy as np\n",
    "import matplotlib.pyplot as plt\n",
    "%matplotlib inline\n",
    "import datetime as dt"
   ]
  },
  {
   "cell_type": "code",
   "execution_count": 76,
   "id": "dc8e7fdb",
   "metadata": {},
   "outputs": [],
   "source": [
    "from statsmodels.tsa.seasonal import seasonal_decompose\n",
    "from statsmodels.tsa.stattools import acf,pacf_ols\n",
    "import statsmodels.tsa.api as smt\n",
    "from statsmodels.tsa.stattools import adfuller\n",
    "from statsmodels.tsa.holtwinters import ExponentialSmoothing\n",
    "from sklearn.metrics import mean_absolute_error\n",
    "import statsmodels.api as sm\n",
    "import itertools\n",
    "import sys\n",
    "import warnings"
   ]
  },
  {
   "cell_type": "code",
   "execution_count": 3,
   "id": "8774a924",
   "metadata": {},
   "outputs": [
    {
     "data": {
      "text/html": [
       "<div>\n",
       "<style scoped>\n",
       "    .dataframe tbody tr th:only-of-type {\n",
       "        vertical-align: middle;\n",
       "    }\n",
       "\n",
       "    .dataframe tbody tr th {\n",
       "        vertical-align: top;\n",
       "    }\n",
       "\n",
       "    .dataframe thead th {\n",
       "        text-align: right;\n",
       "    }\n",
       "</style>\n",
       "<table border=\"1\" class=\"dataframe\">\n",
       "  <thead>\n",
       "    <tr style=\"text-align: right;\">\n",
       "      <th></th>\n",
       "      <th>DATE</th>\n",
       "      <th>Electricty_Consumption_in_TW</th>\n",
       "    </tr>\n",
       "  </thead>\n",
       "  <tbody>\n",
       "    <tr>\n",
       "      <th>0</th>\n",
       "      <td>1/1/1973</td>\n",
       "      <td>35.9728</td>\n",
       "    </tr>\n",
       "    <tr>\n",
       "      <th>1</th>\n",
       "      <td>2/1/1973</td>\n",
       "      <td>36.1334</td>\n",
       "    </tr>\n",
       "    <tr>\n",
       "      <th>2</th>\n",
       "      <td>3/1/1973</td>\n",
       "      <td>35.0625</td>\n",
       "    </tr>\n",
       "    <tr>\n",
       "      <th>3</th>\n",
       "      <td>4/1/1973</td>\n",
       "      <td>33.8416</td>\n",
       "    </tr>\n",
       "    <tr>\n",
       "      <th>4</th>\n",
       "      <td>5/1/1973</td>\n",
       "      <td>33.5107</td>\n",
       "    </tr>\n",
       "    <tr>\n",
       "      <th>...</th>\n",
       "      <td>...</td>\n",
       "      <td>...</td>\n",
       "    </tr>\n",
       "    <tr>\n",
       "      <th>556</th>\n",
       "      <td>5/1/2019</td>\n",
       "      <td>97.5860</td>\n",
       "    </tr>\n",
       "    <tr>\n",
       "      <th>557</th>\n",
       "      <td>6/1/2019</td>\n",
       "      <td>110.8580</td>\n",
       "    </tr>\n",
       "    <tr>\n",
       "      <th>558</th>\n",
       "      <td>7/1/2019</td>\n",
       "      <td>122.1014</td>\n",
       "    </tr>\n",
       "    <tr>\n",
       "      <th>559</th>\n",
       "      <td>8/1/2019</td>\n",
       "      <td>121.7765</td>\n",
       "    </tr>\n",
       "    <tr>\n",
       "      <th>560</th>\n",
       "      <td>9/1/2019</td>\n",
       "      <td>109.7190</td>\n",
       "    </tr>\n",
       "  </tbody>\n",
       "</table>\n",
       "<p>561 rows × 2 columns</p>\n",
       "</div>"
      ],
      "text/plain": [
       "         DATE  Electricty_Consumption_in_TW\n",
       "0    1/1/1973                       35.9728\n",
       "1    2/1/1973                       36.1334\n",
       "2    3/1/1973                       35.0625\n",
       "3    4/1/1973                       33.8416\n",
       "4    5/1/1973                       33.5107\n",
       "..        ...                           ...\n",
       "556  5/1/2019                       97.5860\n",
       "557  6/1/2019                      110.8580\n",
       "558  7/1/2019                      122.1014\n",
       "559  8/1/2019                      121.7765\n",
       "560  9/1/2019                      109.7190\n",
       "\n",
       "[561 rows x 2 columns]"
      ]
     },
     "execution_count": 3,
     "metadata": {},
     "output_type": "execute_result"
    }
   ],
   "source": [
    "df=pd.read_csv('Electricity Consumption.csv')\n",
    "df"
   ]
  },
  {
   "cell_type": "code",
   "execution_count": 4,
   "id": "024b2236",
   "metadata": {},
   "outputs": [],
   "source": [
    "df.DATE=pd.to_datetime?"
   ]
  },
  {
   "cell_type": "code",
   "execution_count": 5,
   "id": "d4085012",
   "metadata": {},
   "outputs": [],
   "source": [
    "df['New_Date']=pd.to_datetime(df.DATE)"
   ]
  },
  {
   "cell_type": "code",
   "execution_count": 6,
   "id": "a79c6319",
   "metadata": {},
   "outputs": [
    {
     "data": {
      "text/html": [
       "<div>\n",
       "<style scoped>\n",
       "    .dataframe tbody tr th:only-of-type {\n",
       "        vertical-align: middle;\n",
       "    }\n",
       "\n",
       "    .dataframe tbody tr th {\n",
       "        vertical-align: top;\n",
       "    }\n",
       "\n",
       "    .dataframe thead th {\n",
       "        text-align: right;\n",
       "    }\n",
       "</style>\n",
       "<table border=\"1\" class=\"dataframe\">\n",
       "  <thead>\n",
       "    <tr style=\"text-align: right;\">\n",
       "      <th></th>\n",
       "      <th>DATE</th>\n",
       "      <th>Electricty_Consumption_in_TW</th>\n",
       "      <th>New_Date</th>\n",
       "    </tr>\n",
       "  </thead>\n",
       "  <tbody>\n",
       "    <tr>\n",
       "      <th>0</th>\n",
       "      <td>1/1/1973</td>\n",
       "      <td>35.9728</td>\n",
       "      <td>1973-01-01</td>\n",
       "    </tr>\n",
       "    <tr>\n",
       "      <th>1</th>\n",
       "      <td>2/1/1973</td>\n",
       "      <td>36.1334</td>\n",
       "      <td>1973-02-01</td>\n",
       "    </tr>\n",
       "    <tr>\n",
       "      <th>2</th>\n",
       "      <td>3/1/1973</td>\n",
       "      <td>35.0625</td>\n",
       "      <td>1973-03-01</td>\n",
       "    </tr>\n",
       "    <tr>\n",
       "      <th>3</th>\n",
       "      <td>4/1/1973</td>\n",
       "      <td>33.8416</td>\n",
       "      <td>1973-04-01</td>\n",
       "    </tr>\n",
       "    <tr>\n",
       "      <th>4</th>\n",
       "      <td>5/1/1973</td>\n",
       "      <td>33.5107</td>\n",
       "      <td>1973-05-01</td>\n",
       "    </tr>\n",
       "    <tr>\n",
       "      <th>...</th>\n",
       "      <td>...</td>\n",
       "      <td>...</td>\n",
       "      <td>...</td>\n",
       "    </tr>\n",
       "    <tr>\n",
       "      <th>556</th>\n",
       "      <td>5/1/2019</td>\n",
       "      <td>97.5860</td>\n",
       "      <td>2019-05-01</td>\n",
       "    </tr>\n",
       "    <tr>\n",
       "      <th>557</th>\n",
       "      <td>6/1/2019</td>\n",
       "      <td>110.8580</td>\n",
       "      <td>2019-06-01</td>\n",
       "    </tr>\n",
       "    <tr>\n",
       "      <th>558</th>\n",
       "      <td>7/1/2019</td>\n",
       "      <td>122.1014</td>\n",
       "      <td>2019-07-01</td>\n",
       "    </tr>\n",
       "    <tr>\n",
       "      <th>559</th>\n",
       "      <td>8/1/2019</td>\n",
       "      <td>121.7765</td>\n",
       "      <td>2019-08-01</td>\n",
       "    </tr>\n",
       "    <tr>\n",
       "      <th>560</th>\n",
       "      <td>9/1/2019</td>\n",
       "      <td>109.7190</td>\n",
       "      <td>2019-09-01</td>\n",
       "    </tr>\n",
       "  </tbody>\n",
       "</table>\n",
       "<p>561 rows × 3 columns</p>\n",
       "</div>"
      ],
      "text/plain": [
       "         DATE  Electricty_Consumption_in_TW   New_Date\n",
       "0    1/1/1973                       35.9728 1973-01-01\n",
       "1    2/1/1973                       36.1334 1973-02-01\n",
       "2    3/1/1973                       35.0625 1973-03-01\n",
       "3    4/1/1973                       33.8416 1973-04-01\n",
       "4    5/1/1973                       33.5107 1973-05-01\n",
       "..        ...                           ...        ...\n",
       "556  5/1/2019                       97.5860 2019-05-01\n",
       "557  6/1/2019                      110.8580 2019-06-01\n",
       "558  7/1/2019                      122.1014 2019-07-01\n",
       "559  8/1/2019                      121.7765 2019-08-01\n",
       "560  9/1/2019                      109.7190 2019-09-01\n",
       "\n",
       "[561 rows x 3 columns]"
      ]
     },
     "execution_count": 6,
     "metadata": {},
     "output_type": "execute_result"
    }
   ],
   "source": [
    "df"
   ]
  },
  {
   "cell_type": "code",
   "execution_count": 7,
   "id": "1956fdba",
   "metadata": {},
   "outputs": [],
   "source": [
    "df['DATE']=df.New_Date"
   ]
  },
  {
   "cell_type": "code",
   "execution_count": 8,
   "id": "9751c5ea",
   "metadata": {},
   "outputs": [],
   "source": [
    "df=df.set_index('New_Date')"
   ]
  },
  {
   "cell_type": "code",
   "execution_count": 9,
   "id": "c8f7b1cb",
   "metadata": {},
   "outputs": [
    {
     "data": {
      "text/plain": [
       "0"
      ]
     },
     "execution_count": 9,
     "metadata": {},
     "output_type": "execute_result"
    }
   ],
   "source": [
    "df.Electricty_Consumption_in_TW.isna().sum()"
   ]
  },
  {
   "cell_type": "code",
   "execution_count": 10,
   "id": "0d622577",
   "metadata": {},
   "outputs": [
    {
     "data": {
      "text/plain": [
       "<AxesSubplot:xlabel='New_Date'>"
      ]
     },
     "execution_count": 10,
     "metadata": {},
     "output_type": "execute_result"
    },
    {
     "data": {
      "image/png": "[encoded data removed]",
      "text/plain": [
       "<Figure size 432x288 with 1 Axes>"
      ]
     },
     "metadata": {
      "needs_background": "light"
     },
     "output_type": "display_data"
    }
   ],
   "source": [
    "df.Electricty_Consumption_in_TW.plot()"
   ]
  },
  {
   "cell_type": "code",
   "execution_count": 11,
   "id": "7fd9e9d9",
   "metadata": {},
   "outputs": [
    {
     "name": "stdout",
     "output_type": "stream",
     "text": [
      "<class 'pandas.core.frame.DataFrame'>\n",
      "DatetimeIndex: 561 entries, 1973-01-01 to 2019-09-01\n",
      "Data columns (total 2 columns):\n",
      " #   Column                        Non-Null Count  Dtype         \n",
      "---  ------                        --------------  -----         \n",
      " 0   DATE                          561 non-null    datetime64[ns]\n",
      " 1   Electricty_Consumption_in_TW  561 non-null    float64       \n",
      "dtypes: datetime64[ns](1), float64(1)\n",
      "memory usage: 13.1 KB\n"
     ]
    }
   ],
   "source": [
    "df.info()"
   ]
  },
  {
   "cell_type": "code",
   "execution_count": 12,
   "id": "22a5903d",
   "metadata": {},
   "outputs": [],
   "source": [
    "df['Month']=df.DATE.dt.month\n",
    "df['Year']=df.DATE.dt.year"
   ]
  },
  {
   "cell_type": "code",
   "execution_count": 13,
   "id": "85238f29",
   "metadata": {},
   "outputs": [
    {
     "data": {
      "text/html": [
       "<div>\n",
       "<style scoped>\n",
       "    .dataframe tbody tr th:only-of-type {\n",
       "        vertical-align: middle;\n",
       "    }\n",
       "\n",
       "    .dataframe tbody tr th {\n",
       "        vertical-align: top;\n",
       "    }\n",
       "\n",
       "    .dataframe thead th {\n",
       "        text-align: right;\n",
       "    }\n",
       "</style>\n",
       "<table border=\"1\" class=\"dataframe\">\n",
       "  <thead>\n",
       "    <tr style=\"text-align: right;\">\n",
       "      <th>Month</th>\n",
       "      <th>1</th>\n",
       "      <th>2</th>\n",
       "      <th>3</th>\n",
       "      <th>4</th>\n",
       "      <th>5</th>\n",
       "      <th>6</th>\n",
       "      <th>7</th>\n",
       "      <th>8</th>\n",
       "      <th>9</th>\n",
       "      <th>10</th>\n",
       "      <th>11</th>\n",
       "      <th>12</th>\n",
       "    </tr>\n",
       "    <tr>\n",
       "      <th>Year</th>\n",
       "      <th></th>\n",
       "      <th></th>\n",
       "      <th></th>\n",
       "      <th></th>\n",
       "      <th></th>\n",
       "      <th></th>\n",
       "      <th></th>\n",
       "      <th></th>\n",
       "      <th></th>\n",
       "      <th></th>\n",
       "      <th></th>\n",
       "      <th></th>\n",
       "    </tr>\n",
       "  </thead>\n",
       "  <tbody>\n",
       "    <tr>\n",
       "      <th>1973</th>\n",
       "      <td>35.9728</td>\n",
       "      <td>36.1334</td>\n",
       "      <td>35.0625</td>\n",
       "      <td>33.8416</td>\n",
       "      <td>33.5107</td>\n",
       "      <td>36.4823</td>\n",
       "      <td>39.1412</td>\n",
       "      <td>41.4137</td>\n",
       "      <td>40.1639</td>\n",
       "      <td>37.1133</td>\n",
       "      <td>37.0248</td>\n",
       "      <td>38.4341</td>\n",
       "    </tr>\n",
       "    <tr>\n",
       "      <th>1974</th>\n",
       "      <td>40.7455</td>\n",
       "      <td>39.8340</td>\n",
       "      <td>37.9408</td>\n",
       "      <td>36.3004</td>\n",
       "      <td>36.5293</td>\n",
       "      <td>40.8899</td>\n",
       "      <td>44.3563</td>\n",
       "      <td>45.9240</td>\n",
       "      <td>44.4555</td>\n",
       "      <td>40.6417</td>\n",
       "      <td>39.4901</td>\n",
       "      <td>38.9068</td>\n",
       "    </tr>\n",
       "    <tr>\n",
       "      <th>1975</th>\n",
       "      <td>40.0956</td>\n",
       "      <td>39.6944</td>\n",
       "      <td>38.3040</td>\n",
       "      <td>36.8939</td>\n",
       "      <td>37.5668</td>\n",
       "      <td>40.3832</td>\n",
       "      <td>44.9671</td>\n",
       "      <td>46.1853</td>\n",
       "      <td>43.3001</td>\n",
       "      <td>40.3836</td>\n",
       "      <td>39.8092</td>\n",
       "      <td>42.0597</td>\n",
       "    </tr>\n",
       "    <tr>\n",
       "      <th>1976</th>\n",
       "      <td>43.4099</td>\n",
       "      <td>42.5826</td>\n",
       "      <td>40.9244</td>\n",
       "      <td>39.3533</td>\n",
       "      <td>39.0766</td>\n",
       "      <td>42.4851</td>\n",
       "      <td>46.3693</td>\n",
       "      <td>48.1945</td>\n",
       "      <td>45.1688</td>\n",
       "      <td>41.1880</td>\n",
       "      <td>40.8431</td>\n",
       "      <td>44.1468</td>\n",
       "    </tr>\n",
       "    <tr>\n",
       "      <th>1977</th>\n",
       "      <td>47.6892</td>\n",
       "      <td>44.8505</td>\n",
       "      <td>42.8557</td>\n",
       "      <td>41.0177</td>\n",
       "      <td>40.7201</td>\n",
       "      <td>45.0610</td>\n",
       "      <td>48.9685</td>\n",
       "      <td>50.1898</td>\n",
       "      <td>47.5982</td>\n",
       "      <td>44.0684</td>\n",
       "      <td>45.4267</td>\n",
       "      <td>49.3447</td>\n",
       "    </tr>\n",
       "    <tr>\n",
       "      <th>1978</th>\n",
       "      <td>52.9153</td>\n",
       "      <td>49.9488</td>\n",
       "      <td>46.1749</td>\n",
       "      <td>43.6652</td>\n",
       "      <td>44.5402</td>\n",
       "      <td>48.9480</td>\n",
       "      <td>53.8292</td>\n",
       "      <td>54.1182</td>\n",
       "      <td>50.9980</td>\n",
       "      <td>46.3711</td>\n",
       "      <td>45.3267</td>\n",
       "      <td>49.0027</td>\n",
       "    </tr>\n",
       "    <tr>\n",
       "      <th>1979</th>\n",
       "      <td>53.3617</td>\n",
       "      <td>51.6279</td>\n",
       "      <td>47.8264</td>\n",
       "      <td>43.7935</td>\n",
       "      <td>44.8591</td>\n",
       "      <td>50.3292</td>\n",
       "      <td>54.3579</td>\n",
       "      <td>55.9197</td>\n",
       "      <td>53.5776</td>\n",
       "      <td>48.7261</td>\n",
       "      <td>48.2585</td>\n",
       "      <td>51.3008</td>\n",
       "    </tr>\n",
       "    <tr>\n",
       "      <th>1980</th>\n",
       "      <td>56.5838</td>\n",
       "      <td>55.6802</td>\n",
       "      <td>50.4428</td>\n",
       "      <td>46.8693</td>\n",
       "      <td>46.0886</td>\n",
       "      <td>49.7595</td>\n",
       "      <td>53.8273</td>\n",
       "      <td>56.2272</td>\n",
       "      <td>52.5737</td>\n",
       "      <td>48.8947</td>\n",
       "      <td>48.4081</td>\n",
       "      <td>50.6659</td>\n",
       "    </tr>\n",
       "    <tr>\n",
       "      <th>1981</th>\n",
       "      <td>53.5867</td>\n",
       "      <td>53.5461</td>\n",
       "      <td>51.0708</td>\n",
       "      <td>46.9172</td>\n",
       "      <td>45.5795</td>\n",
       "      <td>50.0235</td>\n",
       "      <td>57.1384</td>\n",
       "      <td>59.5376</td>\n",
       "      <td>56.1935</td>\n",
       "      <td>50.3249</td>\n",
       "      <td>49.2234</td>\n",
       "      <td>52.8176</td>\n",
       "    </tr>\n",
       "    <tr>\n",
       "      <th>1982</th>\n",
       "      <td>57.4002</td>\n",
       "      <td>54.6248</td>\n",
       "      <td>51.1896</td>\n",
       "      <td>48.4958</td>\n",
       "      <td>47.9140</td>\n",
       "      <td>54.5292</td>\n",
       "      <td>59.5975</td>\n",
       "      <td>59.6727</td>\n",
       "      <td>54.9644</td>\n",
       "      <td>50.4093</td>\n",
       "      <td>49.7304</td>\n",
       "      <td>53.4477</td>\n",
       "    </tr>\n",
       "    <tr>\n",
       "      <th>1983</th>\n",
       "      <td>57.8035</td>\n",
       "      <td>54.3171</td>\n",
       "      <td>51.2296</td>\n",
       "      <td>48.5554</td>\n",
       "      <td>47.3548</td>\n",
       "      <td>51.8479</td>\n",
       "      <td>56.4073</td>\n",
       "      <td>57.0522</td>\n",
       "      <td>53.2825</td>\n",
       "      <td>48.6462</td>\n",
       "      <td>48.5762</td>\n",
       "      <td>50.9131</td>\n",
       "    </tr>\n",
       "    <tr>\n",
       "      <th>1984</th>\n",
       "      <td>53.8233</td>\n",
       "      <td>52.0005</td>\n",
       "      <td>49.8258</td>\n",
       "      <td>48.1762</td>\n",
       "      <td>46.8221</td>\n",
       "      <td>52.1043</td>\n",
       "      <td>59.2376</td>\n",
       "      <td>63.0354</td>\n",
       "      <td>58.8092</td>\n",
       "      <td>52.0758</td>\n",
       "      <td>51.5264</td>\n",
       "      <td>56.4794</td>\n",
       "    </tr>\n",
       "    <tr>\n",
       "      <th>1985</th>\n",
       "      <td>60.9006</td>\n",
       "      <td>57.1310</td>\n",
       "      <td>55.2857</td>\n",
       "      <td>51.4436</td>\n",
       "      <td>52.0810</td>\n",
       "      <td>57.5410</td>\n",
       "      <td>61.2397</td>\n",
       "      <td>63.2502</td>\n",
       "      <td>58.6939</td>\n",
       "      <td>53.6227</td>\n",
       "      <td>53.7972</td>\n",
       "      <td>56.6369</td>\n",
       "    </tr>\n",
       "    <tr>\n",
       "      <th>1986</th>\n",
       "      <td>63.4267</td>\n",
       "      <td>61.3016</td>\n",
       "      <td>55.8488</td>\n",
       "      <td>53.3782</td>\n",
       "      <td>54.1358</td>\n",
       "      <td>58.5966</td>\n",
       "      <td>63.7333</td>\n",
       "      <td>64.5506</td>\n",
       "      <td>61.9159</td>\n",
       "      <td>55.7588</td>\n",
       "      <td>55.4629</td>\n",
       "      <td>61.4175</td>\n",
       "    </tr>\n",
       "    <tr>\n",
       "      <th>1987</th>\n",
       "      <td>63.9303</td>\n",
       "      <td>60.3646</td>\n",
       "      <td>56.0702</td>\n",
       "      <td>53.9762</td>\n",
       "      <td>54.8074</td>\n",
       "      <td>60.9330</td>\n",
       "      <td>67.8937</td>\n",
       "      <td>66.6955</td>\n",
       "      <td>62.8912</td>\n",
       "      <td>57.8284</td>\n",
       "      <td>57.0461</td>\n",
       "      <td>62.1443</td>\n",
       "    </tr>\n",
       "    <tr>\n",
       "      <th>1988</th>\n",
       "      <td>65.1403</td>\n",
       "      <td>62.3975</td>\n",
       "      <td>59.3460</td>\n",
       "      <td>56.5817</td>\n",
       "      <td>58.2626</td>\n",
       "      <td>65.1768</td>\n",
       "      <td>71.0094</td>\n",
       "      <td>72.3010</td>\n",
       "      <td>65.8237</td>\n",
       "      <td>59.7144</td>\n",
       "      <td>59.6736</td>\n",
       "      <td>64.4422</td>\n",
       "    </tr>\n",
       "    <tr>\n",
       "      <th>1989</th>\n",
       "      <td>70.3996</td>\n",
       "      <td>67.9200</td>\n",
       "      <td>63.8744</td>\n",
       "      <td>59.9583</td>\n",
       "      <td>60.1815</td>\n",
       "      <td>68.2487</td>\n",
       "      <td>75.1146</td>\n",
       "      <td>78.0872</td>\n",
       "      <td>69.3406</td>\n",
       "      <td>62.8362</td>\n",
       "      <td>62.1364</td>\n",
       "      <td>67.7310</td>\n",
       "    </tr>\n",
       "    <tr>\n",
       "      <th>1990</th>\n",
       "      <td>70.0406</td>\n",
       "      <td>68.7045</td>\n",
       "      <td>66.3675</td>\n",
       "      <td>61.4050</td>\n",
       "      <td>62.7297</td>\n",
       "      <td>69.9173</td>\n",
       "      <td>76.4218</td>\n",
       "      <td>77.6320</td>\n",
       "      <td>71.0673</td>\n",
       "      <td>65.3455</td>\n",
       "      <td>65.6080</td>\n",
       "      <td>75.0806</td>\n",
       "    </tr>\n",
       "    <tr>\n",
       "      <th>1991</th>\n",
       "      <td>75.3432</td>\n",
       "      <td>70.4279</td>\n",
       "      <td>67.2785</td>\n",
       "      <td>63.5089</td>\n",
       "      <td>65.0637</td>\n",
       "      <td>73.1867</td>\n",
       "      <td>79.5446</td>\n",
       "      <td>80.1356</td>\n",
       "      <td>75.5456</td>\n",
       "      <td>67.5532</td>\n",
       "      <td>65.9821</td>\n",
       "      <td>71.2865</td>\n",
       "    </tr>\n",
       "    <tr>\n",
       "      <th>1992</th>\n",
       "      <td>76.4893</td>\n",
       "      <td>70.8296</td>\n",
       "      <td>67.7166</td>\n",
       "      <td>64.4234</td>\n",
       "      <td>68.9159</td>\n",
       "      <td>77.1266</td>\n",
       "      <td>82.8681</td>\n",
       "      <td>82.0134</td>\n",
       "      <td>75.6726</td>\n",
       "      <td>68.4600</td>\n",
       "      <td>68.5905</td>\n",
       "      <td>72.5001</td>\n",
       "    </tr>\n",
       "    <tr>\n",
       "      <th>1993</th>\n",
       "      <td>76.3454</td>\n",
       "      <td>72.5838</td>\n",
       "      <td>68.2756</td>\n",
       "      <td>65.6965</td>\n",
       "      <td>66.5711</td>\n",
       "      <td>73.0804</td>\n",
       "      <td>80.3847</td>\n",
       "      <td>79.5582</td>\n",
       "      <td>74.6987</td>\n",
       "      <td>68.8537</td>\n",
       "      <td>69.6758</td>\n",
       "      <td>76.0833</td>\n",
       "    </tr>\n",
       "    <tr>\n",
       "      <th>1994</th>\n",
       "      <td>77.6749</td>\n",
       "      <td>75.1092</td>\n",
       "      <td>71.1866</td>\n",
       "      <td>66.8361</td>\n",
       "      <td>68.0393</td>\n",
       "      <td>76.7436</td>\n",
       "      <td>85.8577</td>\n",
       "      <td>85.9538</td>\n",
       "      <td>77.5044</td>\n",
       "      <td>69.2900</td>\n",
       "      <td>70.3729</td>\n",
       "      <td>76.2577</td>\n",
       "    </tr>\n",
       "    <tr>\n",
       "      <th>1995</th>\n",
       "      <td>82.0302</td>\n",
       "      <td>76.6372</td>\n",
       "      <td>72.0260</td>\n",
       "      <td>68.0178</td>\n",
       "      <td>69.5021</td>\n",
       "      <td>80.7147</td>\n",
       "      <td>87.1047</td>\n",
       "      <td>85.5512</td>\n",
       "      <td>78.5878</td>\n",
       "      <td>71.5596</td>\n",
       "      <td>72.1969</td>\n",
       "      <td>77.3523</td>\n",
       "    </tr>\n",
       "    <tr>\n",
       "      <th>1996</th>\n",
       "      <td>81.6179</td>\n",
       "      <td>77.5110</td>\n",
       "      <td>73.7351</td>\n",
       "      <td>69.8220</td>\n",
       "      <td>73.0125</td>\n",
       "      <td>81.5073</td>\n",
       "      <td>90.4389</td>\n",
       "      <td>94.6517</td>\n",
       "      <td>82.2441</td>\n",
       "      <td>74.7897</td>\n",
       "      <td>75.0062</td>\n",
       "      <td>81.2612</td>\n",
       "    </tr>\n",
       "    <tr>\n",
       "      <th>1997</th>\n",
       "      <td>86.6791</td>\n",
       "      <td>82.4101</td>\n",
       "      <td>78.4170</td>\n",
       "      <td>72.8635</td>\n",
       "      <td>76.8456</td>\n",
       "      <td>85.1667</td>\n",
       "      <td>90.3823</td>\n",
       "      <td>91.0586</td>\n",
       "      <td>82.5919</td>\n",
       "      <td>75.1195</td>\n",
       "      <td>76.3487</td>\n",
       "      <td>81.4314</td>\n",
       "    </tr>\n",
       "    <tr>\n",
       "      <th>1998</th>\n",
       "      <td>86.6427</td>\n",
       "      <td>80.1913</td>\n",
       "      <td>75.7104</td>\n",
       "      <td>72.2515</td>\n",
       "      <td>73.1001</td>\n",
       "      <td>82.5125</td>\n",
       "      <td>92.7738</td>\n",
       "      <td>92.2841</td>\n",
       "      <td>85.6932</td>\n",
       "      <td>78.4057</td>\n",
       "      <td>77.5792</td>\n",
       "      <td>83.3847</td>\n",
       "    </tr>\n",
       "    <tr>\n",
       "      <th>1999</th>\n",
       "      <td>84.7572</td>\n",
       "      <td>80.0052</td>\n",
       "      <td>79.4386</td>\n",
       "      <td>73.9566</td>\n",
       "      <td>79.3736</td>\n",
       "      <td>90.2293</td>\n",
       "      <td>98.4901</td>\n",
       "      <td>98.2941</td>\n",
       "      <td>91.7894</td>\n",
       "      <td>81.8528</td>\n",
       "      <td>79.0292</td>\n",
       "      <td>85.3087</td>\n",
       "    </tr>\n",
       "    <tr>\n",
       "      <th>2000</th>\n",
       "      <td>90.5209</td>\n",
       "      <td>83.2535</td>\n",
       "      <td>82.9765</td>\n",
       "      <td>77.4012</td>\n",
       "      <td>80.6012</td>\n",
       "      <td>91.9652</td>\n",
       "      <td>103.2199</td>\n",
       "      <td>101.9993</td>\n",
       "      <td>91.6262</td>\n",
       "      <td>81.9097</td>\n",
       "      <td>80.7085</td>\n",
       "      <td>87.9622</td>\n",
       "    </tr>\n",
       "    <tr>\n",
       "      <th>2001</th>\n",
       "      <td>92.2252</td>\n",
       "      <td>86.0219</td>\n",
       "      <td>82.9416</td>\n",
       "      <td>79.1183</td>\n",
       "      <td>85.9385</td>\n",
       "      <td>94.9666</td>\n",
       "      <td>100.9385</td>\n",
       "      <td>104.3357</td>\n",
       "      <td>94.8055</td>\n",
       "      <td>84.4761</td>\n",
       "      <td>84.6713</td>\n",
       "      <td>93.7830</td>\n",
       "    </tr>\n",
       "    <tr>\n",
       "      <th>2002</th>\n",
       "      <td>97.4839</td>\n",
       "      <td>88.4600</td>\n",
       "      <td>85.5145</td>\n",
       "      <td>80.6255</td>\n",
       "      <td>84.2219</td>\n",
       "      <td>94.7114</td>\n",
       "      <td>101.1429</td>\n",
       "      <td>104.9186</td>\n",
       "      <td>92.4048</td>\n",
       "      <td>83.8666</td>\n",
       "      <td>81.5255</td>\n",
       "      <td>87.0653</td>\n",
       "    </tr>\n",
       "    <tr>\n",
       "      <th>2003</th>\n",
       "      <td>93.4462</td>\n",
       "      <td>87.1882</td>\n",
       "      <td>85.9872</td>\n",
       "      <td>83.2200</td>\n",
       "      <td>86.4023</td>\n",
       "      <td>97.2842</td>\n",
       "      <td>107.8586</td>\n",
       "      <td>107.2340</td>\n",
       "      <td>98.2105</td>\n",
       "      <td>88.3740</td>\n",
       "      <td>85.3696</td>\n",
       "      <td>92.7688</td>\n",
       "    </tr>\n",
       "    <tr>\n",
       "      <th>2004</th>\n",
       "      <td>99.2146</td>\n",
       "      <td>93.8080</td>\n",
       "      <td>87.9245</td>\n",
       "      <td>83.2149</td>\n",
       "      <td>87.3502</td>\n",
       "      <td>95.5287</td>\n",
       "      <td>108.0230</td>\n",
       "      <td>110.5490</td>\n",
       "      <td>97.8965</td>\n",
       "      <td>88.2913</td>\n",
       "      <td>86.5869</td>\n",
       "      <td>95.8509</td>\n",
       "    </tr>\n",
       "    <tr>\n",
       "      <th>2005</th>\n",
       "      <td>101.4854</td>\n",
       "      <td>95.4539</td>\n",
       "      <td>89.5912</td>\n",
       "      <td>85.2382</td>\n",
       "      <td>91.8307</td>\n",
       "      <td>101.3472</td>\n",
       "      <td>108.6568</td>\n",
       "      <td>106.9236</td>\n",
       "      <td>100.0361</td>\n",
       "      <td>90.3099</td>\n",
       "      <td>88.0298</td>\n",
       "      <td>98.2432</td>\n",
       "    </tr>\n",
       "    <tr>\n",
       "      <th>2006</th>\n",
       "      <td>100.5180</td>\n",
       "      <td>93.4341</td>\n",
       "      <td>92.0098</td>\n",
       "      <td>85.0923</td>\n",
       "      <td>89.2707</td>\n",
       "      <td>105.3702</td>\n",
       "      <td>115.7128</td>\n",
       "      <td>117.2059</td>\n",
       "      <td>106.2274</td>\n",
       "      <td>93.8650</td>\n",
       "      <td>90.1143</td>\n",
       "      <td>101.0209</td>\n",
       "    </tr>\n",
       "    <tr>\n",
       "      <th>2007</th>\n",
       "      <td>98.3652</td>\n",
       "      <td>94.9756</td>\n",
       "      <td>93.0500</td>\n",
       "      <td>87.1221</td>\n",
       "      <td>93.3602</td>\n",
       "      <td>106.4587</td>\n",
       "      <td>118.2580</td>\n",
       "      <td>119.0322</td>\n",
       "      <td>101.6588</td>\n",
       "      <td>92.5908</td>\n",
       "      <td>91.2439</td>\n",
       "      <td>98.4618</td>\n",
       "    </tr>\n",
       "    <tr>\n",
       "      <th>2008</th>\n",
       "      <td>103.7172</td>\n",
       "      <td>101.8218</td>\n",
       "      <td>94.0200</td>\n",
       "      <td>89.3184</td>\n",
       "      <td>95.1251</td>\n",
       "      <td>106.7553</td>\n",
       "      <td>114.3852</td>\n",
       "      <td>121.0940</td>\n",
       "      <td>107.7787</td>\n",
       "      <td>96.8831</td>\n",
       "      <td>93.3234</td>\n",
       "      <td>100.8597</td>\n",
       "    </tr>\n",
       "    <tr>\n",
       "      <th>2009</th>\n",
       "      <td>106.1460</td>\n",
       "      <td>100.4437</td>\n",
       "      <td>95.0260</td>\n",
       "      <td>90.1760</td>\n",
       "      <td>93.8625</td>\n",
       "      <td>109.5851</td>\n",
       "      <td>117.3505</td>\n",
       "      <td>113.8823</td>\n",
       "      <td>103.3491</td>\n",
       "      <td>93.2335</td>\n",
       "      <td>91.8977</td>\n",
       "      <td>101.8014</td>\n",
       "    </tr>\n",
       "    <tr>\n",
       "      <th>2010</th>\n",
       "      <td>105.7413</td>\n",
       "      <td>96.4428</td>\n",
       "      <td>92.2986</td>\n",
       "      <td>86.8242</td>\n",
       "      <td>90.6389</td>\n",
       "      <td>103.0377</td>\n",
       "      <td>110.6045</td>\n",
       "      <td>112.5792</td>\n",
       "      <td>100.4701</td>\n",
       "      <td>90.9259</td>\n",
       "      <td>88.1769</td>\n",
       "      <td>102.5951</td>\n",
       "    </tr>\n",
       "    <tr>\n",
       "      <th>2011</th>\n",
       "      <td>107.8967</td>\n",
       "      <td>101.9572</td>\n",
       "      <td>93.2285</td>\n",
       "      <td>86.0874</td>\n",
       "      <td>93.7706</td>\n",
       "      <td>110.3572</td>\n",
       "      <td>120.1457</td>\n",
       "      <td>120.2087</td>\n",
       "      <td>106.1109</td>\n",
       "      <td>91.6614</td>\n",
       "      <td>90.6340</td>\n",
       "      <td>105.7792</td>\n",
       "    </tr>\n",
       "    <tr>\n",
       "      <th>2012</th>\n",
       "      <td>108.9151</td>\n",
       "      <td>100.0117</td>\n",
       "      <td>94.3484</td>\n",
       "      <td>89.0821</td>\n",
       "      <td>92.7937</td>\n",
       "      <td>108.5421</td>\n",
       "      <td>121.6974</td>\n",
       "      <td>120.2822</td>\n",
       "      <td>104.6692</td>\n",
       "      <td>91.8217</td>\n",
       "      <td>90.7683</td>\n",
       "      <td>99.3654</td>\n",
       "    </tr>\n",
       "    <tr>\n",
       "      <th>2013</th>\n",
       "      <td>101.6890</td>\n",
       "      <td>95.5366</td>\n",
       "      <td>91.0434</td>\n",
       "      <td>87.5189</td>\n",
       "      <td>96.5166</td>\n",
       "      <td>107.0627</td>\n",
       "      <td>120.8149</td>\n",
       "      <td>117.2932</td>\n",
       "      <td>102.4185</td>\n",
       "      <td>91.8143</td>\n",
       "      <td>90.4217</td>\n",
       "      <td>97.8702</td>\n",
       "    </tr>\n",
       "    <tr>\n",
       "      <th>2014</th>\n",
       "      <td>104.3752</td>\n",
       "      <td>97.7907</td>\n",
       "      <td>95.5280</td>\n",
       "      <td>89.2783</td>\n",
       "      <td>93.2729</td>\n",
       "      <td>105.7336</td>\n",
       "      <td>116.4651</td>\n",
       "      <td>114.3700</td>\n",
       "      <td>104.3899</td>\n",
       "      <td>93.5507</td>\n",
       "      <td>93.0872</td>\n",
       "      <td>104.1544</td>\n",
       "    </tr>\n",
       "    <tr>\n",
       "      <th>2015</th>\n",
       "      <td>111.8708</td>\n",
       "      <td>103.4990</td>\n",
       "      <td>97.4134</td>\n",
       "      <td>88.7323</td>\n",
       "      <td>94.1360</td>\n",
       "      <td>106.5504</td>\n",
       "      <td>114.2235</td>\n",
       "      <td>113.9230</td>\n",
       "      <td>104.9454</td>\n",
       "      <td>93.6892</td>\n",
       "      <td>94.1108</td>\n",
       "      <td>101.1895</td>\n",
       "    </tr>\n",
       "    <tr>\n",
       "      <th>2016</th>\n",
       "      <td>108.1515</td>\n",
       "      <td>104.9900</td>\n",
       "      <td>97.5969</td>\n",
       "      <td>88.5477</td>\n",
       "      <td>93.5168</td>\n",
       "      <td>108.1813</td>\n",
       "      <td>118.3568</td>\n",
       "      <td>117.1375</td>\n",
       "      <td>107.3046</td>\n",
       "      <td>92.9818</td>\n",
       "      <td>89.4954</td>\n",
       "      <td>96.3086</td>\n",
       "    </tr>\n",
       "    <tr>\n",
       "      <th>2017</th>\n",
       "      <td>105.1879</td>\n",
       "      <td>98.0069</td>\n",
       "      <td>90.8029</td>\n",
       "      <td>87.4594</td>\n",
       "      <td>92.2811</td>\n",
       "      <td>109.6104</td>\n",
       "      <td>121.7478</td>\n",
       "      <td>123.2163</td>\n",
       "      <td>108.4514</td>\n",
       "      <td>93.4264</td>\n",
       "      <td>89.9026</td>\n",
       "      <td>101.8836</td>\n",
       "    </tr>\n",
       "    <tr>\n",
       "      <th>2018</th>\n",
       "      <td>102.9398</td>\n",
       "      <td>92.0095</td>\n",
       "      <td>93.3526</td>\n",
       "      <td>86.8386</td>\n",
       "      <td>93.2361</td>\n",
       "      <td>107.1009</td>\n",
       "      <td>119.2874</td>\n",
       "      <td>115.7108</td>\n",
       "      <td>103.4070</td>\n",
       "      <td>94.6492</td>\n",
       "      <td>91.9079</td>\n",
       "      <td>101.9883</td>\n",
       "    </tr>\n",
       "    <tr>\n",
       "      <th>2019</th>\n",
       "      <td>111.8520</td>\n",
       "      <td>97.3261</td>\n",
       "      <td>93.8406</td>\n",
       "      <td>89.1873</td>\n",
       "      <td>97.5860</td>\n",
       "      <td>110.8580</td>\n",
       "      <td>122.1014</td>\n",
       "      <td>121.7765</td>\n",
       "      <td>109.7190</td>\n",
       "      <td>NaN</td>\n",
       "      <td>NaN</td>\n",
       "      <td>NaN</td>\n",
       "    </tr>\n",
       "  </tbody>\n",
       "</table>\n",
       "</div>"
      ],
      "text/plain": [
       "Month        1         2        3        4        5         6         7   \\\n",
       "Year                                                                       \n",
       "1973    35.9728   36.1334  35.0625  33.8416  33.5107   36.4823   39.1412   \n",
       "1974    40.7455   39.8340  37.9408  36.3004  36.5293   40.8899   44.3563   \n",
       "1975    40.0956   39.6944  38.3040  36.8939  37.5668   40.3832   44.9671   \n",
       "1976    43.4099   42.5826  40.9244  39.3533  39.0766   42.4851   46.3693   \n",
       "1977    47.6892   44.8505  42.8557  41.0177  40.7201   45.0610   48.9685   \n",
       "1978    52.9153   49.9488  46.1749  43.6652  44.5402   48.9480   53.8292   \n",
       "1979    53.3617   51.6279  47.8264  43.7935  44.8591   50.3292   54.3579   \n",
       "1980    56.5838   55.6802  50.4428  46.8693  46.0886   49.7595   53.8273   \n",
       "1981    53.5867   53.5461  51.0708  46.9172  45.5795   50.0235   57.1384   \n",
       "1982    57.4002   54.6248  51.1896  48.4958  47.9140   54.5292   59.5975   \n",
       "1983    57.8035   54.3171  51.2296  48.5554  47.3548   51.8479   56.4073   \n",
       "1984    53.8233   52.0005  49.8258  48.1762  46.8221   52.1043   59.2376   \n",
       "1985    60.9006   57.1310  55.2857  51.4436  52.0810   57.5410   61.2397   \n",
       "1986    63.4267   61.3016  55.8488  53.3782  54.1358   58.5966   63.7333   \n",
       "1987    63.9303   60.3646  56.0702  53.9762  54.8074   60.9330   67.8937   \n",
       "1988    65.1403   62.3975  59.3460  56.5817  58.2626   65.1768   71.0094   \n",
       "1989    70.3996   67.9200  63.8744  59.9583  60.1815   68.2487   75.1146   \n",
       "1990    70.0406   68.7045  66.3675  61.4050  62.7297   69.9173   76.4218   \n",
       "1991    75.3432   70.4279  67.2785  63.5089  65.0637   73.1867   79.5446   \n",
       "1992    76.4893   70.8296  67.7166  64.4234  68.9159   77.1266   82.8681   \n",
       "1993    76.3454   72.5838  68.2756  65.6965  66.5711   73.0804   80.3847   \n",
       "1994    77.6749   75.1092  71.1866  66.8361  68.0393   76.7436   85.8577   \n",
       "1995    82.0302   76.6372  72.0260  68.0178  69.5021   80.7147   87.1047   \n",
       "1996    81.6179   77.5110  73.7351  69.8220  73.0125   81.5073   90.4389   \n",
       "1997    86.6791   82.4101  78.4170  72.8635  76.8456   85.1667   90.3823   \n",
       "1998    86.6427   80.1913  75.7104  72.2515  73.1001   82.5125   92.7738   \n",
       "1999    84.7572   80.0052  79.4386  73.9566  79.3736   90.2293   98.4901   \n",
       "2000    90.5209   83.2535  82.9765  77.4012  80.6012   91.9652  103.2199   \n",
       "2001    92.2252   86.0219  82.9416  79.1183  85.9385   94.9666  100.9385   \n",
       "2002    97.4839   88.4600  85.5145  80.6255  84.2219   94.7114  101.1429   \n",
       "2003    93.4462   87.1882  85.9872  83.2200  86.4023   97.2842  107.8586   \n",
       "2004    99.2146   93.8080  87.9245  83.2149  87.3502   95.5287  108.0230   \n",
       "2005   101.4854   95.4539  89.5912  85.2382  91.8307  101.3472  108.6568   \n",
       "2006   100.5180   93.4341  92.0098  85.0923  89.2707  105.3702  115.7128   \n",
       "2007    98.3652   94.9756  93.0500  87.1221  93.3602  106.4587  118.2580   \n",
       "2008   103.7172  101.8218  94.0200  89.3184  95.1251  106.7553  114.3852   \n",
       "2009   106.1460  100.4437  95.0260  90.1760  93.8625  109.5851  117.3505   \n",
       "2010   105.7413   96.4428  92.2986  86.8242  90.6389  103.0377  110.6045   \n",
       "2011   107.8967  101.9572  93.2285  86.0874  93.7706  110.3572  120.1457   \n",
       "2012   108.9151  100.0117  94.3484  89.0821  92.7937  108.5421  121.6974   \n",
       "2013   101.6890   95.5366  91.0434  87.5189  96.5166  107.0627  120.8149   \n",
       "2014   104.3752   97.7907  95.5280  89.2783  93.2729  105.7336  116.4651   \n",
       "2015   111.8708  103.4990  97.4134  88.7323  94.1360  106.5504  114.2235   \n",
       "2016   108.1515  104.9900  97.5969  88.5477  93.5168  108.1813  118.3568   \n",
       "2017   105.1879   98.0069  90.8029  87.4594  92.2811  109.6104  121.7478   \n",
       "2018   102.9398   92.0095  93.3526  86.8386  93.2361  107.1009  119.2874   \n",
       "2019   111.8520   97.3261  93.8406  89.1873  97.5860  110.8580  122.1014   \n",
       "\n",
       "Month        8         9        10       11        12  \n",
       "Year                                                   \n",
       "1973    41.4137   40.1639  37.1133  37.0248   38.4341  \n",
       "1974    45.9240   44.4555  40.6417  39.4901   38.9068  \n",
       "1975    46.1853   43.3001  40.3836  39.8092   42.0597  \n",
       "1976    48.1945   45.1688  41.1880  40.8431   44.1468  \n",
       "1977    50.1898   47.5982  44.0684  45.4267   49.3447  \n",
       "1978    54.1182   50.9980  46.3711  45.3267   49.0027  \n",
       "1979    55.9197   53.5776  48.7261  48.2585   51.3008  \n",
       "1980    56.2272   52.5737  48.8947  48.4081   50.6659  \n",
       "1981    59.5376   56.1935  50.3249  49.2234   52.8176  \n",
       "1982    59.6727   54.9644  50.4093  49.7304   53.4477  \n",
       "1983    57.0522   53.2825  48.6462  48.5762   50.9131  \n",
       "1984    63.0354   58.8092  52.0758  51.5264   56.4794  \n",
       "1985    63.2502   58.6939  53.6227  53.7972   56.6369  \n",
       "1986    64.5506   61.9159  55.7588  55.4629   61.4175  \n",
       "1987    66.6955   62.8912  57.8284  57.0461   62.1443  \n",
       "1988    72.3010   65.8237  59.7144  59.6736   64.4422  \n",
       "1989    78.0872   69.3406  62.8362  62.1364   67.7310  \n",
       "1990    77.6320   71.0673  65.3455  65.6080   75.0806  \n",
       "1991    80.1356   75.5456  67.5532  65.9821   71.2865  \n",
       "1992    82.0134   75.6726  68.4600  68.5905   72.5001  \n",
       "1993    79.5582   74.6987  68.8537  69.6758   76.0833  \n",
       "1994    85.9538   77.5044  69.2900  70.3729   76.2577  \n",
       "1995    85.5512   78.5878  71.5596  72.1969   77.3523  \n",
       "1996    94.6517   82.2441  74.7897  75.0062   81.2612  \n",
       "1997    91.0586   82.5919  75.1195  76.3487   81.4314  \n",
       "1998    92.2841   85.6932  78.4057  77.5792   83.3847  \n",
       "1999    98.2941   91.7894  81.8528  79.0292   85.3087  \n",
       "2000   101.9993   91.6262  81.9097  80.7085   87.9622  \n",
       "2001   104.3357   94.8055  84.4761  84.6713   93.7830  \n",
       "2002   104.9186   92.4048  83.8666  81.5255   87.0653  \n",
       "2003   107.2340   98.2105  88.3740  85.3696   92.7688  \n",
       "2004   110.5490   97.8965  88.2913  86.5869   95.8509  \n",
       "2005   106.9236  100.0361  90.3099  88.0298   98.2432  \n",
       "2006   117.2059  106.2274  93.8650  90.1143  101.0209  \n",
       "2007   119.0322  101.6588  92.5908  91.2439   98.4618  \n",
       "2008   121.0940  107.7787  96.8831  93.3234  100.8597  \n",
       "2009   113.8823  103.3491  93.2335  91.8977  101.8014  \n",
       "2010   112.5792  100.4701  90.9259  88.1769  102.5951  \n",
       "2011   120.2087  106.1109  91.6614  90.6340  105.7792  \n",
       "2012   120.2822  104.6692  91.8217  90.7683   99.3654  \n",
       "2013   117.2932  102.4185  91.8143  90.4217   97.8702  \n",
       "2014   114.3700  104.3899  93.5507  93.0872  104.1544  \n",
       "2015   113.9230  104.9454  93.6892  94.1108  101.1895  \n",
       "2016   117.1375  107.3046  92.9818  89.4954   96.3086  \n",
       "2017   123.2163  108.4514  93.4264  89.9026  101.8836  \n",
       "2018   115.7108  103.4070  94.6492  91.9079  101.9883  \n",
       "2019   121.7765  109.7190      NaN      NaN       NaN  "
      ]
     },
     "execution_count": 13,
     "metadata": {},
     "output_type": "execute_result"
    }
   ],
   "source": [
    "pd.pivot_table(data=df,index='Year',columns='Month',values='Electricty_Consumption_in_TW')"
   ]
  },
  {
   "cell_type": "code",
   "execution_count": 14,
   "id": "eb9ac45d",
   "metadata": {},
   "outputs": [
    {
     "data": {
      "text/plain": [
       "<AxesSubplot:xlabel='Year'>"
      ]
     },
     "execution_count": 14,
     "metadata": {},
     "output_type": "execute_result"
    },
    {
     "data": {
      "image/png": "[encoded data removed]",
      "text/plain": [
       "<Figure size 432x288 with 1 Axes>"
      ]
     },
     "metadata": {
      "needs_background": "light"
     },
     "output_type": "display_data"
    }
   ],
   "source": [
    "pd.pivot_table(data=df,index='Year',columns='Month',values='Electricty_Consumption_in_TW').plot()"
   ]
  },
  {
   "cell_type": "code",
   "execution_count": 15,
   "id": "54dd9ca4",
   "metadata": {},
   "outputs": [
    {
     "data": {
      "text/plain": [
       "<AxesSubplot:xlabel='Month'>"
      ]
     },
     "execution_count": 15,
     "metadata": {},
     "output_type": "execute_result"
    },
    {
     "data": {
      "image/png": "[encoded data removed]",
      "text/plain": [
       "<Figure size 432x288 with 1 Axes>"
      ]
     },
     "metadata": {
      "needs_background": "light"
     },
     "output_type": "display_data"
    }
   ],
   "source": [
    "pd.pivot_table(data=df,index='Month',columns='Year',values='Electricty_Consumption_in_TW').plot()"
   ]
  },
  {
   "cell_type": "code",
   "execution_count": 16,
   "id": "0324e013",
   "metadata": {},
   "outputs": [],
   "source": [
    "seasonal_decompose?"
   ]
  },
  {
   "cell_type": "code",
   "execution_count": 17,
   "id": "59508ee9",
   "metadata": {},
   "outputs": [],
   "source": [
    "SD=seasonal_decompose(df.Electricty_Consumption_in_TW,model='multiplicative')"
   ]
  },
  {
   "cell_type": "code",
   "execution_count": 18,
   "id": "0508c338",
   "metadata": {},
   "outputs": [
    {
     "data": {
      "image/png": "[encoded data removed]",
      "text/plain": [
       "<Figure size 432x288 with 4 Axes>"
      ]
     },
     "execution_count": 18,
     "metadata": {},
     "output_type": "execute_result"
    },
    {
     "data": {
      "image/png": "[encoded data removed]",
      "text/plain": [
       "<Figure size 432x288 with 4 Axes>"
      ]
     },
     "metadata": {
      "needs_background": "light"
     },
     "output_type": "display_data"
    }
   ],
   "source": [
    "SD.plot()"
   ]
  },
  {
   "cell_type": "code",
   "execution_count": 19,
   "id": "2aec4b24",
   "metadata": {},
   "outputs": [
    {
     "data": {
      "text/plain": [
       "New_Date\n",
       "1973-01-01    1.055358\n",
       "1973-02-01    0.996086\n",
       "1973-03-01    0.945337\n",
       "1973-04-01    0.890877\n",
       "1973-05-01    0.918780\n",
       "                ...   \n",
       "2019-05-01    0.918780\n",
       "2019-06-01    1.030843\n",
       "2019-07-01    1.125749\n",
       "2019-08-01    1.136105\n",
       "2019-09-01    1.038776\n",
       "Name: seasonal, Length: 561, dtype: float64"
      ]
     },
     "execution_count": 19,
     "metadata": {},
     "output_type": "execute_result"
    }
   ],
   "source": [
    "SD.seasonal"
   ]
  },
  {
   "cell_type": "code",
   "execution_count": 20,
   "id": "ec2c36b9",
   "metadata": {},
   "outputs": [],
   "source": [
    "Decompostion=pd.concat([SD.observed,SD.trend,SD.seasonal,SD.resid],axis=1)"
   ]
  },
  {
   "cell_type": "code",
   "execution_count": 21,
   "id": "99f978ef",
   "metadata": {},
   "outputs": [],
   "source": [
    "pd.DataFrame?"
   ]
  },
  {
   "cell_type": "code",
   "execution_count": 22,
   "id": "e8a2ed9f",
   "metadata": {},
   "outputs": [
    {
     "data": {
      "text/html": [
       "<div>\n",
       "<style scoped>\n",
       "    .dataframe tbody tr th:only-of-type {\n",
       "        vertical-align: middle;\n",
       "    }\n",
       "\n",
       "    .dataframe tbody tr th {\n",
       "        vertical-align: top;\n",
       "    }\n",
       "\n",
       "    .dataframe thead th {\n",
       "        text-align: right;\n",
       "    }\n",
       "</style>\n",
       "<table border=\"1\" class=\"dataframe\">\n",
       "  <thead>\n",
       "    <tr style=\"text-align: right;\">\n",
       "      <th></th>\n",
       "      <th>Electricty_Consumption_in_TW</th>\n",
       "      <th>trend</th>\n",
       "      <th>seasonal</th>\n",
       "      <th>resid</th>\n",
       "    </tr>\n",
       "    <tr>\n",
       "      <th>New_Date</th>\n",
       "      <th></th>\n",
       "      <th></th>\n",
       "      <th></th>\n",
       "      <th></th>\n",
       "    </tr>\n",
       "  </thead>\n",
       "  <tbody>\n",
       "    <tr>\n",
       "      <th>1973-01-01</th>\n",
       "      <td>35.9728</td>\n",
       "      <td>NaN</td>\n",
       "      <td>1.055358</td>\n",
       "      <td>NaN</td>\n",
       "    </tr>\n",
       "    <tr>\n",
       "      <th>1973-02-01</th>\n",
       "      <td>36.1334</td>\n",
       "      <td>NaN</td>\n",
       "      <td>0.996086</td>\n",
       "      <td>NaN</td>\n",
       "    </tr>\n",
       "    <tr>\n",
       "      <th>1973-03-01</th>\n",
       "      <td>35.0625</td>\n",
       "      <td>NaN</td>\n",
       "      <td>0.945337</td>\n",
       "      <td>NaN</td>\n",
       "    </tr>\n",
       "    <tr>\n",
       "      <th>1973-04-01</th>\n",
       "      <td>33.8416</td>\n",
       "      <td>NaN</td>\n",
       "      <td>0.890877</td>\n",
       "      <td>NaN</td>\n",
       "    </tr>\n",
       "    <tr>\n",
       "      <th>1973-05-01</th>\n",
       "      <td>33.5107</td>\n",
       "      <td>NaN</td>\n",
       "      <td>0.918780</td>\n",
       "      <td>NaN</td>\n",
       "    </tr>\n",
       "    <tr>\n",
       "      <th>1973-06-01</th>\n",
       "      <td>36.4823</td>\n",
       "      <td>NaN</td>\n",
       "      <td>1.030843</td>\n",
       "      <td>NaN</td>\n",
       "    </tr>\n",
       "    <tr>\n",
       "      <th>1973-07-01</th>\n",
       "      <td>39.1412</td>\n",
       "      <td>37.223388</td>\n",
       "      <td>1.125749</td>\n",
       "      <td>0.934064</td>\n",
       "    </tr>\n",
       "    <tr>\n",
       "      <th>1973-08-01</th>\n",
       "      <td>41.4137</td>\n",
       "      <td>37.576442</td>\n",
       "      <td>1.136105</td>\n",
       "      <td>0.970085</td>\n",
       "    </tr>\n",
       "    <tr>\n",
       "      <th>1973-09-01</th>\n",
       "      <td>40.1639</td>\n",
       "      <td>37.850562</td>\n",
       "      <td>1.038776</td>\n",
       "      <td>1.021507</td>\n",
       "    </tr>\n",
       "    <tr>\n",
       "      <th>1973-10-01</th>\n",
       "      <td>37.1133</td>\n",
       "      <td>38.072942</td>\n",
       "      <td>0.936702</td>\n",
       "      <td>1.040667</td>\n",
       "    </tr>\n",
       "    <tr>\n",
       "      <th>1973-11-01</th>\n",
       "      <td>37.0248</td>\n",
       "      <td>38.301167</td>\n",
       "      <td>0.924028</td>\n",
       "      <td>1.046154</td>\n",
       "    </tr>\n",
       "    <tr>\n",
       "      <th>1973-12-01</th>\n",
       "      <td>38.4341</td>\n",
       "      <td>38.610592</td>\n",
       "      <td>1.001358</td>\n",
       "      <td>0.994079</td>\n",
       "    </tr>\n",
       "    <tr>\n",
       "      <th>1974-01-01</th>\n",
       "      <td>40.7455</td>\n",
       "      <td>39.011538</td>\n",
       "      <td>1.055358</td>\n",
       "      <td>0.989662</td>\n",
       "    </tr>\n",
       "    <tr>\n",
       "      <th>1974-02-01</th>\n",
       "      <td>39.8340</td>\n",
       "      <td>39.416763</td>\n",
       "      <td>0.996086</td>\n",
       "      <td>1.014556</td>\n",
       "    </tr>\n",
       "    <tr>\n",
       "      <th>1974-03-01</th>\n",
       "      <td>37.9408</td>\n",
       "      <td>39.783508</td>\n",
       "      <td>0.945337</td>\n",
       "      <td>1.008827</td>\n",
       "    </tr>\n",
       "    <tr>\n",
       "      <th>1974-04-01</th>\n",
       "      <td>36.3004</td>\n",
       "      <td>40.109342</td>\n",
       "      <td>0.890877</td>\n",
       "      <td>1.015893</td>\n",
       "    </tr>\n",
       "    <tr>\n",
       "      <th>1974-05-01</th>\n",
       "      <td>36.5293</td>\n",
       "      <td>40.359079</td>\n",
       "      <td>0.918780</td>\n",
       "      <td>0.985119</td>\n",
       "    </tr>\n",
       "    <tr>\n",
       "      <th>1974-06-01</th>\n",
       "      <td>40.8899</td>\n",
       "      <td>40.481496</td>\n",
       "      <td>1.030843</td>\n",
       "      <td>0.979866</td>\n",
       "    </tr>\n",
       "    <tr>\n",
       "      <th>1974-07-01</th>\n",
       "      <td>44.3563</td>\n",
       "      <td>40.474113</td>\n",
       "      <td>1.125749</td>\n",
       "      <td>0.973501</td>\n",
       "    </tr>\n",
       "    <tr>\n",
       "      <th>1974-08-01</th>\n",
       "      <td>45.9240</td>\n",
       "      <td>40.441217</td>\n",
       "      <td>1.136105</td>\n",
       "      <td>0.999533</td>\n",
       "    </tr>\n",
       "  </tbody>\n",
       "</table>\n",
       "</div>"
      ],
      "text/plain": [
       "            Electricty_Consumption_in_TW      trend  seasonal     resid\n",
       "New_Date                                                               \n",
       "1973-01-01                       35.9728        NaN  1.055358       NaN\n",
       "1973-02-01                       36.1334        NaN  0.996086       NaN\n",
       "1973-03-01                       35.0625        NaN  0.945337       NaN\n",
       "1973-04-01                       33.8416        NaN  0.890877       NaN\n",
       "1973-05-01                       33.5107        NaN  0.918780       NaN\n",
       "1973-06-01                       36.4823        NaN  1.030843       NaN\n",
       "1973-07-01                       39.1412  37.223388  1.125749  0.934064\n",
       "1973-08-01                       41.4137  37.576442  1.136105  0.970085\n",
       "1973-09-01                       40.1639  37.850562  1.038776  1.021507\n",
       "1973-10-01                       37.1133  38.072942  0.936702  1.040667\n",
       "1973-11-01                       37.0248  38.301167  0.924028  1.046154\n",
       "1973-12-01                       38.4341  38.610592  1.001358  0.994079\n",
       "1974-01-01                       40.7455  39.011538  1.055358  0.989662\n",
       "1974-02-01                       39.8340  39.416763  0.996086  1.014556\n",
       "1974-03-01                       37.9408  39.783508  0.945337  1.008827\n",
       "1974-04-01                       36.3004  40.109342  0.890877  1.015893\n",
       "1974-05-01                       36.5293  40.359079  0.918780  0.985119\n",
       "1974-06-01                       40.8899  40.481496  1.030843  0.979866\n",
       "1974-07-01                       44.3563  40.474113  1.125749  0.973501\n",
       "1974-08-01                       45.9240  40.441217  1.136105  0.999533"
      ]
     },
     "execution_count": 22,
     "metadata": {},
     "output_type": "execute_result"
    }
   ],
   "source": [
    "Decompostion.head(20)"
   ]
  },
  {
   "cell_type": "code",
   "execution_count": 23,
   "id": "31fc4b93",
   "metadata": {},
   "outputs": [
    {
     "data": {
      "text/plain": [
       "Index(['Electricty_Consumption_in_TW', 'trend', 'seasonal', 'resid'], dtype='object')"
      ]
     },
     "execution_count": 23,
     "metadata": {},
     "output_type": "execute_result"
    }
   ],
   "source": [
    "Decompostion.columns"
   ]
  },
  {
   "cell_type": "code",
   "execution_count": 24,
   "id": "7124d4d1",
   "metadata": {},
   "outputs": [],
   "source": [
    "Decompostion.columns=['Observed','Trend','Seasonal','Irregularity']"
   ]
  },
  {
   "cell_type": "code",
   "execution_count": 25,
   "id": "959c504e",
   "metadata": {},
   "outputs": [
    {
     "data": {
      "text/html": [
       "<div>\n",
       "<style scoped>\n",
       "    .dataframe tbody tr th:only-of-type {\n",
       "        vertical-align: middle;\n",
       "    }\n",
       "\n",
       "    .dataframe tbody tr th {\n",
       "        vertical-align: top;\n",
       "    }\n",
       "\n",
       "    .dataframe thead th {\n",
       "        text-align: right;\n",
       "    }\n",
       "</style>\n",
       "<table border=\"1\" class=\"dataframe\">\n",
       "  <thead>\n",
       "    <tr style=\"text-align: right;\">\n",
       "      <th></th>\n",
       "      <th>Observed</th>\n",
       "      <th>Trend</th>\n",
       "      <th>Seasonal</th>\n",
       "      <th>Irregularity</th>\n",
       "    </tr>\n",
       "    <tr>\n",
       "      <th>New_Date</th>\n",
       "      <th></th>\n",
       "      <th></th>\n",
       "      <th></th>\n",
       "      <th></th>\n",
       "    </tr>\n",
       "  </thead>\n",
       "  <tbody>\n",
       "    <tr>\n",
       "      <th>1973-01-01</th>\n",
       "      <td>35.9728</td>\n",
       "      <td>NaN</td>\n",
       "      <td>1.055358</td>\n",
       "      <td>NaN</td>\n",
       "    </tr>\n",
       "    <tr>\n",
       "      <th>1973-02-01</th>\n",
       "      <td>36.1334</td>\n",
       "      <td>NaN</td>\n",
       "      <td>0.996086</td>\n",
       "      <td>NaN</td>\n",
       "    </tr>\n",
       "    <tr>\n",
       "      <th>1973-03-01</th>\n",
       "      <td>35.0625</td>\n",
       "      <td>NaN</td>\n",
       "      <td>0.945337</td>\n",
       "      <td>NaN</td>\n",
       "    </tr>\n",
       "    <tr>\n",
       "      <th>1973-04-01</th>\n",
       "      <td>33.8416</td>\n",
       "      <td>NaN</td>\n",
       "      <td>0.890877</td>\n",
       "      <td>NaN</td>\n",
       "    </tr>\n",
       "    <tr>\n",
       "      <th>1973-05-01</th>\n",
       "      <td>33.5107</td>\n",
       "      <td>NaN</td>\n",
       "      <td>0.918780</td>\n",
       "      <td>NaN</td>\n",
       "    </tr>\n",
       "    <tr>\n",
       "      <th>1973-06-01</th>\n",
       "      <td>36.4823</td>\n",
       "      <td>NaN</td>\n",
       "      <td>1.030843</td>\n",
       "      <td>NaN</td>\n",
       "    </tr>\n",
       "    <tr>\n",
       "      <th>1973-07-01</th>\n",
       "      <td>39.1412</td>\n",
       "      <td>37.223388</td>\n",
       "      <td>1.125749</td>\n",
       "      <td>0.934064</td>\n",
       "    </tr>\n",
       "    <tr>\n",
       "      <th>1973-08-01</th>\n",
       "      <td>41.4137</td>\n",
       "      <td>37.576442</td>\n",
       "      <td>1.136105</td>\n",
       "      <td>0.970085</td>\n",
       "    </tr>\n",
       "    <tr>\n",
       "      <th>1973-09-01</th>\n",
       "      <td>40.1639</td>\n",
       "      <td>37.850562</td>\n",
       "      <td>1.038776</td>\n",
       "      <td>1.021507</td>\n",
       "    </tr>\n",
       "    <tr>\n",
       "      <th>1973-10-01</th>\n",
       "      <td>37.1133</td>\n",
       "      <td>38.072942</td>\n",
       "      <td>0.936702</td>\n",
       "      <td>1.040667</td>\n",
       "    </tr>\n",
       "    <tr>\n",
       "      <th>1973-11-01</th>\n",
       "      <td>37.0248</td>\n",
       "      <td>38.301167</td>\n",
       "      <td>0.924028</td>\n",
       "      <td>1.046154</td>\n",
       "    </tr>\n",
       "    <tr>\n",
       "      <th>1973-12-01</th>\n",
       "      <td>38.4341</td>\n",
       "      <td>38.610592</td>\n",
       "      <td>1.001358</td>\n",
       "      <td>0.994079</td>\n",
       "    </tr>\n",
       "    <tr>\n",
       "      <th>1974-01-01</th>\n",
       "      <td>40.7455</td>\n",
       "      <td>39.011538</td>\n",
       "      <td>1.055358</td>\n",
       "      <td>0.989662</td>\n",
       "    </tr>\n",
       "    <tr>\n",
       "      <th>1974-02-01</th>\n",
       "      <td>39.8340</td>\n",
       "      <td>39.416763</td>\n",
       "      <td>0.996086</td>\n",
       "      <td>1.014556</td>\n",
       "    </tr>\n",
       "    <tr>\n",
       "      <th>1974-03-01</th>\n",
       "      <td>37.9408</td>\n",
       "      <td>39.783508</td>\n",
       "      <td>0.945337</td>\n",
       "      <td>1.008827</td>\n",
       "    </tr>\n",
       "    <tr>\n",
       "      <th>1974-04-01</th>\n",
       "      <td>36.3004</td>\n",
       "      <td>40.109342</td>\n",
       "      <td>0.890877</td>\n",
       "      <td>1.015893</td>\n",
       "    </tr>\n",
       "    <tr>\n",
       "      <th>1974-05-01</th>\n",
       "      <td>36.5293</td>\n",
       "      <td>40.359079</td>\n",
       "      <td>0.918780</td>\n",
       "      <td>0.985119</td>\n",
       "    </tr>\n",
       "    <tr>\n",
       "      <th>1974-06-01</th>\n",
       "      <td>40.8899</td>\n",
       "      <td>40.481496</td>\n",
       "      <td>1.030843</td>\n",
       "      <td>0.979866</td>\n",
       "    </tr>\n",
       "    <tr>\n",
       "      <th>1974-07-01</th>\n",
       "      <td>44.3563</td>\n",
       "      <td>40.474113</td>\n",
       "      <td>1.125749</td>\n",
       "      <td>0.973501</td>\n",
       "    </tr>\n",
       "    <tr>\n",
       "      <th>1974-08-01</th>\n",
       "      <td>45.9240</td>\n",
       "      <td>40.441217</td>\n",
       "      <td>1.136105</td>\n",
       "      <td>0.999533</td>\n",
       "    </tr>\n",
       "  </tbody>\n",
       "</table>\n",
       "</div>"
      ],
      "text/plain": [
       "            Observed      Trend  Seasonal  Irregularity\n",
       "New_Date                                               \n",
       "1973-01-01   35.9728        NaN  1.055358           NaN\n",
       "1973-02-01   36.1334        NaN  0.996086           NaN\n",
       "1973-03-01   35.0625        NaN  0.945337           NaN\n",
       "1973-04-01   33.8416        NaN  0.890877           NaN\n",
       "1973-05-01   33.5107        NaN  0.918780           NaN\n",
       "1973-06-01   36.4823        NaN  1.030843           NaN\n",
       "1973-07-01   39.1412  37.223388  1.125749      0.934064\n",
       "1973-08-01   41.4137  37.576442  1.136105      0.970085\n",
       "1973-09-01   40.1639  37.850562  1.038776      1.021507\n",
       "1973-10-01   37.1133  38.072942  0.936702      1.040667\n",
       "1973-11-01   37.0248  38.301167  0.924028      1.046154\n",
       "1973-12-01   38.4341  38.610592  1.001358      0.994079\n",
       "1974-01-01   40.7455  39.011538  1.055358      0.989662\n",
       "1974-02-01   39.8340  39.416763  0.996086      1.014556\n",
       "1974-03-01   37.9408  39.783508  0.945337      1.008827\n",
       "1974-04-01   36.3004  40.109342  0.890877      1.015893\n",
       "1974-05-01   36.5293  40.359079  0.918780      0.985119\n",
       "1974-06-01   40.8899  40.481496  1.030843      0.979866\n",
       "1974-07-01   44.3563  40.474113  1.125749      0.973501\n",
       "1974-08-01   45.9240  40.441217  1.136105      0.999533"
      ]
     },
     "execution_count": 25,
     "metadata": {},
     "output_type": "execute_result"
    }
   ],
   "source": [
    "Decompostion.head(20)"
   ]
  },
  {
   "cell_type": "code",
   "execution_count": 26,
   "id": "7363b6d8",
   "metadata": {},
   "outputs": [
    {
     "name": "stderr",
     "output_type": "stream",
     "text": [
      "C:\\Users\\VVLG\\anaconda3\\lib\\site-packages\\statsmodels\\tsa\\stattools.py:657: FutureWarning: The default number of lags is changing from 40 tomin(int(10 * np.log10(nobs)), nobs - 1) after 0.12is released. Set the number of lags to an integer to  silence this warning.\n",
      "  warnings.warn(\n",
      "C:\\Users\\VVLG\\anaconda3\\lib\\site-packages\\statsmodels\\tsa\\stattools.py:667: FutureWarning: fft=True will become the default after the release of the 0.12 release of statsmodels. To suppress this warning, explicitly set fft=False.\n",
      "  warnings.warn(\n"
     ]
    },
    {
     "data": {
      "text/plain": [
       "array([1.        , 0.95647392, 0.87822982, 0.82945315, 0.841529  ,\n",
       "       0.88813059, 0.91122643, 0.88196658, 0.82805401, 0.80579718,\n",
       "       0.84356484, 0.9092393 , 0.94048579, 0.90057994, 0.82617458,\n",
       "       0.77958655, 0.79320802, 0.8397309 , 0.86221357, 0.83379379,\n",
       "       0.78177625, 0.76069374, 0.79757444, 0.8619873 , 0.89139636,\n",
       "       0.85166914, 0.77857553, 0.73313065, 0.74640927, 0.79162819,\n",
       "       0.81316289, 0.78520664, 0.73310236, 0.71201771, 0.74767556,\n",
       "       0.80929857, 0.83784094, 0.79920595, 0.72847833, 0.6849164 ,\n",
       "       0.69784608])"
      ]
     },
     "execution_count": 26,
     "metadata": {},
     "output_type": "execute_result"
    }
   ],
   "source": [
    "acf(df.Electricty_Consumption_in_TW)"
   ]
  },
  {
   "cell_type": "code",
   "execution_count": 27,
   "id": "0bd674e9",
   "metadata": {},
   "outputs": [
    {
     "name": "stderr",
     "output_type": "stream",
     "text": [
      "C:\\Users\\VVLG\\anaconda3\\lib\\site-packages\\statsmodels\\tsa\\stattools.py:886: FutureWarning: The default number of lags is changing from 40 tomin(int(10 * np.log10(nobs)), nobs - 1) after 0.12is released. Set the number of lags to an integer to  silence this warning.\n",
      "  warnings.warn(\n"
     ]
    },
    {
     "data": {
      "text/plain": [
       "array([ 1.        ,  0.96010214, -0.46239143,  0.68714216,  0.45886201,\n",
       "        0.1559856 , -0.18798794, -0.01014574,  0.18169407,  0.49156644,\n",
       "        0.49933306,  0.5094987 ,  0.37656677, -0.41925301, -0.05163282,\n",
       "       -0.13345659,  0.11005347, -0.00342721, -0.02550308,  0.01845861,\n",
       "       -0.0503431 , -0.00971101,  0.057987  ,  0.2401917 ,  0.1500228 ,\n",
       "       -0.12035626, -0.01871735, -0.05644169, -0.00463219, -0.06631367,\n",
       "        0.0409564 ,  0.02993122, -0.04493081,  0.10883131,  0.00458799,\n",
       "        0.13946451,  0.10968151, -0.18123046, -0.01554567, -0.0029174 ,\n",
       "       -0.07123474])"
      ]
     },
     "execution_count": 27,
     "metadata": {},
     "output_type": "execute_result"
    }
   ],
   "source": [
    "pacf_ols(df.Electricty_Consumption_in_TW)"
   ]
  },
  {
   "cell_type": "code",
   "execution_count": 28,
   "id": "e4169b6d",
   "metadata": {},
   "outputs": [
    {
     "data": {
      "image/png": "[encoded data removed]",
      "text/plain": [
       "<Figure size 432x288 with 1 Axes>"
      ]
     },
     "execution_count": 28,
     "metadata": {},
     "output_type": "execute_result"
    },
    {
     "data": {
      "image/png": "[encoded data removed]",
      "text/plain": [
       "<Figure size 432x288 with 1 Axes>"
      ]
     },
     "metadata": {
      "needs_background": "light"
     },
     "output_type": "display_data"
    }
   ],
   "source": [
    "smt.graphics.plot_acf(df.Electricty_Consumption_in_TW,lags=24)"
   ]
  },
  {
   "cell_type": "code",
   "execution_count": 29,
   "id": "1b57f07d",
   "metadata": {},
   "outputs": [
    {
     "data": {
      "image/png": "[encoded data removed]",
      "text/plain": [
       "<Figure size 432x288 with 1 Axes>"
      ]
     },
     "execution_count": 29,
     "metadata": {},
     "output_type": "execute_result"
    },
    {
     "data": {
      "image/png": "[encoded data removed]",
      "text/plain": [
       "<Figure size 432x288 with 1 Axes>"
      ]
     },
     "metadata": {
      "needs_background": "light"
     },
     "output_type": "display_data"
    }
   ],
   "source": [
    "smt.graphics.plot_pacf(df.Electricty_Consumption_in_TW,lags=24)"
   ]
  },
  {
   "cell_type": "code",
   "execution_count": 30,
   "id": "b54227c1",
   "metadata": {},
   "outputs": [
    {
     "name": "stdout",
     "output_type": "stream",
     "text": [
      "P Value: 0.410328160446865\n"
     ]
    }
   ],
   "source": [
    "print('P Value:',adfuller(df.Electricty_Consumption_in_TW)[1])"
   ]
  },
  {
   "cell_type": "code",
   "execution_count": 31,
   "id": "d79c5e06",
   "metadata": {},
   "outputs": [
    {
     "name": "stdout",
     "output_type": "stream",
     "text": [
      "Since P Value of 0.410 is greater than 0.05 we can consider that the data is not stationary\n"
     ]
    }
   ],
   "source": [
    "print('Since P Value of 0.410 is greater than 0.05 we can consider that the data is not stationary')"
   ]
  },
  {
   "cell_type": "markdown",
   "id": "a07d8a89",
   "metadata": {},
   "source": [
    "<h4><center>Applying Log transformation"
   ]
  },
  {
   "cell_type": "code",
   "execution_count": 32,
   "id": "c2d08980",
   "metadata": {},
   "outputs": [
    {
     "name": "stdout",
     "output_type": "stream",
     "text": [
      "P Value: 0.03472044330065557\n"
     ]
    }
   ],
   "source": [
    "print('P Value:',adfuller(np.log(df.Electricty_Consumption_in_TW))[1])"
   ]
  },
  {
   "cell_type": "code",
   "execution_count": 33,
   "id": "91d9a664",
   "metadata": {},
   "outputs": [
    {
     "name": "stdout",
     "output_type": "stream",
     "text": [
      "Now, since P Value of 0.034 is lesser than 0.05 we can consider that the data is stationary\n"
     ]
    }
   ],
   "source": [
    "print('Now, since P Value of 0.034 is lesser than 0.05 we can consider that the data is stationary')"
   ]
  },
  {
   "cell_type": "markdown",
   "id": "7bf18594",
   "metadata": {},
   "source": [
    "<h3><center>Finding the best averages"
   ]
  },
  {
   "cell_type": "code",
   "execution_count": 34,
   "id": "d3dbd7f4",
   "metadata": {},
   "outputs": [
    {
     "data": {
      "text/plain": [
       "<AxesSubplot:xlabel='New_Date'>"
      ]
     },
     "execution_count": 34,
     "metadata": {},
     "output_type": "execute_result"
    },
    {
     "data": {
      "image/png": "[encoded data removed]",
      "text/plain": [
       "<Figure size 432x288 with 1 Axes>"
      ]
     },
     "metadata": {
      "needs_background": "light"
     },
     "output_type": "display_data"
    }
   ],
   "source": [
    "df.Electricty_Consumption_in_TW.rolling(window=24).mean().plot()"
   ]
  },
  {
   "cell_type": "code",
   "execution_count": 35,
   "id": "62ed37d7",
   "metadata": {},
   "outputs": [
    {
     "data": {
      "text/plain": [
       "array([1973, 1974, 1975, 1976, 1977, 1978, 1979, 1980, 1981, 1982, 1983,\n",
       "       1984, 1985, 1986, 1987, 1988, 1989, 1990, 1991, 1992, 1993, 1994,\n",
       "       1995, 1996, 1997, 1998, 1999, 2000, 2001, 2002, 2003, 2004, 2005,\n",
       "       2006, 2007, 2008, 2009, 2010, 2011, 2012, 2013, 2014, 2015, 2016,\n",
       "       2017, 2018, 2019], dtype=int64)"
      ]
     },
     "execution_count": 35,
     "metadata": {},
     "output_type": "execute_result"
    }
   ],
   "source": [
    "df.Year.unique()"
   ]
  },
  {
   "cell_type": "markdown",
   "id": "c8e11f93",
   "metadata": {},
   "source": [
    "<h4>Running ETS model"
   ]
  },
  {
   "cell_type": "code",
   "execution_count": 36,
   "id": "fd17641b",
   "metadata": {},
   "outputs": [
    {
     "name": "stderr",
     "output_type": "stream",
     "text": [
      "C:\\Users\\VVLG\\anaconda3\\lib\\site-packages\\statsmodels\\tsa\\base\\tsa_model.py:524: ValueWarning: No frequency information was provided, so inferred frequency MS will be used.\n",
      "  warnings.warn('No frequency information was'\n",
      "C:\\Users\\VVLG\\anaconda3\\lib\\site-packages\\statsmodels\\tsa\\holtwinters\\model.py:427: FutureWarning: After 0.13 initialization must be handled at model creation\n",
      "  warnings.warn(\n"
     ]
    }
   ],
   "source": [
    "ets = ExponentialSmoothing(df.Electricty_Consumption_in_TW, trend = 'mul', seasonal='mul', seasonal_periods=24)"
   ]
  },
  {
   "cell_type": "code",
   "execution_count": 37,
   "id": "8f9bcd5a",
   "metadata": {},
   "outputs": [
    {
     "name": "stderr",
     "output_type": "stream",
     "text": [
      "C:\\Users\\VVLG\\AppData\\Local\\Temp/ipykernel_37676/3731238520.py:1: FutureWarning: the 'smoothing_slope'' keyword is deprecated, use 'smoothing_trend' instead\n",
      "  ets = ets.fit(smoothing_level=0.1, smoothing_slope=0.6, smoothing_seasonal=0.2)\n",
      "C:\\Users\\VVLG\\anaconda3\\lib\\site-packages\\statsmodels\\tsa\\holtwinters\\model.py:920: ConvergenceWarning: Optimization failed to converge. Check mle_retvals.\n",
      "  warnings.warn(\n"
     ]
    }
   ],
   "source": [
    "ets = ets.fit(smoothing_level=0.1, smoothing_slope=0.6, smoothing_seasonal=0.2)"
   ]
  },
  {
   "cell_type": "code",
   "execution_count": 38,
   "id": "41aa363c",
   "metadata": {},
   "outputs": [
    {
     "data": {
      "text/html": [
       "<table class=\"simpletable\">\n",
       "<caption>ExponentialSmoothing Model Results</caption>\n",
       "<tr>\n",
       "  <th>Dep. Variable:</th>    <td>Electricty_Consumption_in_TW</td> <th>  No. Observations:  </th>        <td>561</td>      \n",
       "</tr>\n",
       "<tr>\n",
       "  <th>Model:</th>                <td>ExponentialSmoothing</td>     <th>  SSE                </th>    <td>1701473.464</td>  \n",
       "</tr>\n",
       "<tr>\n",
       "  <th>Optimized:</th>                    <td>True</td>             <th>  AIC                </th>     <td>4553.696</td>    \n",
       "</tr>\n",
       "<tr>\n",
       "  <th>Trend:</th>                   <td>Multiplicative</td>        <th>  BIC                </th>     <td>4674.929</td>    \n",
       "</tr>\n",
       "<tr>\n",
       "  <th>Seasonal:</th>                <td>Multiplicative</td>        <th>  AICC               </th>     <td>4557.206</td>    \n",
       "</tr>\n",
       "<tr>\n",
       "  <th>Seasonal Periods:</th>              <td>24</td>              <th>  Date:              </th> <td>Wed, 29 Sep 2021</td>\n",
       "</tr>\n",
       "<tr>\n",
       "  <th>Box-Cox:</th>                      <td>False</td>            <th>  Time:              </th>     <td>00:59:31</td>    \n",
       "</tr>\n",
       "<tr>\n",
       "  <th>Box-Cox Coeff.:</th>               <td>None</td>             <th>                     </th>         <td> </td>       \n",
       "</tr>\n",
       "</table>\n",
       "<table class=\"simpletable\">\n",
       "<tr>\n",
       "           <td></td>                  <th>coeff</th>                <th>code</th>               <th>optimized</th>     \n",
       "</tr>\n",
       "<tr>\n",
       "  <th>smoothing_level</th>    <td>           0.1000000</td> <td>               alpha</td> <td>               False</td>\n",
       "</tr>\n",
       "<tr>\n",
       "  <th>smoothing_trend</th>    <td>           0.6000000</td> <td>                beta</td> <td>               False</td>\n",
       "</tr>\n",
       "<tr>\n",
       "  <th>smoothing_seasonal</th> <td>           0.2000000</td> <td>               gamma</td> <td>               False</td>\n",
       "</tr>\n",
       "<tr>\n",
       "  <th>initial_level</th>      <td>           79.960813</td> <td>                 l.0</td> <td>                True</td>\n",
       "</tr>\n",
       "<tr>\n",
       "  <th>initial_trend</th>      <td>           1.0031557</td> <td>                 b.0</td> <td>                True</td>\n",
       "</tr>\n",
       "<tr>\n",
       "  <th>initial_seasons.0</th>  <td>           0.4498804</td> <td>                 s.0</td> <td>                True</td>\n",
       "</tr>\n",
       "<tr>\n",
       "  <th>initial_seasons.1</th>  <td>           0.4518889</td> <td>                 s.1</td> <td>                True</td>\n",
       "</tr>\n",
       "<tr>\n",
       "  <th>initial_seasons.2</th>  <td>           0.4384960</td> <td>                 s.2</td> <td>                True</td>\n",
       "</tr>\n",
       "<tr>\n",
       "  <th>initial_seasons.3</th>  <td>           0.4232273</td> <td>                 s.3</td> <td>                True</td>\n",
       "</tr>\n",
       "<tr>\n",
       "  <th>initial_seasons.4</th>  <td>           0.4190890</td> <td>                 s.4</td> <td>                True</td>\n",
       "</tr>\n",
       "<tr>\n",
       "  <th>initial_seasons.5</th>  <td>           0.4562522</td> <td>                 s.5</td> <td>                True</td>\n",
       "</tr>\n",
       "<tr>\n",
       "  <th>initial_seasons.6</th>  <td>           0.4895048</td> <td>                 s.6</td> <td>                True</td>\n",
       "</tr>\n",
       "<tr>\n",
       "  <th>initial_seasons.7</th>  <td>           0.5179250</td> <td>                 s.7</td> <td>                True</td>\n",
       "</tr>\n",
       "<tr>\n",
       "  <th>initial_seasons.8</th>  <td>           0.5022948</td> <td>                 s.8</td> <td>                True</td>\n",
       "</tr>\n",
       "<tr>\n",
       "  <th>initial_seasons.9</th>  <td>           0.4641436</td> <td>                 s.9</td> <td>                True</td>\n",
       "</tr>\n",
       "<tr>\n",
       "  <th>initial_seasons.10</th> <td>           0.4630368</td> <td>                s.10</td> <td>                True</td>\n",
       "</tr>\n",
       "<tr>\n",
       "  <th>initial_seasons.11</th> <td>           0.4806617</td> <td>                s.11</td> <td>                True</td>\n",
       "</tr>\n",
       "<tr>\n",
       "  <th>initial_seasons.12</th> <td>           0.5095684</td> <td>                s.12</td> <td>                True</td>\n",
       "</tr>\n",
       "<tr>\n",
       "  <th>initial_seasons.13</th> <td>           0.4981690</td> <td>                s.13</td> <td>                True</td>\n",
       "</tr>\n",
       "<tr>\n",
       "  <th>initial_seasons.14</th> <td>           0.4744924</td> <td>                s.14</td> <td>                True</td>\n",
       "</tr>\n",
       "<tr>\n",
       "  <th>initial_seasons.15</th> <td>           0.4539774</td> <td>                s.15</td> <td>                True</td>\n",
       "</tr>\n",
       "<tr>\n",
       "  <th>initial_seasons.16</th> <td>           0.4568400</td> <td>                s.16</td> <td>                True</td>\n",
       "</tr>\n",
       "<tr>\n",
       "  <th>initial_seasons.17</th> <td>           0.5113742</td> <td>                s.17</td> <td>                True</td>\n",
       "</tr>\n",
       "<tr>\n",
       "  <th>initial_seasons.18</th> <td>           0.5547255</td> <td>                s.18</td> <td>                True</td>\n",
       "</tr>\n",
       "<tr>\n",
       "  <th>initial_seasons.19</th> <td>           0.5743313</td> <td>                s.19</td> <td>                True</td>\n",
       "</tr>\n",
       "<tr>\n",
       "  <th>initial_seasons.20</th> <td>           0.5559661</td> <td>                s.20</td> <td>                True</td>\n",
       "</tr>\n",
       "<tr>\n",
       "  <th>initial_seasons.21</th> <td>           0.5082702</td> <td>                s.21</td> <td>                True</td>\n",
       "</tr>\n",
       "<tr>\n",
       "  <th>initial_seasons.22</th> <td>           0.4938682</td> <td>                s.22</td> <td>                True</td>\n",
       "</tr>\n",
       "<tr>\n",
       "  <th>initial_seasons.23</th> <td>           0.4865733</td> <td>                s.23</td> <td>                True</td>\n",
       "</tr>\n",
       "</table>"
      ],
      "text/plain": [
       "<class 'statsmodels.iolib.summary.Summary'>\n",
       "\"\"\"\n",
       "                           ExponentialSmoothing Model Results                           \n",
       "========================================================================================\n",
       "Dep. Variable:     Electricty_Consumption_in_TW   No. Observations:                  561\n",
       "Model:                     ExponentialSmoothing   SSE                        1701473.464\n",
       "Optimized:                                 True   AIC                           4553.696\n",
       "Trend:                           Multiplicative   BIC                           4674.929\n",
       "Seasonal:                        Multiplicative   AICC                          4557.206\n",
       "Seasonal Periods:                            24   Date:                 Wed, 29 Sep 2021\n",
       "Box-Cox:                                  False   Time:                         00:59:31\n",
       "Box-Cox Coeff.:                            None                                         \n",
       "=================================================================================\n",
       "                          coeff                 code              optimized      \n",
       "---------------------------------------------------------------------------------\n",
       "smoothing_level               0.1000000                alpha                False\n",
       "smoothing_trend               0.6000000                 beta                False\n",
       "smoothing_seasonal            0.2000000                gamma                False\n",
       "initial_level                 79.960813                  l.0                 True\n",
       "initial_trend                 1.0031557                  b.0                 True\n",
       "initial_seasons.0             0.4498804                  s.0                 True\n",
       "initial_seasons.1             0.4518889                  s.1                 True\n",
       "initial_seasons.2             0.4384960                  s.2                 True\n",
       "initial_seasons.3             0.4232273                  s.3                 True\n",
       "initial_seasons.4             0.4190890                  s.4                 True\n",
       "initial_seasons.5             0.4562522                  s.5                 True\n",
       "initial_seasons.6             0.4895048                  s.6                 True\n",
       "initial_seasons.7             0.5179250                  s.7                 True\n",
       "initial_seasons.8             0.5022948                  s.8                 True\n",
       "initial_seasons.9             0.4641436                  s.9                 True\n",
       "initial_seasons.10            0.4630368                 s.10                 True\n",
       "initial_seasons.11            0.4806617                 s.11                 True\n",
       "initial_seasons.12            0.5095684                 s.12                 True\n",
       "initial_seasons.13            0.4981690                 s.13                 True\n",
       "initial_seasons.14            0.4744924                 s.14                 True\n",
       "initial_seasons.15            0.4539774                 s.15                 True\n",
       "initial_seasons.16            0.4568400                 s.16                 True\n",
       "initial_seasons.17            0.5113742                 s.17                 True\n",
       "initial_seasons.18            0.5547255                 s.18                 True\n",
       "initial_seasons.19            0.5743313                 s.19                 True\n",
       "initial_seasons.20            0.5559661                 s.20                 True\n",
       "initial_seasons.21            0.5082702                 s.21                 True\n",
       "initial_seasons.22            0.4938682                 s.22                 True\n",
       "initial_seasons.23            0.4865733                 s.23                 True\n",
       "---------------------------------------------------------------------------------\n",
       "\"\"\""
      ]
     },
     "execution_count": 38,
     "metadata": {},
     "output_type": "execute_result"
    }
   ],
   "source": [
    "ets.summary()"
   ]
  },
  {
   "cell_type": "code",
   "execution_count": 39,
   "id": "3d43bdb7",
   "metadata": {},
   "outputs": [
    {
     "name": "stderr",
     "output_type": "stream",
     "text": [
      "C:\\Users\\VVLG\\anaconda3\\lib\\site-packages\\statsmodels\\tsa\\base\\tsa_model.py:132: FutureWarning: The 'freq' argument in Timestamp is deprecated and will be removed in a future version.\n",
      "  date_key = Timestamp(key, freq=base_index.freq)\n"
     ]
    },
    {
     "data": {
      "text/plain": [
       "2019-10-01    33.636621\n",
       "2019-11-01    27.273805\n",
       "2019-12-01    25.713275\n",
       "2020-01-01    23.855087\n",
       "2020-02-01    20.612762\n",
       "2020-03-01    19.000178\n",
       "2020-04-01    17.509947\n",
       "2020-05-01    18.406531\n",
       "2020-06-01    21.335154\n",
       "2020-07-01    24.183641\n",
       "2020-08-01    25.435550\n",
       "2020-09-01    23.866435\n",
       "Freq: MS, dtype: float64"
      ]
     },
     "execution_count": 39,
     "metadata": {},
     "output_type": "execute_result"
    }
   ],
   "source": [
    "ets.forecast(steps=12)"
   ]
  },
  {
   "cell_type": "code",
   "execution_count": 40,
   "id": "e6e4f51c",
   "metadata": {},
   "outputs": [
    {
     "data": {
      "text/html": [
       "<div>\n",
       "<style scoped>\n",
       "    .dataframe tbody tr th:only-of-type {\n",
       "        vertical-align: middle;\n",
       "    }\n",
       "\n",
       "    .dataframe tbody tr th {\n",
       "        vertical-align: top;\n",
       "    }\n",
       "\n",
       "    .dataframe thead th {\n",
       "        text-align: right;\n",
       "    }\n",
       "</style>\n",
       "<table border=\"1\" class=\"dataframe\">\n",
       "  <thead>\n",
       "    <tr style=\"text-align: right;\">\n",
       "      <th></th>\n",
       "      <th>DATE</th>\n",
       "      <th>Electricty_Consumption_in_TW</th>\n",
       "      <th>Month</th>\n",
       "      <th>Year</th>\n",
       "    </tr>\n",
       "    <tr>\n",
       "      <th>New_Date</th>\n",
       "      <th></th>\n",
       "      <th></th>\n",
       "      <th></th>\n",
       "      <th></th>\n",
       "    </tr>\n",
       "  </thead>\n",
       "  <tbody>\n",
       "    <tr>\n",
       "      <th>2019-05-01</th>\n",
       "      <td>2019-05-01</td>\n",
       "      <td>97.5860</td>\n",
       "      <td>5</td>\n",
       "      <td>2019</td>\n",
       "    </tr>\n",
       "    <tr>\n",
       "      <th>2019-06-01</th>\n",
       "      <td>2019-06-01</td>\n",
       "      <td>110.8580</td>\n",
       "      <td>6</td>\n",
       "      <td>2019</td>\n",
       "    </tr>\n",
       "    <tr>\n",
       "      <th>2019-07-01</th>\n",
       "      <td>2019-07-01</td>\n",
       "      <td>122.1014</td>\n",
       "      <td>7</td>\n",
       "      <td>2019</td>\n",
       "    </tr>\n",
       "    <tr>\n",
       "      <th>2019-08-01</th>\n",
       "      <td>2019-08-01</td>\n",
       "      <td>121.7765</td>\n",
       "      <td>8</td>\n",
       "      <td>2019</td>\n",
       "    </tr>\n",
       "    <tr>\n",
       "      <th>2019-09-01</th>\n",
       "      <td>2019-09-01</td>\n",
       "      <td>109.7190</td>\n",
       "      <td>9</td>\n",
       "      <td>2019</td>\n",
       "    </tr>\n",
       "  </tbody>\n",
       "</table>\n",
       "</div>"
      ],
      "text/plain": [
       "                 DATE  Electricty_Consumption_in_TW  Month  Year\n",
       "New_Date                                                        \n",
       "2019-05-01 2019-05-01                       97.5860      5  2019\n",
       "2019-06-01 2019-06-01                      110.8580      6  2019\n",
       "2019-07-01 2019-07-01                      122.1014      7  2019\n",
       "2019-08-01 2019-08-01                      121.7765      8  2019\n",
       "2019-09-01 2019-09-01                      109.7190      9  2019"
      ]
     },
     "execution_count": 40,
     "metadata": {},
     "output_type": "execute_result"
    }
   ],
   "source": [
    "df.tail(5)"
   ]
  },
  {
   "cell_type": "markdown",
   "id": "d389d064",
   "metadata": {},
   "source": [
    "<h4>Train Test Split Data"
   ]
  },
  {
   "cell_type": "code",
   "execution_count": 41,
   "id": "1dfd1efd",
   "metadata": {},
   "outputs": [],
   "source": [
    "train=df.Electricty_Consumption_in_TW[:'2005-12-01']\n",
    "test=df.Electricty_Consumption_in_TW['2006-01-01':]"
   ]
  },
  {
   "cell_type": "code",
   "execution_count": 42,
   "id": "8c8f73c7",
   "metadata": {},
   "outputs": [
    {
     "name": "stdout",
     "output_type": "stream",
     "text": [
      "(396,)\n",
      "(165,)\n"
     ]
    }
   ],
   "source": [
    "print(train.shape)\n",
    "print(test.shape)"
   ]
  },
  {
   "cell_type": "markdown",
   "id": "e259ee06",
   "metadata": {},
   "source": [
    "<h3><center>Iterate for best ETS model"
   ]
  },
  {
   "cell_type": "code",
   "execution_count": 199,
   "id": "98a6b976",
   "metadata": {},
   "outputs": [
    {
     "name": "stderr",
     "output_type": "stream",
     "text": [
      "C:\\Users\\VVLG\\AppData\\Local\\Temp/ipykernel_3724/1509386879.py:11: FutureWarning: the 'smoothing_slope'' keyword is deprecated, use 'smoothing_trend' instead\n",
      "  ets = ets.fit(smoothing_level=a, smoothing_slope=b, smoothing_seasonal=g)\n",
      "C:\\Users\\VVLG\\anaconda3\\lib\\site-packages\\statsmodels\\tsa\\holtwinters\\model.py:920: ConvergenceWarning: Optimization failed to converge. Check mle_retvals.\n",
      "  warnings.warn(\n",
      "C:\\Users\\VVLG\\anaconda3\\lib\\site-packages\\statsmodels\\tsa\\holtwinters\\model.py:1383: RuntimeWarning: overflow encountered in multiply\n",
      "  trend = trended(lvls, b)\n",
      "C:\\Users\\VVLG\\anaconda3\\lib\\site-packages\\statsmodels\\tsa\\holtwinters\\model.py:1382: RuntimeWarning: overflow encountered in power\n",
      "  b[nobs:] = dampen(b[nobs], phi_h)\n",
      "C:\\Users\\VVLG\\anaconda3\\lib\\site-packages\\statsmodels\\tsa\\holtwinters\\model.py:1368: RuntimeWarning: overflow encountered in multiply\n",
      "  alphac * trended(lvls[i - 1], dampen(b[i - 1], phi))\n",
      "C:\\Users\\VVLG\\anaconda3\\lib\\site-packages\\statsmodels\\tsa\\holtwinters\\model.py:1374: RuntimeWarning: overflow encountered in multiply\n",
      "  s[i + m - 1] = y_gamma[i - 1] / trended(\n",
      "C:\\Users\\VVLG\\anaconda3\\lib\\site-packages\\statsmodels\\tsa\\holtwinters\\model.py:1371: RuntimeWarning: invalid value encountered in true_divide\n",
      "  b[i] = (beta * detrend(lvls[i], lvls[i - 1])) + (\n",
      "C:\\Users\\VVLG\\anaconda3\\lib\\site-packages\\statsmodels\\tsa\\holtwinters\\model.py:1387: RuntimeWarning: overflow encountered in multiply\n",
      "  fitted = trend * s[:-m]\n",
      "C:\\Users\\VVLG\\anaconda3\\lib\\site-packages\\statsmodels\\tsa\\holtwinters\\model.py:1436: RuntimeWarning: overflow encountered in matmul\n",
      "  sse = err.T @ err\n",
      "C:\\Users\\VVLG\\anaconda3\\lib\\site-packages\\scipy\\optimize\\_numdiff.py:557: RuntimeWarning: invalid value encountered in subtract\n",
      "  df = fun(x) - f0\n"
     ]
    }
   ],
   "source": [
    "Alpha_list=[]\n",
    "Beta_list=[]\n",
    "Gamma_list=[]\n",
    "Error_list=[]\n",
    "\n",
    "for a in [0.1,0.2,0.3,0.4,0.5,0.6,0.7,0.8,0.9]:\n",
    "    for b in [0.1,0.2,0.3,0.4,0.5,0.6,0.7,0.8,0.9]:\n",
    "        for g in [0.1,0.2,0.3,0.4,0.5,0.6,0.7,0.8,0.9]:\n",
    "            \n",
    "            ets = ExponentialSmoothing(train, trend = 'mul', seasonal='mul', seasonal_periods=24)\n",
    "            ets = ets.fit(smoothing_level=a, smoothing_slope=b, smoothing_seasonal=g)\n",
    "            Forecasted_train=ets.forecast(steps=165)\n",
    "            \n",
    "            Alpha_list.append(a)\n",
    "            Beta_list.append(b)\n",
    "            Gamma_list.append(g)\n",
    "            Error_list.append(np.mean(np.abs(test-Forecasted_train)/test))"
   ]
  },
  {
   "cell_type": "code",
   "execution_count": 204,
   "id": "2c31f6e5",
   "metadata": {},
   "outputs": [],
   "source": [
    "TS_DF=pd.concat([pd.Series(Alpha_list),pd.Series(Beta_list),pd.Series(Gamma_list),pd.Series(Error_list)],axis=1)\n",
    "TS_DF.columns=['Alpha','Beta','Gamma','Error']"
   ]
  },
  {
   "cell_type": "markdown",
   "id": "ddc75630",
   "metadata": {},
   "source": [
    "<b><i>Error table in the below dataframe is MAPE"
   ]
  },
  {
   "cell_type": "code",
   "execution_count": 211,
   "id": "aa4c3b7a",
   "metadata": {},
   "outputs": [
    {
     "data": {
      "text/html": [
       "<div>\n",
       "<style scoped>\n",
       "    .dataframe tbody tr th:only-of-type {\n",
       "        vertical-align: middle;\n",
       "    }\n",
       "\n",
       "    .dataframe tbody tr th {\n",
       "        vertical-align: top;\n",
       "    }\n",
       "\n",
       "    .dataframe thead th {\n",
       "        text-align: right;\n",
       "    }\n",
       "</style>\n",
       "<table border=\"1\" class=\"dataframe\">\n",
       "  <thead>\n",
       "    <tr style=\"text-align: right;\">\n",
       "      <th></th>\n",
       "      <th>Alpha</th>\n",
       "      <th>Beta</th>\n",
       "      <th>Gamma</th>\n",
       "      <th>Error</th>\n",
       "    </tr>\n",
       "  </thead>\n",
       "  <tbody>\n",
       "    <tr>\n",
       "      <th>380</th>\n",
       "      <td>0.5</td>\n",
       "      <td>0.7</td>\n",
       "      <td>0.3</td>\n",
       "      <td>0.027593</td>\n",
       "    </tr>\n",
       "    <tr>\n",
       "      <th>308</th>\n",
       "      <td>0.4</td>\n",
       "      <td>0.8</td>\n",
       "      <td>0.3</td>\n",
       "      <td>0.027969</td>\n",
       "    </tr>\n",
       "    <tr>\n",
       "      <th>460</th>\n",
       "      <td>0.6</td>\n",
       "      <td>0.7</td>\n",
       "      <td>0.2</td>\n",
       "      <td>0.028268</td>\n",
       "    </tr>\n",
       "    <tr>\n",
       "      <th>668</th>\n",
       "      <td>0.9</td>\n",
       "      <td>0.3</td>\n",
       "      <td>0.3</td>\n",
       "      <td>0.028474</td>\n",
       "    </tr>\n",
       "    <tr>\n",
       "      <th>607</th>\n",
       "      <td>0.8</td>\n",
       "      <td>0.5</td>\n",
       "      <td>0.5</td>\n",
       "      <td>0.029121</td>\n",
       "    </tr>\n",
       "    <tr>\n",
       "      <th>...</th>\n",
       "      <td>...</td>\n",
       "      <td>...</td>\n",
       "      <td>...</td>\n",
       "      <td>...</td>\n",
       "    </tr>\n",
       "    <tr>\n",
       "      <th>305</th>\n",
       "      <td>0.4</td>\n",
       "      <td>0.7</td>\n",
       "      <td>0.9</td>\n",
       "      <td>inf</td>\n",
       "    </tr>\n",
       "    <tr>\n",
       "      <th>557</th>\n",
       "      <td>0.7</td>\n",
       "      <td>0.8</td>\n",
       "      <td>0.9</td>\n",
       "      <td>inf</td>\n",
       "    </tr>\n",
       "    <tr>\n",
       "      <th>293</th>\n",
       "      <td>0.4</td>\n",
       "      <td>0.6</td>\n",
       "      <td>0.6</td>\n",
       "      <td>NaN</td>\n",
       "    </tr>\n",
       "    <tr>\n",
       "      <th>314</th>\n",
       "      <td>0.4</td>\n",
       "      <td>0.8</td>\n",
       "      <td>0.9</td>\n",
       "      <td>NaN</td>\n",
       "    </tr>\n",
       "    <tr>\n",
       "      <th>728</th>\n",
       "      <td>0.9</td>\n",
       "      <td>0.9</td>\n",
       "      <td>0.9</td>\n",
       "      <td>NaN</td>\n",
       "    </tr>\n",
       "  </tbody>\n",
       "</table>\n",
       "<p>729 rows × 4 columns</p>\n",
       "</div>"
      ],
      "text/plain": [
       "     Alpha  Beta  Gamma     Error\n",
       "380    0.5   0.7    0.3  0.027593\n",
       "308    0.4   0.8    0.3  0.027969\n",
       "460    0.6   0.7    0.2  0.028268\n",
       "668    0.9   0.3    0.3  0.028474\n",
       "607    0.8   0.5    0.5  0.029121\n",
       "..     ...   ...    ...       ...\n",
       "305    0.4   0.7    0.9       inf\n",
       "557    0.7   0.8    0.9       inf\n",
       "293    0.4   0.6    0.6       NaN\n",
       "314    0.4   0.8    0.9       NaN\n",
       "728    0.9   0.9    0.9       NaN\n",
       "\n",
       "[729 rows x 4 columns]"
      ]
     },
     "execution_count": 211,
     "metadata": {},
     "output_type": "execute_result"
    }
   ],
   "source": [
    "TS_DF.sort_values('Error')"
   ]
  },
  {
   "cell_type": "code",
   "execution_count": 43,
   "id": "562bdeb1",
   "metadata": {},
   "outputs": [
    {
     "name": "stderr",
     "output_type": "stream",
     "text": [
      "C:\\Users\\VVLG\\anaconda3\\lib\\site-packages\\statsmodels\\tsa\\base\\tsa_model.py:524: ValueWarning: No frequency information was provided, so inferred frequency MS will be used.\n",
      "  warnings.warn('No frequency information was'\n",
      "C:\\Users\\VVLG\\anaconda3\\lib\\site-packages\\statsmodels\\tsa\\holtwinters\\model.py:427: FutureWarning: After 0.13 initialization must be handled at model creation\n",
      "  warnings.warn(\n",
      "C:\\Users\\VVLG\\AppData\\Local\\Temp/ipykernel_37676/1858058430.py:2: FutureWarning: the 'smoothing_slope'' keyword is deprecated, use 'smoothing_trend' instead\n",
      "  ets = ets.fit(smoothing_level=0.5, smoothing_slope=0.7, smoothing_seasonal=0.3)\n",
      "C:\\Users\\VVLG\\anaconda3\\lib\\site-packages\\statsmodels\\tsa\\holtwinters\\model.py:80: RuntimeWarning: overflow encountered in matmul\n",
      "  return err.T @ err\n"
     ]
    }
   ],
   "source": [
    "ets = ExponentialSmoothing(train, trend = 'mul', seasonal='mul', seasonal_periods=24)\n",
    "ets = ets.fit(smoothing_level=0.5, smoothing_slope=0.7, smoothing_seasonal=0.3)"
   ]
  },
  {
   "cell_type": "code",
   "execution_count": 44,
   "id": "50d3829c",
   "metadata": {},
   "outputs": [
    {
     "name": "stderr",
     "output_type": "stream",
     "text": [
      "C:\\Users\\VVLG\\anaconda3\\lib\\site-packages\\statsmodels\\tsa\\base\\tsa_model.py:132: FutureWarning: The 'freq' argument in Timestamp is deprecated and will be removed in a future version.\n",
      "  date_key = Timestamp(key, freq=base_index.freq)\n"
     ]
    }
   ],
   "source": [
    "Forecasted_train=ets.forecast(steps=165)"
   ]
  },
  {
   "cell_type": "code",
   "execution_count": 45,
   "id": "accd5289",
   "metadata": {},
   "outputs": [
    {
     "name": "stdout",
     "output_type": "stream",
     "text": [
      "Test Error: 0.027592722678372365\n"
     ]
    }
   ],
   "source": [
    "print('Test Error:', np.mean(np.abs(test-Forecasted_train)/test))"
   ]
  },
  {
   "cell_type": "markdown",
   "id": "a5d430ab",
   "metadata": {},
   "source": [
    "<h3>SARIMA Model"
   ]
  },
  {
   "cell_type": "markdown",
   "id": "e51ed511",
   "metadata": {},
   "source": [
    "<i>The reason for SARIMA because there is Seasonality in the data."
   ]
  },
  {
   "cell_type": "markdown",
   "id": "7847d4e5",
   "metadata": {},
   "source": [
    "<b>Stage 1: Identification of the hyperparameters: </b><br>\n",
    "    1. Beta for Auto Regression (p,P)<br>\n",
    "    2. Stationarity for Integration (d,D)<br>\n",
    "    3. Errors for Moving Average (q,Q)<br>\n",
    "    4. Time Series for seasonal time period (T) <br>\n",
    "    <i>Using Box-Jenkins process and iterative method."
   ]
  },
  {
   "cell_type": "markdown",
   "id": "6939b6e5",
   "metadata": {},
   "source": [
    "<u>Metrics:</u><br>\n",
    "ADF - To get the p<br>\n",
    "ACF - To get the d<br>\n",
    "PACD - To get the q<br>\n",
    "ACF - To get the T<br>"
   ]
  },
  {
   "cell_type": "code",
   "execution_count": 46,
   "id": "a77530e4",
   "metadata": {},
   "outputs": [
    {
     "data": {
      "text/plain": [
       "(-1.7405933729832501,\n",
       " 0.410328160446865,\n",
       " 15,\n",
       " 545,\n",
       " {'1%': -3.442405720052601,\n",
       "  '5%': -2.866857804790472,\n",
       "  '10%': -2.5696022094099824},\n",
       " 2295.409663118043)"
      ]
     },
     "execution_count": 46,
     "metadata": {},
     "output_type": "execute_result"
    }
   ],
   "source": [
    "adfuller(df.Electricty_Consumption_in_TW)"
   ]
  },
  {
   "cell_type": "code",
   "execution_count": 62,
   "id": "b08d92d6",
   "metadata": {},
   "outputs": [
    {
     "data": {
      "text/plain": [
       "(-6.884809722917953,\n",
       " 1.4034181751303514e-09,\n",
       " 14,\n",
       " 545,\n",
       " {'1%': -3.442405720052601,\n",
       "  '5%': -2.866857804790472,\n",
       "  '10%': -2.5696022094099824},\n",
       " -2505.200358302891)"
      ]
     },
     "execution_count": 62,
     "metadata": {},
     "output_type": "execute_result"
    }
   ],
   "source": [
    "adfuller(np.log(df.Electricty_Consumption_in_TW).diff(1).dropna())"
   ]
  },
  {
   "cell_type": "code",
   "execution_count": 64,
   "id": "108fbc6c",
   "metadata": {},
   "outputs": [
    {
     "data": {
      "text/plain": [
       "New_Date\n",
       "1973-02-01    0.004455\n",
       "1973-03-01   -0.030085\n",
       "1973-04-01   -0.035441\n",
       "1973-05-01   -0.009826\n",
       "1973-06-01    0.084962\n",
       "                ...   \n",
       "2019-05-01    0.089995\n",
       "2019-06-01    0.127516\n",
       "2019-07-01    0.096602\n",
       "2019-08-01   -0.002664\n",
       "2019-09-01   -0.104265\n",
       "Name: Electricty_Consumption_in_TW, Length: 560, dtype: float64"
      ]
     },
     "execution_count": 64,
     "metadata": {},
     "output_type": "execute_result"
    }
   ],
   "source": [
    "yt=(np.log(df.Electricty_Consumption_in_TW).diff(1).dropna())\n",
    "yt"
   ]
  },
  {
   "cell_type": "code",
   "execution_count": 65,
   "id": "ab55871c",
   "metadata": {},
   "outputs": [],
   "source": [
    "train=yt[:'2005-12-01']\n",
    "test=yt['2006-01-01':]"
   ]
  },
  {
   "cell_type": "code",
   "execution_count": 66,
   "id": "f79b804e",
   "metadata": {},
   "outputs": [],
   "source": [
    "log_Elec_Cons=np.log(df.Electricty_Consumption_in_TW)"
   ]
  },
  {
   "cell_type": "code",
   "execution_count": 70,
   "id": "e19d5616",
   "metadata": {},
   "outputs": [
    {
     "data": {
      "image/png": "[encoded data removed]",
      "text/plain": [
       "<Figure size 432x288 with 1 Axes>"
      ]
     },
     "execution_count": 70,
     "metadata": {},
     "output_type": "execute_result"
    },
    {
     "data": {
      "image/png": "[encoded data removed]",
      "text/plain": [
       "<Figure size 432x288 with 1 Axes>"
      ]
     },
     "metadata": {
      "needs_background": "light"
     },
     "output_type": "display_data"
    }
   ],
   "source": [
    "smt.graphics.plot_acf(yt,lags=24)"
   ]
  },
  {
   "cell_type": "markdown",
   "id": "c369c1fa",
   "metadata": {},
   "source": [
    "<i>q=1 because after 1 lag the data is data is dropping"
   ]
  },
  {
   "cell_type": "code",
   "execution_count": 68,
   "id": "760d6f5c",
   "metadata": {
    "scrolled": false
   },
   "outputs": [
    {
     "data": {
      "image/png": "[encoded data removed]",
      "text/plain": [
       "<Figure size 432x288 with 1 Axes>"
      ]
     },
     "execution_count": 68,
     "metadata": {},
     "output_type": "execute_result"
    },
    {
     "data": {
      "image/png": "[encoded data removed]",
      "text/plain": [
       "<Figure size 432x288 with 1 Axes>"
      ]
     },
     "metadata": {
      "needs_background": "light"
     },
     "output_type": "display_data"
    }
   ],
   "source": [
    "smt.graphics.plot_pacf(yt,lags=24)"
   ]
  },
  {
   "cell_type": "markdown",
   "id": "84694118",
   "metadata": {},
   "source": [
    "<i>p=1 because after 1 lag the data is data is dropping"
   ]
  },
  {
   "cell_type": "code",
   "execution_count": 71,
   "id": "03eb12d3",
   "metadata": {},
   "outputs": [],
   "source": [
    "# Possible Values\n",
    "# (p,d,q)=(1,1,1)\n",
    "# (P,D,Q,T)=(1,0,1,12)"
   ]
  },
  {
   "cell_type": "code",
   "execution_count": 74,
   "id": "5b3d9841",
   "metadata": {},
   "outputs": [
    {
     "data": {
      "text/plain": [
       "[(0, 1, 0),\n",
       " (0, 1, 1),\n",
       " (0, 1, 2),\n",
       " (1, 1, 0),\n",
       " (1, 1, 1),\n",
       " (1, 1, 2),\n",
       " (2, 1, 0),\n",
       " (2, 1, 1),\n",
       " (2, 1, 2)]"
      ]
     },
     "execution_count": 74,
     "metadata": {},
     "output_type": "execute_result"
    }
   ],
   "source": [
    "p = [0,1,2]; q = [0,1,2];  d=[1]; P = [0,1,2];  Q = [0,1,2]; D= [0,1]\n",
    "list(itertools.product(p, d, q))"
   ]
  },
  {
   "cell_type": "code",
   "execution_count": 75,
   "id": "51a33f78",
   "metadata": {
    "scrolled": true
   },
   "outputs": [
    {
     "data": {
      "text/plain": [
       "[(0, 0, 0, 12),\n",
       " (0, 0, 1, 12),\n",
       " (0, 0, 2, 12),\n",
       " (0, 1, 0, 12),\n",
       " (0, 1, 1, 12),\n",
       " (0, 1, 2, 12),\n",
       " (1, 0, 0, 12),\n",
       " (1, 0, 1, 12),\n",
       " (1, 0, 2, 12),\n",
       " (1, 1, 0, 12),\n",
       " (1, 1, 1, 12),\n",
       " (1, 1, 2, 12),\n",
       " (2, 0, 0, 12),\n",
       " (2, 0, 1, 12),\n",
       " (2, 0, 2, 12),\n",
       " (2, 1, 0, 12),\n",
       " (2, 1, 1, 12),\n",
       " (2, 1, 2, 12)]"
      ]
     },
     "execution_count": 75,
     "metadata": {},
     "output_type": "execute_result"
    }
   ],
   "source": [
    "[(x[0], x[1], x[2], 12) for x in list(itertools.product(P, D, Q))]"
   ]
  },
  {
   "cell_type": "code",
   "execution_count": 77,
   "id": "3e538320",
   "metadata": {},
   "outputs": [],
   "source": [
    "def auto_arima(timeseries, regressors=None, p=range(0, 2), d=range(0, 1), q=range(0, 2),\n",
    "              P=range(0, 2), D=range(0, 1), Q=range(0, 2)):\n",
    "\n",
    "    # Generate all different combinations of p, d and q triplets\n",
    "    pdq = list(itertools.product(p, d, q))\n",
    "\n",
    "    # Generate all different combinations of seasonal p, q and q triplets\n",
    "    seasonal_pdq = [(x[0], x[1], x[2], 12) for x in list(itertools.product(P, D, Q))]\n",
    "    \n",
    "    warnings.filterwarnings(\"ignore\") # specify to ignore warning messages\n",
    "\n",
    "    best_aic = np.inf\n",
    "    best_pdq = None\n",
    "    best_seasonal_pdq = None\n",
    "    best_results = None\n",
    "    \n",
    "    for param in pdq:\n",
    "        for param_seasonal in seasonal_pdq:\n",
    "\n",
    "            try:\n",
    "                temp_model = sm.tsa.statespace.SARIMAX(endog=timeseries,\n",
    "                                                 exog=regressors,\n",
    "                                                 order = param,\n",
    "                                                 seasonal_order = param_seasonal,\n",
    "                                                 enforce_stationarity=False,\n",
    "                                                 enforce_invertibility=False)\n",
    "                temp_results = temp_model.fit()\n",
    "\n",
    "                print(\"SARIMAX{}x{}12 - AIC:{}\".format(param, param_seasonal, temp_results.aic))\n",
    "                \n",
    "                if temp_results.aic < best_aic:\n",
    "                    best_aic = temp_results.aic\n",
    "                    best_pdq = param\n",
    "                    best_seasonal_pdq = param_seasonal\n",
    "                    best_results = temp_results\n",
    "                \n",
    "            except:\n",
    "                #print(\"Unexpected error:\", sys.exc_info()[0])\n",
    "                continue\n",
    "    print(\"Best SARIMAX{}x{}12 model - AIC:{}\".format(best_pdq, best_seasonal_pdq, best_aic))\n",
    "    print(best_results.summary().tables[0])\n",
    "    print(best_results.summary().tables[1])\n",
    "    #return best_results"
   ]
  },
  {
   "cell_type": "code",
   "execution_count": 79,
   "id": "45d251f3",
   "metadata": {
    "scrolled": true
   },
   "outputs": [
    {
     "name": "stdout",
     "output_type": "stream",
     "text": [
      "SARIMAX(0, 0, 0)x(0, 0, 0, 12)12 - AIC:3225.9689567972073\n",
      "SARIMAX(0, 0, 0)x(0, 0, 1, 12)12 - AIC:2460.3880425650086\n",
      "SARIMAX(0, 0, 0)x(1, 0, 0, 12)12 - AIC:-2029.9478344670015\n",
      "SARIMAX(0, 0, 0)x(1, 0, 1, 12)12 - AIC:-2040.7168222627708\n",
      "SARIMAX(0, 0, 1)x(0, 0, 0, 12)12 - AIC:2459.5525874806476\n",
      "SARIMAX(0, 0, 1)x(0, 0, 1, 12)12 - AIC:1711.364834482791\n",
      "SARIMAX(0, 0, 1)x(1, 0, 0, 12)12 - AIC:-2344.897525871565\n",
      "SARIMAX(0, 0, 1)x(1, 0, 1, 12)12 - AIC:-2372.3419293785346\n",
      "SARIMAX(1, 0, 0)x(0, 0, 0, 12)12 - AIC:-1313.6045375680296\n",
      "SARIMAX(1, 0, 0)x(0, 0, 1, 12)12 - AIC:-1723.5593329735334\n",
      "SARIMAX(1, 0, 0)x(1, 0, 0, 12)12 - AIC:-2460.57648293653\n",
      "SARIMAX(1, 0, 0)x(1, 0, 1, 12)12 - AIC:-2634.145149995309\n",
      "SARIMAX(1, 0, 1)x(0, 0, 0, 12)12 - AIC:-1556.6009734573117\n",
      "SARIMAX(1, 0, 1)x(0, 0, 1, 12)12 - AIC:-1841.4010484621726\n",
      "SARIMAX(1, 0, 1)x(1, 0, 0, 12)12 - AIC:-2458.6680678926623\n",
      "SARIMAX(1, 0, 1)x(1, 0, 1, 12)12 - AIC:-2633.6143878432026\n",
      "Best SARIMAX(1, 0, 0)x(1, 0, 1, 12)12 model - AIC:-2634.145149995309\n",
      "                                      SARIMAX Results                                       \n",
      "============================================================================================\n",
      "Dep. Variable:         Electricty_Consumption_in_TW   No. Observations:                  561\n",
      "Model:             SARIMAX(1, 0, 0)x(1, 0, [1], 12)   Log Likelihood                1321.073\n",
      "Date:                              Wed, 29 Sep 2021   AIC                          -2634.145\n",
      "Time:                                      02:24:30   BIC                          -2616.920\n",
      "Sample:                                  01-01-1973   HQIC                         -2627.413\n",
      "                                       - 09-01-2019                                         \n",
      "Covariance Type:                                opg                                         \n",
      "============================================================================================\n",
      "==============================================================================\n",
      "                 coef    std err          z      P>|z|      [0.025      0.975]\n",
      "------------------------------------------------------------------------------\n",
      "ar.L1          0.9257      0.014     64.235      0.000       0.898       0.954\n",
      "ar.S.L12       1.0047      0.001   1573.303      0.000       1.003       1.006\n",
      "ma.S.L12      -0.7844      0.029    -26.714      0.000      -0.842      -0.727\n",
      "sigma2         0.0005   2.68e-05     17.195      0.000       0.000       0.001\n",
      "==============================================================================\n"
     ]
    }
   ],
   "source": [
    "best_results = auto_arima(log_Elec_Cons)"
   ]
  },
  {
   "cell_type": "code",
   "execution_count": 89,
   "id": "de5d6f57",
   "metadata": {},
   "outputs": [],
   "source": [
    "model = sm.tsa.statespace.SARIMAX(train, order = (1,0,1), seasonal_order= (1,0,1,12),\n",
    "                                             enforce_stationarity=False,\n",
    "                                             enforce_invertibility=False).fit()"
   ]
  },
  {
   "cell_type": "code",
   "execution_count": 90,
   "id": "cc21fc9a",
   "metadata": {},
   "outputs": [],
   "source": [
    "Forecast_SARIMAX_Train=np.exp(model.forecast(steps=165))"
   ]
  },
  {
   "cell_type": "code",
   "execution_count": 97,
   "id": "6716706b",
   "metadata": {},
   "outputs": [
    {
     "data": {
      "text/html": [
       "<div>\n",
       "<style scoped>\n",
       "    .dataframe tbody tr th:only-of-type {\n",
       "        vertical-align: middle;\n",
       "    }\n",
       "\n",
       "    .dataframe tbody tr th {\n",
       "        vertical-align: top;\n",
       "    }\n",
       "\n",
       "    .dataframe thead th {\n",
       "        text-align: right;\n",
       "    }\n",
       "</style>\n",
       "<table border=\"1\" class=\"dataframe\">\n",
       "  <thead>\n",
       "    <tr style=\"text-align: right;\">\n",
       "      <th></th>\n",
       "      <th>Electricty_Consumption_in_TW</th>\n",
       "      <th>predicted_mean</th>\n",
       "    </tr>\n",
       "  </thead>\n",
       "  <tbody>\n",
       "    <tr>\n",
       "      <th>2006-01-01</th>\n",
       "      <td>1.023155</td>\n",
       "      <td>1.055468</td>\n",
       "    </tr>\n",
       "    <tr>\n",
       "      <th>2006-02-01</th>\n",
       "      <td>0.929526</td>\n",
       "      <td>0.932140</td>\n",
       "    </tr>\n",
       "    <tr>\n",
       "      <th>2006-03-01</th>\n",
       "      <td>0.984756</td>\n",
       "      <td>0.955061</td>\n",
       "    </tr>\n",
       "    <tr>\n",
       "      <th>2006-04-01</th>\n",
       "      <td>0.924818</td>\n",
       "      <td>0.946334</td>\n",
       "    </tr>\n",
       "    <tr>\n",
       "      <th>2006-05-01</th>\n",
       "      <td>1.049104</td>\n",
       "      <td>1.053668</td>\n",
       "    </tr>\n",
       "    <tr>\n",
       "      <th>...</th>\n",
       "      <td>...</td>\n",
       "      <td>...</td>\n",
       "    </tr>\n",
       "    <tr>\n",
       "      <th>2019-05-01</th>\n",
       "      <td>1.094169</td>\n",
       "      <td>1.058445</td>\n",
       "    </tr>\n",
       "    <tr>\n",
       "      <th>2019-06-01</th>\n",
       "      <td>1.136003</td>\n",
       "      <td>1.127344</td>\n",
       "    </tr>\n",
       "    <tr>\n",
       "      <th>2019-07-01</th>\n",
       "      <td>1.101422</td>\n",
       "      <td>1.104527</td>\n",
       "    </tr>\n",
       "    <tr>\n",
       "      <th>2019-08-01</th>\n",
       "      <td>0.997339</td>\n",
       "      <td>1.007247</td>\n",
       "    </tr>\n",
       "    <tr>\n",
       "      <th>2019-09-01</th>\n",
       "      <td>0.900987</td>\n",
       "      <td>0.900870</td>\n",
       "    </tr>\n",
       "  </tbody>\n",
       "</table>\n",
       "<p>165 rows × 2 columns</p>\n",
       "</div>"
      ],
      "text/plain": [
       "            Electricty_Consumption_in_TW  predicted_mean\n",
       "2006-01-01                      1.023155        1.055468\n",
       "2006-02-01                      0.929526        0.932140\n",
       "2006-03-01                      0.984756        0.955061\n",
       "2006-04-01                      0.924818        0.946334\n",
       "2006-05-01                      1.049104        1.053668\n",
       "...                                  ...             ...\n",
       "2019-05-01                      1.094169        1.058445\n",
       "2019-06-01                      1.136003        1.127344\n",
       "2019-07-01                      1.101422        1.104527\n",
       "2019-08-01                      0.997339        1.007247\n",
       "2019-09-01                      0.900987        0.900870\n",
       "\n",
       "[165 rows x 2 columns]"
      ]
     },
     "execution_count": 97,
     "metadata": {},
     "output_type": "execute_result"
    }
   ],
   "source": [
    "pd.concat([pd.Series(np.exp(test)),pd.Series(Forecast_SARIMAX_Train)],axis=1)\n",
    "# Forecast_SARIMAX_Train"
   ]
  },
  {
   "cell_type": "markdown",
   "id": "fdfabacc",
   "metadata": {},
   "source": [
    "<center><h3>Below is the prediction for the next 1 year."
   ]
  },
  {
   "cell_type": "code",
   "execution_count": 96,
   "id": "aebc75a7",
   "metadata": {
    "scrolled": true
   },
   "outputs": [
    {
     "data": {
      "text/plain": [
       "2020-01-01    1.063227\n",
       "2020-02-01    0.928470\n",
       "2020-03-01    0.952599\n",
       "2020-04-01    0.942778\n",
       "2020-05-01    1.058787\n",
       "2020-06-01    1.128114\n",
       "2020-07-01    1.105153\n",
       "2020-08-01    1.007289\n",
       "2020-09-01    0.900335\n",
       "2020-10-01    0.891563\n",
       "2020-11-01    0.979857\n",
       "2020-12-01    1.105199\n",
       "Freq: MS, Name: predicted_mean, dtype: float64"
      ]
     },
     "execution_count": 96,
     "metadata": {},
     "output_type": "execute_result"
    }
   ],
   "source": [
    "np.exp(model.predict(start='2020-01-01',end='2020-12-01'))"
   ]
  },
  {
   "cell_type": "markdown",
   "id": "bcc702f9",
   "metadata": {},
   "source": [
    "<b><u>Notes:"
   ]
  },
  {
   "cell_type": "markdown",
   "id": "6a654f7c",
   "metadata": {},
   "source": [
    "SARIMA is chosen over ARIMA because there is seasonality present in the data. <br>\n",
    "Also when trying to fit ARIMA model, the output wasn't as expected thus, SARIMAX chosen over ARIMAX"
   ]
  },
  {
   "cell_type": "code",
   "execution_count": null,
   "id": "83b9489a",
   "metadata": {},
   "outputs": [],
   "source": []
  }
 ],
 "metadata": {
  "kernelspec": {
   "display_name": "Python 3 (ipykernel)",
   "language": "python",
   "name": "python3"
  },
  "language_info": {
   "codemirror_mode": {
    "name": "ipython",
    "version": 3
   },
   "file_extension": ".py",
   "mimetype": "text/x-python",
   "name": "python",
   "nbconvert_exporter": "python",
   "pygments_lexer": "ipython3",
   "version": "3.8.11"
  },
  "toc": {
   "base_numbering": 1,
   "nav_menu": {},
   "number_sections": true,
   "sideBar": true,
   "skip_h1_title": false,
   "title_cell": "Table of Contents",
   "title_sidebar": "Contents",
   "toc_cell": false,
   "toc_position": {},
   "toc_section_display": true,
   "toc_window_display": false
  },
  "varInspector": {
   "cols": {
    "lenName": 16,
    "lenType": 16,
    "lenVar": 40
   },
   "kernels_config": {
    "python": {
     "delete_cmd_postfix": "",
     "delete_cmd_prefix": "del ",
     "library": "var_list.py",
     "varRefreshCmd": "print(var_dic_list())"
    },
    "r": {
     "delete_cmd_postfix": ") ",
     "delete_cmd_prefix": "rm(",
     "library": "var_list.r",
     "varRefreshCmd": "cat(var_dic_list()) "
    }
   },
   "types_to_exclude": [
    "module",
    "function",
    "builtin_function_or_method",
    "instance",
    "_Feature"
   ],
   "window_display": false
  }
 },
 "nbformat": 4,
 "nbformat_minor": 5
}
